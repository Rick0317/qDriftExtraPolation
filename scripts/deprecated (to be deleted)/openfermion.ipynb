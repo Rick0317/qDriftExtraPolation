{
 "cells": [
  {
   "cell_type": "code",
   "execution_count": null,
   "id": "initial_id",
   "metadata": {
    "collapsed": true
   },
   "outputs": [],
   "source": [
    "from openfermion import FermionOperator, hermitian_conjugated, normal_ordered"
   ]
  },
  {
   "metadata": {},
   "cell_type": "code",
   "outputs": [],
   "execution_count": null,
   "source": [
    "def get_ferm_op_one(obt, spin_orb):\n",
    "    '''\n",
    "    Return the corresponding fermionic operators based on one body tensor\n",
    "    '''\n",
    "    n = obt.shape[0]\n",
    "    op = FermionOperator.zero()\n",
    "    for i in range(n):\n",
    "        for j in range(n):\n",
    "            if not spin_orb:\n",
    "                for a in range(2):\n",
    "                    op += FermionOperator(\n",
    "                        term = (\n",
    "                            (2*i+a, 1), (2*j+a, 0)\n",
    "                        ), coefficient=obt[i, j]\n",
    "                    )\n",
    "            else:\n",
    "                op += FermionOperator(\n",
    "                    term = (\n",
    "                        (i, 1), (j, 0)\n",
    "                    ), coefficient=obt[i, j]\n",
    "                )\n",
    "    return op"
   ],
   "id": "41700a0ce6743585"
  },
  {
   "metadata": {},
   "cell_type": "code",
   "outputs": [],
   "execution_count": null,
   "source": [
    "def get_ferm_op_two(tbt, spin_orb):\n",
    "    '''\n",
    "    Return the corresponding fermionic operators based on tbt (two body tensor)\n",
    "    This tensor can index over spin-orbtals or orbitals\n",
    "    '''\n",
    "    n = tbt.shape[0]\n",
    "    op = FermionOperator.zero()\n",
    "    for i in range(n):\n",
    "        for j in range(n):\n",
    "            for k in range(n):\n",
    "                for l in range(n):\n",
    "                    if not spin_orb:\n",
    "                        for a in range(2):\n",
    "                            for b in range(2):\n",
    "                                op += FermionOperator(\n",
    "                                    term = (\n",
    "                                        (2*i+a, 1), (2*j+a, 0),\n",
    "                                        (2*k+b, 1), (2*l+b, 0)\n",
    "                                    ), coefficient=tbt[i, j, k, l]\n",
    "                                )\n",
    "                    else:\n",
    "                        op += FermionOperator(\n",
    "                            term=(\n",
    "                                (i, 1), (j, 0),\n",
    "                                (k, 1), (l, 0)\n",
    "                            ), coefficient=tbt[i, j, k, l]\n",
    "                        )\n",
    "    return op"
   ],
   "id": "5ec4a95f1e7cb201"
  }
 ],
 "metadata": {
  "kernelspec": {
   "display_name": "Python 3",
   "language": "python",
   "name": "python3"
  },
  "language_info": {
   "codemirror_mode": {
    "name": "ipython",
    "version": 2
   },
   "file_extension": ".py",
   "mimetype": "text/x-python",
   "name": "python",
   "nbconvert_exporter": "python",
   "pygments_lexer": "ipython2",
   "version": "2.7.6"
  }
 },
 "nbformat": 4,
 "nbformat_minor": 5
}
