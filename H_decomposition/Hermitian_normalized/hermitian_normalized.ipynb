{
 "cells": [
  {
   "metadata": {},
   "cell_type": "markdown",
   "source": "# Decompose the Hamiltonian into a linear combination of Hermitian and normalized ",
   "id": "c82a51b6b56c2277"
  },
  {
   "metadata": {},
   "cell_type": "code",
   "outputs": [],
   "execution_count": null,
   "source": [
    "from H_data_storage.data_interface import TensorData, DecomposedHamiltonian\n",
    "import typing"
   ],
   "id": "9bed9103195879e8"
  },
  {
   "cell_type": "code",
   "execution_count": null,
   "id": "initial_id",
   "metadata": {
    "collapsed": true
   },
   "outputs": [],
   "source": [
    "def hermitian_normalized_decomposition(Hamiltonian):\n",
    "    \"\"\"\n",
    "    Hermitian normalized decomposition. We decompose the Hamiltonian so that each term is Hermitian and its largest\n",
    "    singular value is 1. They also need to be so that e^{itH_j} can be implemented on quantum hardware for any t.\n",
    "    :param Hamiltonian: The Hamiltonian to decompose\n",
    "    :return: \n",
    "    \"\"\"\n",
    "    if Hamiltonian is TensorData:\n",
    "        return Hamiltonian.decompose()\n",
    "    \n",
    "    # TODO: Implement other cases"
   ]
  }
 ],
 "metadata": {
  "kernelspec": {
   "display_name": "Python 3",
   "language": "python",
   "name": "python3"
  },
  "language_info": {
   "codemirror_mode": {
    "name": "ipython",
    "version": 2
   },
   "file_extension": ".py",
   "mimetype": "text/x-python",
   "name": "python",
   "nbconvert_exporter": "python",
   "pygments_lexer": "ipython2",
   "version": "2.7.6"
  }
 },
 "nbformat": 4,
 "nbformat_minor": 5
}
