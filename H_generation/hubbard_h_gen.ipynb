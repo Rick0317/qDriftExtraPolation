{
 "cells": [
  {
   "metadata": {},
   "cell_type": "markdown",
   "source": "# This is the code for generating the Hubbard model Hamiltonian",
   "id": "c7f3a38fadfb2fe1"
  },
  {
   "metadata": {
    "ExecuteTime": {
     "end_time": "2024-06-22T19:52:23.169735Z",
     "start_time": "2024-06-22T19:52:23.142346Z"
    }
   },
   "cell_type": "code",
   "source": [
    "import numpy as np\n",
    "import pickle\n",
    "from H_data_storage.data_interface import TensorData"
   ],
   "id": "5bf92761f4ab082c",
   "outputs": [],
   "execution_count": 43
  },
  {
   "metadata": {},
   "cell_type": "markdown",
   "source": "## Here are the codes to preapre each term in the Hubbard Hamilotonian",
   "id": "85b75cd9200a723d"
  },
  {
   "cell_type": "code",
   "id": "initial_id",
   "metadata": {
    "collapsed": true,
    "ExecuteTime": {
     "end_time": "2024-06-22T19:52:23.821219Z",
     "start_time": "2024-06-22T19:52:23.809551Z"
    }
   },
   "source": [
    "def get_t_term(t, spatial_orb):\n",
    "    \"\"\"\n",
    "    Prepares the t term of the Hubbard Hamiltonian.\n",
    "    :param t: The strength of the t term\n",
    "    :param spatial_orb: The number of spatial orbitals\n",
    "    :return: the t term tensor of the Hamilotnian and the 1d version of it.\n",
    "    \"\"\"\n",
    "    n = spatial_orb\n",
    "    tensor = np.zeros((2 * n, 2 * n))\n",
    "\n",
    "    one_body_1d = []\n",
    "    for i in range(n-1):\n",
    "        tensor[2 * i + 2, 2 * i] = 1\n",
    "        tensor[2 * i + 3, 2 * i + 1] = 1\n",
    "        tensor[2 * i, 2 * i + 2] = 1\n",
    "        tensor[2 * i + 1, 2 * i + 3] = 1\n",
    "        one_body_1d.append((2 * i + 2, 2 * i, t))\n",
    "        one_body_1d.append((2 * i + 3, 2 * i + 1, t))\n",
    "        one_body_1d.append((2 * i, 2 * i + 2, t))\n",
    "        one_body_1d.append((2 * i + 1, 2 * i + 3, t))\n",
    "    \n",
    "    one_body_1d_data = TensorData(spatial_orb, one_body_1d)\n",
    "    return tensor * t, one_body_1d_data\n",
    "\n",
    "\n",
    "def get_u_term(u, spatial_orb):\n",
    "    \"\"\"\n",
    "    Prepares the U term of the Hubbard Hamiltonian.\n",
    "    :param u: The strength of the u term\n",
    "    :param spatial_orb: The number of spatial orbitals\n",
    "    :return: The u term tensor of the Hubbard Hamilotnian and the 1D array version of the tensor.\n",
    "    \"\"\"\n",
    "    n = spatial_orb\n",
    "    tensor = np.zeros((2 * n, 2 * n, 2 * n, 2 * n))\n",
    "    \n",
    "    two_body_1d = []\n",
    "    for p in range(n):\n",
    "        tensor[2 * p, 2 * p, 2 * p + 1, 2 * p + 1] = 1\n",
    "        two_body_1d.append((2 * p, 2 * p, 2 * p + 1, 2 * p + 1, u))\n",
    "    \n",
    "    two_body_1d_data = TensorData(spatial_orb, two_body_1d)\n",
    "    return tensor * u, two_body_1d_data"
   ],
   "outputs": [],
   "execution_count": 44
  },
  {
   "metadata": {
    "ExecuteTime": {
     "end_time": "2024-06-22T19:52:23.982922Z",
     "start_time": "2024-06-22T19:52:23.977040Z"
    }
   },
   "cell_type": "code",
   "source": [
    "def test_hermitian(tensor):\n",
    "    \"\"\"\n",
    "    Given a tensor, tests whether it is Hermitian\n",
    "    :param tensor: The tensor to be tested\n",
    "    :return: \n",
    "    \"\"\"\n",
    "    n = tensor.shape[0]\n",
    "    if tensor.shape == (n, n):\n",
    "        for p in range(n):\n",
    "            for q in range(n):\n",
    "                assert tensor[p, q] == tensor[q, p], \"Hermitian test failed\"\n",
    "    elif tensor.shape == (n, n, n, n):\n",
    "        for p in range(n):\n",
    "            for q in range(n):\n",
    "                for r in range(n):\n",
    "                    for s in range(n):\n",
    "                        assert tensor[p, q, r, s] == tensor[q, p, r, s], \"Hermitian test failed\"\n",
    "                        assert tensor[p, q, r, s] == tensor[p, q, s, r], \"Hermitian test failed\"\n",
    "    else:\n",
    "        print(\"Tensor shape wrong\")\n",
    "    \n",
    "def test_t_term_symmetry(tensor):\n",
    "    \"\"\"\n",
    "    The t term should be symmetric. \n",
    "    :param tensor: The t-term tensor\n",
    "    :return: \n",
    "    \"\"\"\n",
    "    # TODO\n",
    "    \n",
    "def test_u_term():\n",
    "    \"\"\"\n",
    "    The u term should be\n",
    "    :return: \n",
    "    \"\"\"\n",
    "    # TODO"
   ],
   "id": "4e870084709e61aa",
   "outputs": [],
   "execution_count": 45
  },
  {
   "metadata": {},
   "cell_type": "markdown",
   "source": "## Set parameters",
   "id": "b45064db69f03925"
  },
  {
   "metadata": {
    "ExecuteTime": {
     "end_time": "2024-06-22T19:52:24.306898Z",
     "start_time": "2024-06-22T19:52:24.304785Z"
    }
   },
   "cell_type": "code",
   "source": [
    "t_strength = 1\n",
    "U_strength = 1\n",
    "spatial_orb = 2"
   ],
   "id": "e7dab7ebef59e9cc",
   "outputs": [],
   "execution_count": 46
  },
  {
   "metadata": {
    "ExecuteTime": {
     "end_time": "2024-06-22T19:52:24.563665Z",
     "start_time": "2024-06-22T19:52:24.536381Z"
    }
   },
   "cell_type": "code",
   "source": [
    "directory_path = \"../H_data_storage/Hubbard_models/\"\n",
    "file_name = \"Hubbard_t1_u1\""
   ],
   "id": "9f388e2db51e52cf",
   "outputs": [],
   "execution_count": 47
  },
  {
   "metadata": {},
   "cell_type": "markdown",
   "source": "## Construct Hubbard Hamiltonians",
   "id": "a03b4c8c9481cbc1"
  },
  {
   "metadata": {
    "ExecuteTime": {
     "end_time": "2024-06-22T19:52:25.013286Z",
     "start_time": "2024-06-22T19:52:25.008148Z"
    }
   },
   "cell_type": "code",
   "source": [
    "t_term, t_term_1d_data = get_t_term(t_strength, spatial_orb)\n",
    "u_term, u_term_1d_data = get_u_term(U_strength, spatial_orb)"
   ],
   "id": "de678d27d09230c7",
   "outputs": [],
   "execution_count": 48
  },
  {
   "metadata": {
    "ExecuteTime": {
     "end_time": "2024-06-22T19:52:25.250022Z",
     "start_time": "2024-06-22T19:52:25.247337Z"
    }
   },
   "cell_type": "code",
   "source": "print(t_term)",
   "id": "a1607089ed38f608",
   "outputs": [
    {
     "name": "stdout",
     "output_type": "stream",
     "text": [
      "[[0. 0. 1. 0.]\n",
      " [0. 0. 0. 1.]\n",
      " [1. 0. 0. 0.]\n",
      " [0. 1. 0. 0.]]\n"
     ]
    }
   ],
   "execution_count": 49
  },
  {
   "metadata": {
    "ExecuteTime": {
     "end_time": "2024-06-22T19:52:25.525539Z",
     "start_time": "2024-06-22T19:52:25.516682Z"
    }
   },
   "cell_type": "code",
   "source": [
    "data = dict()\n",
    "data[\"obt_data\"] = t_term_1d_data\n",
    "data[\"tbt_data\"] = u_term_1d_data\n",
    "\n",
    "with open(directory_path + file_name + \".pkl\", 'wb') as f:\n",
    "  pickle.dump(data, f)\n",
    "  \n",
    "print(\"Data saved\")"
   ],
   "id": "79e3cc25027369f7",
   "outputs": [
    {
     "name": "stdout",
     "output_type": "stream",
     "text": [
      "Data saved\n"
     ]
    }
   ],
   "execution_count": 50
  },
  {
   "metadata": {},
   "cell_type": "code",
   "outputs": [],
   "execution_count": null,
   "source": "",
   "id": "51ac6826b291b7eb"
  }
 ],
 "metadata": {
  "kernelspec": {
   "display_name": "Python 3",
   "language": "python",
   "name": "python3"
  },
  "language_info": {
   "codemirror_mode": {
    "name": "ipython",
    "version": 2
   },
   "file_extension": ".py",
   "mimetype": "text/x-python",
   "name": "python",
   "nbconvert_exporter": "python",
   "pygments_lexer": "ipython2",
   "version": "2.7.6"
  }
 },
 "nbformat": 4,
 "nbformat_minor": 5
}
