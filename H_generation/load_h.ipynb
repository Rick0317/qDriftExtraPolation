{
 "cells": [
  {
   "metadata": {},
   "cell_type": "markdown",
   "source": [
    "\n",
    "# This is the code to load the stored Hamiltonians data"
   ],
   "id": "b80c9b7f8d83a9cd"
  },
  {
   "metadata": {
    "ExecuteTime": {
     "end_time": "2024-06-22T19:52:34.994466Z",
     "start_time": "2024-06-22T19:52:34.865252Z"
    }
   },
   "cell_type": "code",
   "source": [
    "import pickle\n",
    "\n",
    "import numpy as np\n",
    "from typing import cast\n",
    "from H_data_storage.data_interface import TensorData"
   ],
   "id": "6c518058fbe8756c",
   "outputs": [],
   "execution_count": 10
  },
  {
   "cell_type": "code",
   "id": "initial_id",
   "metadata": {
    "collapsed": true,
    "ExecuteTime": {
     "end_time": "2024-06-22T19:52:35.096579Z",
     "start_time": "2024-06-22T19:52:35.094256Z"
    }
   },
   "source": [
    "directory_path = \"../H_data_storage/Hubbard_models/\"\n",
    "file_name = \"Hubbard_t1_u1\""
   ],
   "outputs": [],
   "execution_count": 11
  },
  {
   "metadata": {
    "ExecuteTime": {
     "end_time": "2024-06-22T19:53:54.286614Z",
     "start_time": "2024-06-22T19:53:54.269036Z"
    }
   },
   "cell_type": "code",
   "source": [
    "def get_obt_and_tbt(directory_path, file_name):\n",
    "    \"\"\"\n",
    "    Load the one-body tensor and the two-body tensor of the Hamiltonian stored in the given path\n",
    "    :param directory_path: \n",
    "    :param file_name: \n",
    "    :return: \n",
    "    \"\"\"\n",
    "    with open(directory_path + file_name + \".pkl\", \"rb\") as f:\n",
    "        loaded_data = pickle.load(f)\n",
    "        \n",
    "    return loaded_data[\"obt_data\"], loaded_data[\"tbt_data\"]\n",
    "\n",
    "def obt_from_1d(obt_1d):\n",
    "    \"\"\"\n",
    "    Convert a 1d version of the one-body tensor into the original one-body tensor\n",
    "    :param obt_1d: \n",
    "    :return: \n",
    "    \"\"\"\n",
    "    assert type(obt_1d) == TensorData, \"obt_1d should be a TensorData\"\n",
    "    \n",
    "    obt_data: TensorData = cast(TensorData, obt_1d)\n",
    "    n = obt_data.spatial_orb\n",
    "    obt = np.zeros((2 * n, 2 * n))\n",
    "    for elem in obt_data.tensor_1:\n",
    "        obt[elem[0], elem[1]] = elem[2]\n",
    "    \n",
    "    return obt\n",
    "\n",
    "def tbt_from_1d(tbt_1d):\n",
    "    \"\"\"\n",
    "    Convert a 1d version of the two-body tensor into the original two-body tensor\n",
    "    :param tbt_1d: \n",
    "    :return: \n",
    "    \"\"\"\n",
    "    assert type(tbt_1d) == TensorData, \"tbt_1d should be a TensorData\"\n",
    "    \n",
    "    tbt_data: TensorData = cast(TensorData, tbt_1d)\n",
    "    n = tbt_data.spatial_orb\n",
    "    tbt = np.zeros((2 * n, 2 * n, 2 * n, 2 * n))\n",
    "    for elem in tbt_data.tensor_1:\n",
    "        tbt[elem[0], elem[1], elem[2], elem[3]] = elem[4]\n",
    "    return tbt\n"
   ],
   "id": "73fa8c2d96798601",
   "outputs": [],
   "execution_count": 18
  },
  {
   "metadata": {
    "ExecuteTime": {
     "end_time": "2024-06-22T19:53:54.447856Z",
     "start_time": "2024-06-22T19:53:54.444686Z"
    }
   },
   "cell_type": "code",
   "source": "obt_data, tbt_data = get_obt_and_tbt(directory_path, file_name)",
   "id": "7f956b1fabfdbc8a",
   "outputs": [],
   "execution_count": 19
  },
  {
   "metadata": {
    "ExecuteTime": {
     "end_time": "2024-06-22T19:53:54.642047Z",
     "start_time": "2024-06-22T19:53:54.639999Z"
    }
   },
   "cell_type": "code",
   "source": "print(obt_data)",
   "id": "1962c32b65fa6d95",
   "outputs": [
    {
     "name": "stdout",
     "output_type": "stream",
     "text": [
      "<H_data_storage.data_interface.TensorData object at 0x10563d5e0>\n"
     ]
    }
   ],
   "execution_count": 20
  },
  {
   "metadata": {
    "ExecuteTime": {
     "end_time": "2024-06-22T19:53:55.128075Z",
     "start_time": "2024-06-22T19:53:55.125818Z"
    }
   },
   "cell_type": "code",
   "source": [
    "obt = obt_from_1d(obt_data)\n",
    "tbt = tbt_from_1d(tbt_data)"
   ],
   "id": "eca8c1bea778ead1",
   "outputs": [],
   "execution_count": 21
  },
  {
   "metadata": {
    "ExecuteTime": {
     "end_time": "2024-06-22T19:54:01.433718Z",
     "start_time": "2024-06-22T19:54:01.424995Z"
    }
   },
   "cell_type": "code",
   "source": "print(tbt)",
   "id": "aac31c02330f502e",
   "outputs": [
    {
     "name": "stdout",
     "output_type": "stream",
     "text": [
      "[[[[0. 0. 0. 0.]\n",
      "   [0. 1. 0. 0.]\n",
      "   [0. 0. 0. 0.]\n",
      "   [0. 0. 0. 0.]]\n",
      "\n",
      "  [[0. 0. 0. 0.]\n",
      "   [0. 0. 0. 0.]\n",
      "   [0. 0. 0. 0.]\n",
      "   [0. 0. 0. 0.]]\n",
      "\n",
      "  [[0. 0. 0. 0.]\n",
      "   [0. 0. 0. 0.]\n",
      "   [0. 0. 0. 0.]\n",
      "   [0. 0. 0. 0.]]\n",
      "\n",
      "  [[0. 0. 0. 0.]\n",
      "   [0. 0. 0. 0.]\n",
      "   [0. 0. 0. 0.]\n",
      "   [0. 0. 0. 0.]]]\n",
      "\n",
      "\n",
      " [[[0. 0. 0. 0.]\n",
      "   [0. 0. 0. 0.]\n",
      "   [0. 0. 0. 0.]\n",
      "   [0. 0. 0. 0.]]\n",
      "\n",
      "  [[0. 0. 0. 0.]\n",
      "   [0. 0. 0. 0.]\n",
      "   [0. 0. 0. 0.]\n",
      "   [0. 0. 0. 0.]]\n",
      "\n",
      "  [[0. 0. 0. 0.]\n",
      "   [0. 0. 0. 0.]\n",
      "   [0. 0. 0. 0.]\n",
      "   [0. 0. 0. 0.]]\n",
      "\n",
      "  [[0. 0. 0. 0.]\n",
      "   [0. 0. 0. 0.]\n",
      "   [0. 0. 0. 0.]\n",
      "   [0. 0. 0. 0.]]]\n",
      "\n",
      "\n",
      " [[[0. 0. 0. 0.]\n",
      "   [0. 0. 0. 0.]\n",
      "   [0. 0. 0. 0.]\n",
      "   [0. 0. 0. 0.]]\n",
      "\n",
      "  [[0. 0. 0. 0.]\n",
      "   [0. 0. 0. 0.]\n",
      "   [0. 0. 0. 0.]\n",
      "   [0. 0. 0. 0.]]\n",
      "\n",
      "  [[0. 0. 0. 0.]\n",
      "   [0. 0. 0. 0.]\n",
      "   [0. 0. 0. 0.]\n",
      "   [0. 0. 0. 1.]]\n",
      "\n",
      "  [[0. 0. 0. 0.]\n",
      "   [0. 0. 0. 0.]\n",
      "   [0. 0. 0. 0.]\n",
      "   [0. 0. 0. 0.]]]\n",
      "\n",
      "\n",
      " [[[0. 0. 0. 0.]\n",
      "   [0. 0. 0. 0.]\n",
      "   [0. 0. 0. 0.]\n",
      "   [0. 0. 0. 0.]]\n",
      "\n",
      "  [[0. 0. 0. 0.]\n",
      "   [0. 0. 0. 0.]\n",
      "   [0. 0. 0. 0.]\n",
      "   [0. 0. 0. 0.]]\n",
      "\n",
      "  [[0. 0. 0. 0.]\n",
      "   [0. 0. 0. 0.]\n",
      "   [0. 0. 0. 0.]\n",
      "   [0. 0. 0. 0.]]\n",
      "\n",
      "  [[0. 0. 0. 0.]\n",
      "   [0. 0. 0. 0.]\n",
      "   [0. 0. 0. 0.]\n",
      "   [0. 0. 0. 0.]]]]\n"
     ]
    }
   ],
   "execution_count": 23
  },
  {
   "metadata": {},
   "cell_type": "code",
   "outputs": [],
   "execution_count": null,
   "source": "",
   "id": "efffd132362fc20d"
  }
 ],
 "metadata": {
  "kernelspec": {
   "display_name": "Python 3",
   "language": "python",
   "name": "python3"
  },
  "language_info": {
   "codemirror_mode": {
    "name": "ipython",
    "version": 2
   },
   "file_extension": ".py",
   "mimetype": "text/x-python",
   "name": "python",
   "nbconvert_exporter": "python",
   "pygments_lexer": "ipython2",
   "version": "2.7.6"
  }
 },
 "nbformat": 4,
 "nbformat_minor": 5
}
