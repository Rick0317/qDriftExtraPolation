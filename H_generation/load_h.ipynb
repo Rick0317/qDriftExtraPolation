{
 "cells": [
  {
   "metadata": {},
   "cell_type": "markdown",
   "source": [
    "\n",
    "# This is the code to load the stored Hamiltonians data"
   ],
   "id": "b80c9b7f8d83a9cd"
  },
  {
   "metadata": {
    "ExecuteTime": {
     "end_time": "2024-06-26T21:34:18.259374Z",
     "start_time": "2024-06-26T21:34:18.251735Z"
    }
   },
   "cell_type": "code",
   "source": [
    "import pickle\n",
    "\n",
    "import numpy as np\n",
    "from typing import cast\n",
    "from H_data_storage.data_interface import TensorData\n",
    "import Utils.fermion_util.openfermion_util as of_util\n",
    "import openfermion as of"
   ],
   "id": "6c518058fbe8756c",
   "outputs": [],
   "execution_count": 12
  },
  {
   "cell_type": "code",
   "id": "initial_id",
   "metadata": {
    "collapsed": true,
    "ExecuteTime": {
     "end_time": "2024-06-26T21:32:39.954864Z",
     "start_time": "2024-06-26T21:32:39.952439Z"
    }
   },
   "source": [
    "directory_path = \"../H_data_storage/Hubbard_models/\"\n",
    "file_name = \"Hubbard_t1_u1\""
   ],
   "outputs": [],
   "execution_count": 3
  },
  {
   "metadata": {
    "ExecuteTime": {
     "end_time": "2024-06-26T21:32:40.546881Z",
     "start_time": "2024-06-26T21:32:40.537283Z"
    }
   },
   "cell_type": "code",
   "source": [
    "def get_obt_and_tbt(directory_path, file_name):\n",
    "    \"\"\"\n",
    "    Load the one-body tensor and the two-body tensor of the Hamiltonian stored in the given path\n",
    "    :param directory_path: \n",
    "    :param file_name: \n",
    "    :return: \n",
    "    \"\"\"\n",
    "    with open(directory_path + file_name + \".pkl\", \"rb\") as f:\n",
    "        loaded_data = pickle.load(f)\n",
    "        \n",
    "    return loaded_data[\"obt_data\"], loaded_data[\"tbt_data\"]\n",
    "\n",
    "def obt_from_1d(obt_1d):\n",
    "    \"\"\"\n",
    "    Convert a 1d version of the one-body tensor into the original one-body tensor\n",
    "    :param obt_1d: \n",
    "    :return: \n",
    "    \"\"\"\n",
    "    assert type(obt_1d) == TensorData, \"obt_1d should be a TensorData\"\n",
    "    \n",
    "    obt_data: TensorData = cast(TensorData, obt_1d)\n",
    "    n = obt_data.spatial_orb\n",
    "    obt = np.zeros((2 * n, 2 * n))\n",
    "    for elem in obt_data.tensor_1:\n",
    "        obt[elem[0], elem[1]] = elem[2]\n",
    "    \n",
    "    return obt\n",
    "\n",
    "def tbt_from_1d(tbt_1d):\n",
    "    \"\"\"\n",
    "    Convert a 1d version of the two-body tensor into the original two-body tensor\n",
    "    :param tbt_1d: \n",
    "    :return: \n",
    "    \"\"\"\n",
    "    assert type(tbt_1d) == TensorData, \"tbt_1d should be a TensorData\"\n",
    "    \n",
    "    tbt_data: TensorData = cast(TensorData, tbt_1d)\n",
    "    n = tbt_data.spatial_orb\n",
    "    tbt = np.zeros((2 * n, 2 * n, 2 * n, 2 * n))\n",
    "    for elem in tbt_data.tensor_1:\n",
    "        tbt[elem[0], elem[1], elem[2], elem[3]] = elem[4]\n",
    "    return tbt\n"
   ],
   "id": "73fa8c2d96798601",
   "outputs": [],
   "execution_count": 4
  },
  {
   "metadata": {
    "ExecuteTime": {
     "end_time": "2024-06-26T21:32:40.783014Z",
     "start_time": "2024-06-26T21:32:40.779078Z"
    }
   },
   "cell_type": "code",
   "source": "obt_data, tbt_data = get_obt_and_tbt(directory_path, file_name)",
   "id": "7f956b1fabfdbc8a",
   "outputs": [],
   "execution_count": 5
  },
  {
   "metadata": {
    "ExecuteTime": {
     "end_time": "2024-06-26T21:32:41.200227Z",
     "start_time": "2024-06-26T21:32:41.196936Z"
    }
   },
   "cell_type": "code",
   "source": "print(obt_data)",
   "id": "1962c32b65fa6d95",
   "outputs": [
    {
     "name": "stdout",
     "output_type": "stream",
     "text": [
      "<H_data_storage.data_interface.TensorData object at 0x17bc723a0>\n"
     ]
    }
   ],
   "execution_count": 6
  },
  {
   "metadata": {
    "ExecuteTime": {
     "end_time": "2024-06-26T21:32:42.005031Z",
     "start_time": "2024-06-26T21:32:41.999108Z"
    }
   },
   "cell_type": "code",
   "source": [
    "obt = obt_from_1d(obt_data)\n",
    "tbt = tbt_from_1d(tbt_data)"
   ],
   "id": "eca8c1bea778ead1",
   "outputs": [],
   "execution_count": 7
  },
  {
   "metadata": {
    "ExecuteTime": {
     "end_time": "2024-06-26T21:32:42.551237Z",
     "start_time": "2024-06-26T21:32:42.544439Z"
    }
   },
   "cell_type": "code",
   "source": "print(tbt)",
   "id": "aac31c02330f502e",
   "outputs": [
    {
     "name": "stdout",
     "output_type": "stream",
     "text": [
      "[[[[0. 0. 0. 0.]\n",
      "   [0. 1. 0. 0.]\n",
      "   [0. 0. 0. 0.]\n",
      "   [0. 0. 0. 0.]]\n",
      "\n",
      "  [[0. 0. 0. 0.]\n",
      "   [0. 0. 0. 0.]\n",
      "   [0. 0. 0. 0.]\n",
      "   [0. 0. 0. 0.]]\n",
      "\n",
      "  [[0. 0. 0. 0.]\n",
      "   [0. 0. 0. 0.]\n",
      "   [0. 0. 0. 0.]\n",
      "   [0. 0. 0. 0.]]\n",
      "\n",
      "  [[0. 0. 0. 0.]\n",
      "   [0. 0. 0. 0.]\n",
      "   [0. 0. 0. 0.]\n",
      "   [0. 0. 0. 0.]]]\n",
      "\n",
      "\n",
      " [[[0. 0. 0. 0.]\n",
      "   [0. 0. 0. 0.]\n",
      "   [0. 0. 0. 0.]\n",
      "   [0. 0. 0. 0.]]\n",
      "\n",
      "  [[0. 0. 0. 0.]\n",
      "   [0. 0. 0. 0.]\n",
      "   [0. 0. 0. 0.]\n",
      "   [0. 0. 0. 0.]]\n",
      "\n",
      "  [[0. 0. 0. 0.]\n",
      "   [0. 0. 0. 0.]\n",
      "   [0. 0. 0. 0.]\n",
      "   [0. 0. 0. 0.]]\n",
      "\n",
      "  [[0. 0. 0. 0.]\n",
      "   [0. 0. 0. 0.]\n",
      "   [0. 0. 0. 0.]\n",
      "   [0. 0. 0. 0.]]]\n",
      "\n",
      "\n",
      " [[[0. 0. 0. 0.]\n",
      "   [0. 0. 0. 0.]\n",
      "   [0. 0. 0. 0.]\n",
      "   [0. 0. 0. 0.]]\n",
      "\n",
      "  [[0. 0. 0. 0.]\n",
      "   [0. 0. 0. 0.]\n",
      "   [0. 0. 0. 0.]\n",
      "   [0. 0. 0. 0.]]\n",
      "\n",
      "  [[0. 0. 0. 0.]\n",
      "   [0. 0. 0. 0.]\n",
      "   [0. 0. 0. 0.]\n",
      "   [0. 0. 0. 1.]]\n",
      "\n",
      "  [[0. 0. 0. 0.]\n",
      "   [0. 0. 0. 0.]\n",
      "   [0. 0. 0. 0.]\n",
      "   [0. 0. 0. 0.]]]\n",
      "\n",
      "\n",
      " [[[0. 0. 0. 0.]\n",
      "   [0. 0. 0. 0.]\n",
      "   [0. 0. 0. 0.]\n",
      "   [0. 0. 0. 0.]]\n",
      "\n",
      "  [[0. 0. 0. 0.]\n",
      "   [0. 0. 0. 0.]\n",
      "   [0. 0. 0. 0.]\n",
      "   [0. 0. 0. 0.]]\n",
      "\n",
      "  [[0. 0. 0. 0.]\n",
      "   [0. 0. 0. 0.]\n",
      "   [0. 0. 0. 0.]\n",
      "   [0. 0. 0. 0.]]\n",
      "\n",
      "  [[0. 0. 0. 0.]\n",
      "   [0. 0. 0. 0.]\n",
      "   [0. 0. 0. 0.]\n",
      "   [0. 0. 0. 0.]]]]\n"
     ]
    }
   ],
   "execution_count": 8
  },
  {
   "metadata": {
    "ExecuteTime": {
     "end_time": "2024-06-26T21:34:24.046119Z",
     "start_time": "2024-06-26T21:34:24.039206Z"
    }
   },
   "cell_type": "code",
   "source": "of_hamil = of_util.get_ferm_op_one(obt, spin_orb=True) + of_util.get_ferm_op_two(tbt, spin_orb=True)",
   "id": "efffd132362fc20d",
   "outputs": [],
   "execution_count": 14
  },
  {
   "metadata": {
    "ExecuteTime": {
     "end_time": "2024-06-26T21:34:24.936459Z",
     "start_time": "2024-06-26T21:34:24.885170Z"
    }
   },
   "cell_type": "code",
   "source": [
    "sparse_op = of.get_sparse_operator(of_hamil)\n",
    "gse, gs = of.get_ground_state(sparse_op)"
   ],
   "id": "afcb806788b316b7",
   "outputs": [],
   "execution_count": 15
  },
  {
   "metadata": {
    "ExecuteTime": {
     "end_time": "2024-06-26T21:34:28.968484Z",
     "start_time": "2024-06-26T21:34:28.958678Z"
    }
   },
   "cell_type": "code",
   "source": "print(gse)",
   "id": "fa2e1fff72de6bb6",
   "outputs": [
    {
     "name": "stdout",
     "output_type": "stream",
     "text": [
      "-1.5615528128088312\n"
     ]
    }
   ],
   "execution_count": 16
  },
  {
   "metadata": {},
   "cell_type": "code",
   "outputs": [],
   "execution_count": null,
   "source": "",
   "id": "dd68e7dfd95bf0d6"
  }
 ],
 "metadata": {
  "kernelspec": {
   "display_name": "Python 3",
   "language": "python",
   "name": "python3"
  },
  "language_info": {
   "codemirror_mode": {
    "name": "ipython",
    "version": 2
   },
   "file_extension": ".py",
   "mimetype": "text/x-python",
   "name": "python",
   "nbconvert_exporter": "python",
   "pygments_lexer": "ipython2",
   "version": "2.7.6"
  }
 },
 "nbformat": 4,
 "nbformat_minor": 5
}
