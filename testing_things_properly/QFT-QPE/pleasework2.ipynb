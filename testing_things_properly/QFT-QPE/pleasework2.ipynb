{
 "cells": [
  {
   "cell_type": "code",
   "execution_count": 1,
   "id": "d0504d51",
   "metadata": {},
   "outputs": [],
   "source": [
    "#initialization\n",
    "import matplotlib.pyplot as plt\n",
    "import numpy as np\n",
    "import math\n",
    "\n",
    "from qiskit import transpile\n",
    "from qiskit_aer import AerSimulator  # as of 25Mar2025\n",
    "from qiskit import QuantumCircuit, QuantumRegister, ClassicalRegister\n",
    "from qiskit.circuit.library import QFT, UnitaryGate, PhaseGate, RZGate\n",
    "from qiskit.quantum_info import Operator\n",
    "\n",
    "# import basic plot tools\n",
    "from qiskit.visualization import plot_histogram"
   ]
  },
  {
   "cell_type": "code",
   "execution_count": 2,
   "id": "00cb5fdc",
   "metadata": {},
   "outputs": [],
   "source": [
    "def standard_qpe(unitary: Operator, eigenstate: QuantumCircuit, num_ancilla: int) -> QuantumCircuit:\n",
    "    \"\"\"Constructs a standard Quantum Phase Estimation (QPE) circuit using repeated controlled-U applications.\"\"\"\n",
    "    num_qubits = unitary.num_qubits\n",
    "    qc = QuantumCircuit(num_ancilla + num_qubits, num_ancilla)\n",
    "\n",
    "    # Prepare eigenstate on system qubits\n",
    "    qc.append(eigenstate, range(num_ancilla, num_ancilla + num_qubits))\n",
    "\n",
    "    # Apply Hadamard gates to ancilla qubits\n",
    "    qc.h(range(num_ancilla))\n",
    "\n",
    "    # Apply controlled-U^(2^k) using repeated controlled applications of U\n",
    "    for k in range(num_ancilla):\n",
    "        controlled_U = UnitaryGate(unitary.data).control(1, label=f\"U\")\n",
    "        \n",
    "        # Apply controlled-U 2^k times\n",
    "        for _ in range(2**k):  \n",
    "            qc.append(controlled_U, [k] + list(range(num_ancilla, num_ancilla + num_qubits)))\n",
    "\n",
    "    # Apply inverse QFT on ancilla qubits\n",
    "    qc.append(QFT(num_ancilla, inverse=True, do_swaps=True), range(num_ancilla))\n",
    "\n",
    "    # Measure ancilla qubits\n",
    "    qc.measure(range(num_ancilla), range(num_ancilla))\n",
    "\n",
    "    return qc"
   ]
  },
  {
   "cell_type": "markdown",
   "id": "a30c4ced",
   "metadata": {},
   "source": [
    "SANITY CHECK:\n",
    "\n",
    "$$ U = \\begin{pmatrix}\n",
    "                    1 & 0 \\\\\n",
    "                    0 & e^{i\\theta}\n",
    "                \\end{pmatrix} $$\n",
    "\n",
    "So, for $|\\lambda \\rangle = |1\\rangle$  we have $U |1\\rangle = e^{i\\theta} |1\\rangle$ \n",
    "\n",
    "In happy cases, we have $ \\theta = \\frac{2 \\pi k}{2^n} $ where $k$ is an integer and $n$ is the number of ancilla qubits and the number read in the ancila register willbe exactly $k$.\n",
    "\n",
    "Experiments:\n",
    "Let n = 3, so we have 3 ancilla qubits. The possible values of $k$ are $0, 1, 2, 3, 4, 5, 6, 7$.\n",
    "- $k = 1 \\implies \\theta = \\frac{2 \\pi}{8} = \\frac{\\pi}{4}$\n",
    "- $k = 2 \\implies \\theta = \\frac{4 \\pi}{8} = \\frac{\\pi}{2}$\n",
    "- $k = 3 \\implies \\theta = \\frac{6 \\pi}{8} = \\frac{3\\pi}{4}$\n",
    "- $k = 4 \\implies \\theta = \\frac{8 \\pi}{8} = \\pi$\n",
    "- $k = 5 \\implies \\theta = \\frac{10 \\pi}{8} = \\frac{5\\pi}{4}$\n",
    "- $k = 6 \\implies \\theta = \\frac{12 \\pi}{8} = \\frac{3\\pi}{2}$\n",
    "- $k = 7 \\implies \\theta = \\frac{14 \\pi}{8} = \\frac{7\\pi}{4}$\n",
    "..."
   ]
  },
  {
   "cell_type": "code",
   "execution_count": 7,
   "id": "2344be33",
   "metadata": {},
   "outputs": [
    {
     "name": "stdout",
     "output_type": "stream",
     "text": [
      "Most probable outcome for phase 0.7853981633974483: 001\n",
      "Estimated phase: 0.7853981633974483\n",
      "Most probable outcome for phase 1.5707963267948966: 010\n",
      "Estimated phase: 1.5707963267948966\n",
      "Most probable outcome for phase 2.356194490192345: 011\n",
      "Estimated phase: 2.356194490192345\n"
     ]
    }
   ],
   "source": [
    "def test_general_qpe_with_parametrized_phase(phase, expected_bin):\n",
    "    unitary = Operator(PhaseGate(phase))\n",
    "    \n",
    "    eigenstate = QuantumCircuit(1)\n",
    "    eigenstate.x(0)\n",
    "\n",
    "    num_ancilla = 3\n",
    "    shots = 1024\n",
    "    qc = standard_qpe(unitary, eigenstate, num_ancilla)\n",
    "\n",
    "    simulator = AerSimulator()\n",
    "    job = simulator.run(transpile(qc, simulator), shots=shots)\n",
    "    result = job.result()\n",
    "    counts = result.get_counts(qc)\n",
    "    most_probable = max(counts, key=counts.get)\n",
    "    assert most_probable.startswith(expected_bin), f\"Expected prefix {expected_bin}, got {most_probable}\"\n",
    "\n",
    "    plot_histogram(counts).savefig(f\"output_general_phase_{round(phase, 3)}.png\")\n",
    "\n",
    "easy_test_cases = [np.pi/4, np.pi/2, 3*np.pi/4]\n",
    "for phase in easy_test_cases:\n",
    "    U = Operator(PhaseGate(phase))\n",
    "    eigenstate = QuantumCircuit(1)\n",
    "    eigenstate.x(0)\n",
    "    num_ancilla = 3\n",
    "    shots = 1024\n",
    "    qc = standard_qpe(U, eigenstate, num_ancilla)\n",
    "    qc.draw(\"mpl\").savefig(f\"circuit_general_phase_{round(phase, 3)}.png\")\n",
    "\n",
    "    simulator = AerSimulator()\n",
    "    job = simulator.run(transpile(qc, simulator), shots=shots)\n",
    "    result = job.result()\n",
    "    counts = result.get_counts(qc)\n",
    "    most_probable = max(counts, key=counts.get)\n",
    "    print(f\"Most probable outcome for phase {phase}: {most_probable}\")\n",
    "    print(\"Estimated phase:\", math.pi * 2 * int(most_probable, 2) / (2**3))"
   ]
  }
 ],
 "metadata": {
  "kernelspec": {
   "display_name": "quantum_stuff",
   "language": "python",
   "name": "python3"
  },
  "language_info": {
   "codemirror_mode": {
    "name": "ipython",
    "version": 3
   },
   "file_extension": ".py",
   "mimetype": "text/x-python",
   "name": "python",
   "nbconvert_exporter": "python",
   "pygments_lexer": "ipython3",
   "version": "3.13.1"
  }
 },
 "nbformat": 4,
 "nbformat_minor": 5
}
