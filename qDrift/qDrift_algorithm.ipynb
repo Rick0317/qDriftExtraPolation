{
 "cells": [
  {
   "cell_type": "code",
   "execution_count": null,
   "id": "987cc2cacd97851c",
   "metadata": {},
   "outputs": [],
   "source": [
    "import numpy as np\n",
    "import math\n",
    "import random # for random sampling\n",
    "from scipy import linalg # for exponentials of matrices\n",
    "from functools import reduce # for pi-product"
   ]
  },
  {
   "cell_type": "code",
   "execution_count": null,
   "id": "8e9e6af3",
   "metadata": {},
   "outputs": [],
   "source": [
    "t = 6000 # global variable for the simulation time"
   ]
  },
  {
   "cell_type": "code",
   "execution_count": null,
   "id": "initial_id",
   "metadata": {
    "collapsed": true
   },
   "outputs": [],
   "source": [
    "def qDrift(hamiltonian_terms: list[tuple[float,list]], sample, epsilon: float):\n",
    "    \"\"\"The qDrift protocol. The variable names follow the definition in the \"Random Compiler for Fast Hamiltonian Simulation\" paper.\n",
    "    \n",
    "    :param hamiltonian_terms: A list of Hamiltonian terms stored as tuple(coefficient, tensor)\n",
    "    :param sample: the classicaloracle function SAMPLE() \n",
    "    :param epsilon: target precision\n",
    "    :return: v_list: a list of sampled unitaries of the exponential form\n",
    "    \"\"\"\n",
    "    lm = sum(term[0] for term in hamiltonian_terms)\n",
    "    N = math.ceil( 2 * (lm ** 2) * (t ** 2) / epsilon)\n",
    "    i = 0\n",
    "    v_list = []\n",
    "    while i < N:\n",
    "        i = i + 1\n",
    "        j = sample()\n",
    "        v_list.append(linalg.expm( 1j * lm * t * hamiltonian_terms[j][1] / N))\n",
    "    \n",
    "    return v_list"
   ]
  }
 ],
 "metadata": {
  "kernelspec": {
   "display_name": "Python 3",
   "language": "python",
   "name": "python3"
  },
  "language_info": {
   "codemirror_mode": {
    "name": "ipython",
    "version": 2
   },
   "file_extension": ".py",
   "mimetype": "text/x-python",
   "name": "python",
   "nbconvert_exporter": "python",
   "pygments_lexer": "ipython2",
   "version": "3.12.0"
  }
 },
 "nbformat": 4,
 "nbformat_minor": 5
}
