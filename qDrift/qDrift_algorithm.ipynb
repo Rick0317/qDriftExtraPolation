{
 "cells": [
  {
   "metadata": {},
   "cell_type": "code",
   "outputs": [],
   "execution_count": null,
   "source": [
    "import numpy as np\n",
    "import math"
   ],
   "id": "987cc2cacd97851c"
  },
  {
   "cell_type": "code",
   "execution_count": null,
   "id": "initial_id",
   "metadata": {
    "collapsed": true
   },
   "outputs": [],
   "source": [
    "def to_gates(hamiltonian):\n",
    "    \"\"\"\n",
    "    Converts exponential of a tensor into a list of unitary gates.\n",
    "    :param hamiltonian: \n",
    "    :return: \n",
    "    \"\"\"\n",
    "    # TODO\n",
    "\n",
    "def qDrift(hamiltonian_terms: list[tuple], sample, epsilon: float):\n",
    "    \"\"\"\n",
    "    The qDrift protocol. The variable names follow the definition in the \"Random Compiler for Fast Hamiltonian Simulation\" paper.\n",
    "    :param hamiltonian_terms: A list of Hamiltonian terms stored as tuple(coefficient, tensor)\n",
    "    :param sample: the classicaloracle function SAMPLE() \n",
    "    :param epsilon: target precision\n",
    "    :return: \n",
    "    \"\"\"\n",
    "    s = sum(term[0] for term in hamiltonian_terms)\n",
    "    t = 1\n",
    "    N = math.ceil( 2 * (s ** 2) * (t ** 2) / epsilon)\n",
    "    i = 0\n",
    "    v_list = []\n",
    "    while i < N:\n",
    "        i = i + 1\n",
    "        j = sample()\n",
    "        v_list.append(to_gates( s * t * hamiltonian_terms[j][1] / N))\n",
    "    \n",
    "    return v_list"
   ]
  }
 ],
 "metadata": {
  "kernelspec": {
   "display_name": "Python 3",
   "language": "python",
   "name": "python3"
  },
  "language_info": {
   "codemirror_mode": {
    "name": "ipython",
    "version": 2
   },
   "file_extension": ".py",
   "mimetype": "text/x-python",
   "name": "python",
   "nbconvert_exporter": "python",
   "pygments_lexer": "ipython2",
   "version": "2.7.6"
  }
 },
 "nbformat": 4,
 "nbformat_minor": 5
}
