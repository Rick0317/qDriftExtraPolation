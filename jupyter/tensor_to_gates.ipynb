{
 "cells": [
  {
   "metadata": {},
   "cell_type": "markdown",
   "source": [
    "# This code compiles tensors to unitary gates"
   ],
   "id": "47d04bcd893f1073"
  },
  {
   "cell_type": "code",
   "id": "initial_id",
   "metadata": {
    "collapsed": true,
    "ExecuteTime": {
     "end_time": "2024-06-23T19:59:35.860860Z",
     "start_time": "2024-06-23T19:59:35.855989Z"
    }
   },
   "source": [
    "import numpy as np\n",
    "from qiskit.circuit.library import UnitaryGate\n",
    "from qiskit.quantum_info.operators import Operator, SparsePauliOp\n",
    "import scipy"
   ],
   "outputs": [],
   "execution_count": 17
  },
  {
   "metadata": {
    "ExecuteTime": {
     "end_time": "2024-06-23T19:59:36.105184Z",
     "start_time": "2024-06-23T19:59:36.099482Z"
    }
   },
   "cell_type": "code",
   "source": [
    "def unitary_to_unitary_gate(unitary: np.ndarray):\n",
    "    \"\"\"\n",
    "    Converts a tensor to unitary gates\n",
    "    :param tensor: \n",
    "    :return: \n",
    "    \"\"\"\n",
    "    unitary_gate = UnitaryGate(unitary)\n",
    "    print(unitary_gate)\n",
    "    return unitary_gate\n",
    "\n",
    "def unitary_to_sparse_pauli(unitary: np.ndarray):\n",
    "    \"\"\"\n",
    "    Converts a tensor to sparse pauli operator\n",
    "    :param tensor: \n",
    "    :return: \n",
    "    \"\"\"\n",
    "    operator = Operator(unitary)\n",
    "    return SparsePauliOp.from_operator(operator)\n"
   ],
   "id": "53997f868b300df1",
   "outputs": [],
   "execution_count": 18
  },
  {
   "metadata": {},
   "cell_type": "code",
   "outputs": [],
   "execution_count": null,
   "source": [
    "def matrix_to_sparse_pauli(tensor: np.ndarray):\n",
    "    \"\"\"\n",
    "    Converts a matrix to sparse pauli operator\n",
    "    :param tensor: \n",
    "    :return: \n",
    "    \"\"\"\n",
    "    unitary = scipy.linalg.expm(tensor)\n",
    "    return unitary_to_sparse_pauli(unitary)"
   ],
   "id": "1bb89aa022a15d"
  },
  {
   "metadata": {
    "ExecuteTime": {
     "end_time": "2024-06-23T19:59:43.447273Z",
     "start_time": "2024-06-23T19:59:43.431042Z"
    }
   },
   "cell_type": "code",
   "source": [
    "unitary = [[0, 0, 0, 1],\n",
    "          [0, 0, 1, 0],\n",
    "          [1, 0, 0, 0],\n",
    "          [0, 1, 0, 0]]\n",
    "\n",
    "gate = unitary_to_sparse_pauli(unitary)\n",
    "print(gate)"
   ],
   "id": "859159433307c3e8",
   "outputs": [
    {
     "name": "stdout",
     "output_type": "stream",
     "text": [
      "SparsePauliOp(['XI', 'XX', 'YI', 'YX'],\n",
      "              coeffs=[ 0.5+0.j ,  0.5+0.j , -0. -0.5j,  0. +0.5j])\n"
     ]
    }
   ],
   "execution_count": 20
  },
  {
   "metadata": {},
   "cell_type": "code",
   "outputs": [],
   "execution_count": null,
   "source": [],
   "id": "f757fbe29b81503c"
  }
 ],
 "metadata": {
  "kernelspec": {
   "display_name": "Python 3",
   "language": "python",
   "name": "python3"
  },
  "language_info": {
   "codemirror_mode": {
    "name": "ipython",
    "version": 2
   },
   "file_extension": ".py",
   "mimetype": "text/x-python",
   "name": "python",
   "nbconvert_exporter": "python",
   "pygments_lexer": "ipython2",
   "version": "2.7.6"
  }
 },
 "nbformat": 4,
 "nbformat_minor": 5
}
