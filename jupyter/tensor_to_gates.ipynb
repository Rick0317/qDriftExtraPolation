{
 "cells": [
  {
   "metadata": {},
   "cell_type": "markdown",
   "source": [
    "# This code compiles tensors to unitary gates"
   ],
   "id": "47d04bcd893f1073"
  },
  {
   "cell_type": "code",
   "id": "initial_id",
   "metadata": {
    "collapsed": true,
    "ExecuteTime": {
     "end_time": "2024-07-01T22:40:07.462377Z",
     "start_time": "2024-07-01T22:40:05.998366Z"
    }
   },
   "source": [
    "import numpy as np\n",
    "from qiskit.circuit.library import UnitaryGate\n",
    "from qiskit.quantum_info.operators import Operator, SparsePauliOp\n",
    "import scipy\n",
    "from scripts.database import Hubbard, DataManager, Tensor"
   ],
   "outputs": [],
   "execution_count": 1
  },
  {
   "metadata": {
    "ExecuteTime": {
     "end_time": "2024-07-01T22:40:08.348270Z",
     "start_time": "2024-07-01T22:40:08.344593Z"
    }
   },
   "cell_type": "code",
   "source": [
    "def unitary_to_unitary_gate(unitary: np.ndarray):\n",
    "    \"\"\"\n",
    "    Converts a tensor to unitary gates\n",
    "    :param tensor: \n",
    "    :return: \n",
    "    \"\"\"\n",
    "    unitary_gate = UnitaryGate(unitary)\n",
    "    print(unitary_gate)\n",
    "    return unitary_gate\n",
    "\n",
    "def unitary_to_sparse_pauli(unitary: np.ndarray):\n",
    "    \"\"\"\n",
    "    Converts a tensor to sparse pauli operator\n",
    "    :param tensor: \n",
    "    :return: \n",
    "    \"\"\"\n",
    "    operator = Operator(unitary)\n",
    "    return SparsePauliOp.from_operator(operator)\n"
   ],
   "id": "53997f868b300df1",
   "outputs": [],
   "execution_count": 2
  },
  {
   "metadata": {
    "ExecuteTime": {
     "end_time": "2024-07-01T22:40:08.785894Z",
     "start_time": "2024-07-01T22:40:08.780582Z"
    }
   },
   "cell_type": "code",
   "source": [
    "def matrix_to_sparse_pauli(tensor: np.ndarray):\n",
    "    \"\"\"\n",
    "    Converts a matrix to sparse pauli operator\n",
    "    :param tensor: \n",
    "    :return: \n",
    "    \"\"\"\n",
    "    unitary = scipy.linalg.expm(tensor)\n",
    "    return unitary_to_sparse_pauli(unitary)"
   ],
   "id": "1bb89aa022a15d",
   "outputs": [],
   "execution_count": 3
  },
  {
   "metadata": {
    "ExecuteTime": {
     "end_time": "2024-07-01T22:40:09.089200Z",
     "start_time": "2024-07-01T22:40:09.082164Z"
    }
   },
   "cell_type": "code",
   "source": [
    "h = Hubbard(2)  # create a Hubbard model of two spatial orbitals\n",
    "h.decompose(1, 3)  # decompose into one- and two-body terms with coefficients of 1s\n",
    "hd = h.get_decomp()  # get decomposition info\n",
    "obt = hd.get_term('obt')  # get the one-body term\n",
    "print(obt.matrix_1d)"
   ],
   "id": "8541c0b5d83c0b3f",
   "outputs": [
    {
     "name": "stdout",
     "output_type": "stream",
     "text": [
      "[(2, 0, 1), (3, 1, 1), (0, 2, 1), (1, 3, 1)]\n"
     ]
    }
   ],
   "execution_count": 4
  },
  {
   "metadata": {
    "ExecuteTime": {
     "end_time": "2024-07-01T22:40:10.420077Z",
     "start_time": "2024-07-01T22:40:10.409571Z"
    }
   },
   "cell_type": "code",
   "source": [
    "unitary = [[0, 0, 0, 1],\n",
    "          [0, 0, 1, 0],\n",
    "          [1, 0, 0, 0],\n",
    "          [0, 1, 0, 0]]\n",
    "\n",
    "gate = unitary_to_sparse_pauli(unitary)\n",
    "print(gate)"
   ],
   "id": "859159433307c3e8",
   "outputs": [
    {
     "name": "stdout",
     "output_type": "stream",
     "text": [
      "SparsePauliOp(['XI', 'XX', 'YI', 'YX'],\n",
      "              coeffs=[ 0.5+0.j ,  0.5+0.j , -0. -0.5j,  0. +0.5j])\n"
     ]
    }
   ],
   "execution_count": 5
  },
  {
   "metadata": {
    "ExecuteTime": {
     "end_time": "2024-07-01T22:40:34.624549Z",
     "start_time": "2024-07-01T22:40:34.611649Z"
    }
   },
   "cell_type": "code",
   "source": [
    "tbt = hd.get_term('tbt')\n",
    "print(tbt.matrix)"
   ],
   "id": "f757fbe29b81503c",
   "outputs": [
    {
     "name": "stdout",
     "output_type": "stream",
     "text": [
      "[[[[0. 0. 0. 0.]\n",
      "   [0. 1. 0. 0.]\n",
      "   [0. 0. 0. 0.]\n",
      "   [0. 0. 0. 0.]]\n",
      "\n",
      "  [[0. 0. 0. 0.]\n",
      "   [0. 0. 0. 0.]\n",
      "   [0. 0. 0. 0.]\n",
      "   [0. 0. 0. 0.]]\n",
      "\n",
      "  [[0. 0. 0. 0.]\n",
      "   [0. 0. 0. 0.]\n",
      "   [0. 0. 0. 0.]\n",
      "   [0. 0. 0. 0.]]\n",
      "\n",
      "  [[0. 0. 0. 0.]\n",
      "   [0. 0. 0. 0.]\n",
      "   [0. 0. 0. 0.]\n",
      "   [0. 0. 0. 0.]]]\n",
      "\n",
      "\n",
      " [[[0. 0. 0. 0.]\n",
      "   [0. 0. 0. 0.]\n",
      "   [0. 0. 0. 0.]\n",
      "   [0. 0. 0. 0.]]\n",
      "\n",
      "  [[0. 0. 0. 0.]\n",
      "   [0. 0. 0. 0.]\n",
      "   [0. 0. 0. 0.]\n",
      "   [0. 0. 0. 0.]]\n",
      "\n",
      "  [[0. 0. 0. 0.]\n",
      "   [0. 0. 0. 0.]\n",
      "   [0. 0. 0. 0.]\n",
      "   [0. 0. 0. 0.]]\n",
      "\n",
      "  [[0. 0. 0. 0.]\n",
      "   [0. 0. 0. 0.]\n",
      "   [0. 0. 0. 0.]\n",
      "   [0. 0. 0. 0.]]]\n",
      "\n",
      "\n",
      " [[[0. 0. 0. 0.]\n",
      "   [0. 0. 0. 0.]\n",
      "   [0. 0. 0. 0.]\n",
      "   [0. 0. 0. 0.]]\n",
      "\n",
      "  [[0. 0. 0. 0.]\n",
      "   [0. 0. 0. 0.]\n",
      "   [0. 0. 0. 0.]\n",
      "   [0. 0. 0. 0.]]\n",
      "\n",
      "  [[0. 0. 0. 0.]\n",
      "   [0. 0. 0. 0.]\n",
      "   [0. 0. 0. 0.]\n",
      "   [0. 0. 0. 1.]]\n",
      "\n",
      "  [[0. 0. 0. 0.]\n",
      "   [0. 0. 0. 0.]\n",
      "   [0. 0. 0. 0.]\n",
      "   [0. 0. 0. 0.]]]\n",
      "\n",
      "\n",
      " [[[0. 0. 0. 0.]\n",
      "   [0. 0. 0. 0.]\n",
      "   [0. 0. 0. 0.]\n",
      "   [0. 0. 0. 0.]]\n",
      "\n",
      "  [[0. 0. 0. 0.]\n",
      "   [0. 0. 0. 0.]\n",
      "   [0. 0. 0. 0.]\n",
      "   [0. 0. 0. 0.]]\n",
      "\n",
      "  [[0. 0. 0. 0.]\n",
      "   [0. 0. 0. 0.]\n",
      "   [0. 0. 0. 0.]\n",
      "   [0. 0. 0. 0.]]\n",
      "\n",
      "  [[0. 0. 0. 0.]\n",
      "   [0. 0. 0. 0.]\n",
      "   [0. 0. 0. 0.]\n",
      "   [0. 0. 0. 0.]]]]\n"
     ]
    }
   ],
   "execution_count": 6
  },
  {
   "metadata": {
    "ExecuteTime": {
     "end_time": "2024-07-01T22:41:14.191761Z",
     "start_time": "2024-07-01T22:41:14.171295Z"
    }
   },
   "cell_type": "code",
   "source": "unitary2 = scipy.linalg.expm(tbt.matrix)",
   "id": "2e158b78a00b8f48",
   "outputs": [],
   "execution_count": 8
  },
  {
   "metadata": {
    "ExecuteTime": {
     "end_time": "2024-07-01T22:41:26.529869Z",
     "start_time": "2024-07-01T22:41:26.410966Z"
    }
   },
   "cell_type": "code",
   "source": "unitary_to_sparse_pauli(unitary2)",
   "id": "464bce00c6cc879a",
   "outputs": [
    {
     "ename": "QiskitError",
     "evalue": "'Input shape is not 1 or 2-dimensional (shape = (4, 4, 4, 4))'",
     "output_type": "error",
     "traceback": [
      "\u001B[0;31m---------------------------------------------------------------------------\u001B[0m",
      "\u001B[0;31mQiskitError\u001B[0m                               Traceback (most recent call last)",
      "Cell \u001B[0;32mIn[10], line 1\u001B[0m\n\u001B[0;32m----> 1\u001B[0m \u001B[43munitary_to_sparse_pauli\u001B[49m\u001B[43m(\u001B[49m\u001B[43munitary2\u001B[49m\u001B[43m)\u001B[49m\n",
      "Cell \u001B[0;32mIn[2], line 17\u001B[0m, in \u001B[0;36munitary_to_sparse_pauli\u001B[0;34m(unitary)\u001B[0m\n\u001B[1;32m     11\u001B[0m \u001B[38;5;28;01mdef\u001B[39;00m \u001B[38;5;21munitary_to_sparse_pauli\u001B[39m(unitary: np\u001B[38;5;241m.\u001B[39mndarray):\n\u001B[1;32m     12\u001B[0m \u001B[38;5;250m    \u001B[39m\u001B[38;5;124;03m\"\"\"\u001B[39;00m\n\u001B[1;32m     13\u001B[0m \u001B[38;5;124;03m    Converts a tensor to sparse pauli operator\u001B[39;00m\n\u001B[1;32m     14\u001B[0m \u001B[38;5;124;03m    :param tensor: \u001B[39;00m\n\u001B[1;32m     15\u001B[0m \u001B[38;5;124;03m    :return: \u001B[39;00m\n\u001B[1;32m     16\u001B[0m \u001B[38;5;124;03m    \"\"\"\u001B[39;00m\n\u001B[0;32m---> 17\u001B[0m     operator \u001B[38;5;241m=\u001B[39m \u001B[43mOperator\u001B[49m\u001B[43m(\u001B[49m\u001B[43munitary\u001B[49m\u001B[43m)\u001B[49m\n\u001B[1;32m     18\u001B[0m     \u001B[38;5;28;01mreturn\u001B[39;00m SparsePauliOp\u001B[38;5;241m.\u001B[39mfrom_operator(operator)\n",
      "File \u001B[0;32m~/PycharmProjects/qDriftExtrapolation/.venv/lib/python3.9/site-packages/qiskit/quantum_info/operators/operator.py:117\u001B[0m, in \u001B[0;36mOperator.__init__\u001B[0;34m(self, data, input_dims, output_dims)\u001B[0m\n\u001B[1;32m    114\u001B[0m \u001B[38;5;28;01melse\u001B[39;00m:\n\u001B[1;32m    115\u001B[0m     \u001B[38;5;28;01mraise\u001B[39;00m QiskitError(\u001B[38;5;124m\"\u001B[39m\u001B[38;5;124mInvalid input data format for Operator\u001B[39m\u001B[38;5;124m\"\u001B[39m)\n\u001B[0;32m--> 117\u001B[0m \u001B[38;5;28;43msuper\u001B[39;49m\u001B[43m(\u001B[49m\u001B[43m)\u001B[49m\u001B[38;5;241;43m.\u001B[39;49m\u001B[38;5;21;43m__init__\u001B[39;49m\u001B[43m(\u001B[49m\n\u001B[1;32m    118\u001B[0m \u001B[43m    \u001B[49m\u001B[43mop_shape\u001B[49m\u001B[38;5;241;43m=\u001B[39;49m\u001B[43mop_shape\u001B[49m\u001B[43m,\u001B[49m\n\u001B[1;32m    119\u001B[0m \u001B[43m    \u001B[49m\u001B[43minput_dims\u001B[49m\u001B[38;5;241;43m=\u001B[39;49m\u001B[43minput_dims\u001B[49m\u001B[43m,\u001B[49m\n\u001B[1;32m    120\u001B[0m \u001B[43m    \u001B[49m\u001B[43moutput_dims\u001B[49m\u001B[38;5;241;43m=\u001B[39;49m\u001B[43moutput_dims\u001B[49m\u001B[43m,\u001B[49m\n\u001B[1;32m    121\u001B[0m \u001B[43m    \u001B[49m\u001B[43mshape\u001B[49m\u001B[38;5;241;43m=\u001B[39;49m\u001B[38;5;28;43mself\u001B[39;49m\u001B[38;5;241;43m.\u001B[39;49m\u001B[43m_data\u001B[49m\u001B[38;5;241;43m.\u001B[39;49m\u001B[43mshape\u001B[49m\u001B[43m,\u001B[49m\n\u001B[1;32m    122\u001B[0m \u001B[43m\u001B[49m\u001B[43m)\u001B[49m\n",
      "File \u001B[0;32m~/PycharmProjects/qDriftExtrapolation/.venv/lib/python3.9/site-packages/qiskit/quantum_info/operators/base_operator.py:57\u001B[0m, in \u001B[0;36mBaseOperator.__init__\u001B[0;34m(self, input_dims, output_dims, num_qubits, shape, op_shape)\u001B[0m\n\u001B[1;32m     55\u001B[0m     \u001B[38;5;28mself\u001B[39m\u001B[38;5;241m.\u001B[39m_op_shape \u001B[38;5;241m=\u001B[39m op_shape\n\u001B[1;32m     56\u001B[0m \u001B[38;5;28;01melse\u001B[39;00m:\n\u001B[0;32m---> 57\u001B[0m     \u001B[38;5;28mself\u001B[39m\u001B[38;5;241m.\u001B[39m_op_shape \u001B[38;5;241m=\u001B[39m \u001B[43mOpShape\u001B[49m\u001B[38;5;241;43m.\u001B[39;49m\u001B[43mauto\u001B[49m\u001B[43m(\u001B[49m\n\u001B[1;32m     58\u001B[0m \u001B[43m        \u001B[49m\u001B[43mshape\u001B[49m\u001B[38;5;241;43m=\u001B[39;49m\u001B[43mshape\u001B[49m\u001B[43m,\u001B[49m\u001B[43m \u001B[49m\u001B[43mdims_l\u001B[49m\u001B[38;5;241;43m=\u001B[39;49m\u001B[43moutput_dims\u001B[49m\u001B[43m,\u001B[49m\u001B[43m \u001B[49m\u001B[43mdims_r\u001B[49m\u001B[38;5;241;43m=\u001B[39;49m\u001B[43minput_dims\u001B[49m\u001B[43m,\u001B[49m\u001B[43m \u001B[49m\u001B[43mnum_qubits\u001B[49m\u001B[38;5;241;43m=\u001B[39;49m\u001B[43mnum_qubits\u001B[49m\n\u001B[1;32m     59\u001B[0m \u001B[43m    \u001B[49m\u001B[43m)\u001B[49m\n",
      "File \u001B[0;32m~/PycharmProjects/qDriftExtrapolation/.venv/lib/python3.9/site-packages/qiskit/quantum_info/operators/op_shape.py:293\u001B[0m, in \u001B[0;36mOpShape.auto\u001B[0;34m(cls, shape, dims_l, dims_r, dims, num_qubits_l, num_qubits_r, num_qubits)\u001B[0m\n\u001B[1;32m    291\u001B[0m \u001B[38;5;66;03m# Validate shape\u001B[39;00m\n\u001B[1;32m    292\u001B[0m \u001B[38;5;28;01mif\u001B[39;00m shape:\n\u001B[0;32m--> 293\u001B[0m     \u001B[43mmatrix_shape\u001B[49m\u001B[38;5;241;43m.\u001B[39;49m\u001B[43mvalidate_shape\u001B[49m\u001B[43m(\u001B[49m\u001B[43mshape\u001B[49m\u001B[43m)\u001B[49m\n\u001B[1;32m    294\u001B[0m \u001B[38;5;28;01mreturn\u001B[39;00m matrix_shape\n",
      "File \u001B[0;32m~/PycharmProjects/qDriftExtrapolation/.venv/lib/python3.9/site-packages/qiskit/quantum_info/operators/op_shape.py:180\u001B[0m, in \u001B[0;36mOpShape.validate_shape\u001B[0;34m(self, shape)\u001B[0m\n\u001B[1;32m    178\u001B[0m \u001B[38;5;28;01mdef\u001B[39;00m \u001B[38;5;21mvalidate_shape\u001B[39m(\u001B[38;5;28mself\u001B[39m, shape):\n\u001B[1;32m    179\u001B[0m \u001B[38;5;250m    \u001B[39m\u001B[38;5;124;03m\"\"\"Raise an exception if shape is not valid for the OpShape\"\"\"\u001B[39;00m\n\u001B[0;32m--> 180\u001B[0m     \u001B[38;5;28;01mreturn\u001B[39;00m \u001B[38;5;28;43mself\u001B[39;49m\u001B[38;5;241;43m.\u001B[39;49m\u001B[43m_validate\u001B[49m\u001B[43m(\u001B[49m\u001B[43mshape\u001B[49m\u001B[43m,\u001B[49m\u001B[43m \u001B[49m\u001B[43mraise_exception\u001B[49m\u001B[38;5;241;43m=\u001B[39;49m\u001B[38;5;28;43;01mTrue\u001B[39;49;00m\u001B[43m)\u001B[49m\n",
      "File \u001B[0;32m~/PycharmProjects/qDriftExtrapolation/.venv/lib/python3.9/site-packages/qiskit/quantum_info/operators/op_shape.py:188\u001B[0m, in \u001B[0;36mOpShape._validate\u001B[0;34m(self, shape, raise_exception)\u001B[0m\n\u001B[1;32m    186\u001B[0m \u001B[38;5;28;01mif\u001B[39;00m ndim \u001B[38;5;241m>\u001B[39m \u001B[38;5;241m2\u001B[39m:\n\u001B[1;32m    187\u001B[0m     \u001B[38;5;28;01mif\u001B[39;00m raise_exception:\n\u001B[0;32m--> 188\u001B[0m         \u001B[38;5;28;01mraise\u001B[39;00m QiskitError(\u001B[38;5;124mf\u001B[39m\u001B[38;5;124m\"\u001B[39m\u001B[38;5;124mInput shape is not 1 or 2-dimensional (shape = \u001B[39m\u001B[38;5;132;01m{\u001B[39;00mshape\u001B[38;5;132;01m}\u001B[39;00m\u001B[38;5;124m)\u001B[39m\u001B[38;5;124m\"\u001B[39m)\n\u001B[1;32m    189\u001B[0m     \u001B[38;5;28;01mreturn\u001B[39;00m \u001B[38;5;28;01mFalse\u001B[39;00m\n\u001B[1;32m    191\u001B[0m \u001B[38;5;28;01mif\u001B[39;00m \u001B[38;5;28mself\u001B[39m\u001B[38;5;241m.\u001B[39m_dims_l:\n",
      "\u001B[0;31mQiskitError\u001B[0m: 'Input shape is not 1 or 2-dimensional (shape = (4, 4, 4, 4))'"
     ]
    }
   ],
   "execution_count": 10
  },
  {
   "metadata": {},
   "cell_type": "code",
   "outputs": [],
   "execution_count": null,
   "source": "",
   "id": "1e56a6c75484b46c"
  }
 ],
 "metadata": {
  "kernelspec": {
   "display_name": "Python 3",
   "language": "python",
   "name": "python3"
  },
  "language_info": {
   "codemirror_mode": {
    "name": "ipython",
    "version": 2
   },
   "file_extension": ".py",
   "mimetype": "text/x-python",
   "name": "python",
   "nbconvert_exporter": "python",
   "pygments_lexer": "ipython2",
   "version": "2.7.6"
  }
 },
 "nbformat": 4,
 "nbformat_minor": 5
}
