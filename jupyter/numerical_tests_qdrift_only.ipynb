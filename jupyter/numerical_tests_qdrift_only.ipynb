{
 "cells": [
  {
   "cell_type": "markdown",
   "metadata": {},
   "source": [
    "Verify that the implementation of the qDRIFT subroutine is correct. \n",
    "Compute error statistics for the qDRIFT subroutine."
   ]
  },
  {
   "cell_type": "code",
   "execution_count": 2,
   "metadata": {},
   "outputs": [],
   "source": [
    "import sys\n",
    "import os\n",
    "import seaborn as sns\n",
    "import matplotlib.pyplot as plt\n",
    "import numpy as np\n",
    "from qiskit.quantum_info import Pauli, SparsePauliOp, Operator\n",
    "# Adjust the path to the directory containing 'scripts/algo'\n",
    "sys.path.append(os.path.abspath(os.path.join(os.getcwd(), '..', 'scripts')))\n",
    "from algo.qft_qpe_qdrift import *\n",
    "from utils.scalable_numerical_tests import *"
   ]
  },
  {
   "cell_type": "code",
   "execution_count": null,
   "metadata": {},
   "outputs": [
    {
     "name": "stdout",
     "output_type": "stream",
     "text": [
      "Hamiltonian: [(0.9465251465472901, Pauli('IIX')), (0.3791426926292165, Pauli('ZXX')), (0.4411056562194777, Pauli('ZXZ')), (0.8758196256212966, Pauli('IXI')), (0.2061392372154054, Pauli('XXZ')), (0.9819217460885482, Pauli('ZZX')), (0.9339937521647721, Pauli('IXI')), (0.42382896024093764, Pauli('IXI')), (0.9587116510843057, Pauli('ZXX')), (0.2649537184973463, Pauli('IXX')), (0.10134585493101222, Pauli('IXZ')), (0.1875341955952028, Pauli('IIX')), (0.5156755914613109, Pauli('IXZ')), (0.8724433616138049, Pauli('ZIZ')), (0.16857809794744472, Pauli('XII')), (0.025377587520212685, Pauli('XZZ')), (0.26734072962912003, Pauli('ZZI')), (0.0928667278016122, Pauli('ZZI')), (0.8152981047963529, Pauli('IZZ')), (0.7824554743726164, Pauli('ZZZ')), (0.20695926828608358, Pauli('ZZI')), (0.9506719251303654, Pauli('IXZ')), (0.09327104328964575, Pauli('IZX')), (0.9337773010260605, Pauli('IXI')), (0.6039000311943997, Pauli('IZZ')), (0.11651258610295634, Pauli('ZZI')), (0.48605603670726805, Pauli('XXZ')), (0.23782212861141216, Pauli('ZXZ')), (0.9708234051179796, Pauli('IIX')), (0.3830536095879691, Pauli('ZXX')), (0.9140424430143559, Pauli('ZII')), (0.8155607906744632, Pauli('ZII')), (0.29507982989761683, Pauli('ZIZ')), (0.6032520153731807, Pauli('IIZ')), (0.05951395507777857, Pauli('IXX')), (0.7144182343754942, Pauli('IZX')), (0.07054789698291875, Pauli('XIZ')), (0.11393536236347168, Pauli('IZX')), (0.8004487145696118, Pauli('XXI')), (0.06494287822525746, Pauli('ZZI')), (0.23630671090219246, Pauli('XIZ')), (0.9601289683720082, Pauli('IIX')), (0.17385184502982443, Pauli('XZZ')), (0.7340654888702728, Pauli('IXX')), (0.25623203768406466, Pauli('IXX')), (0.29874524352676635, Pauli('XXI')), (0.020579686250618345, Pauli('IIX')), (0.5440728029513462, Pauli('IZZ')), (0.9420691406231952, Pauli('IIZ')), (0.5150247936386835, Pauli('ZXZ')), (0.3642104610847229, Pauli('ZXX')), (0.9833875629207877, Pauli('XZZ')), (0.46805497024323695, Pauli('ZIX')), (0.8164898765607244, Pauli('IIX')), (0.7403689472586245, Pauli('ZXZ')), (0.5575030713981125, Pauli('ZXZ')), (0.46527375403117976, Pauli('ZXZ')), (0.8983560006231441, Pauli('IXZ')), (0.7536453666819355, Pauli('XIX')), (0.6933485380788881, Pauli('ZII')), (0.7496107490787134, Pauli('XXI')), (0.7247401567189862, Pauli('XZX')), (0.16871779200562054, Pauli('IXX')), (0.43670588211613315, Pauli('XZI')), (0.9051342041908771, Pauli('XZI')), (0.9932238573881748, Pauli('ZIZ')), (0.8937770843901063, Pauli('ZII')), (0.5761176507254462, Pauli('XIZ')), (0.20444601497620218, Pauli('XXZ')), (0.25595558626986215, Pauli('XZZ')), (0.5259633697606649, Pauli('IZX')), (0.6665846261074783, Pauli('ZII')), (0.3258242297790671, Pauli('XII')), (0.01892250715678545, Pauli('XXI')), (0.13454220295088448, Pauli('XXI')), (0.864468035503799, Pauli('ZZX')), (0.009434454878427201, Pauli('IXX')), (0.0018884503668358255, Pauli('IIX')), (0.020398890957375126, Pauli('XZZ')), (0.09117305686167476, Pauli('XXZ')), (0.584987785591627, Pauli('XXX')), (0.9604122393339649, Pauli('ZXZ')), (0.2364941335258628, Pauli('ZII')), (0.41120964643807334, Pauli('IIZ')), (0.8869130274558316, Pauli('III')), (0.3779343838658359, Pauli('XIZ')), (0.7460219031820773, Pauli('IZX')), (0.7908790511225422, Pauli('IXX')), (0.8273773348180212, Pauli('IXI')), (0.8887092260230636, Pauli('III')), (0.8335721176328241, Pauli('ZXZ')), (0.963857433607099, Pauli('ZIX')), (0.760546920915108, Pauli('XXZ')), (0.011429692828889948, Pauli('IXX')), (0.7448352738966458, Pauli('ZZZ')), (0.06440181863550143, Pauli('IIX')), (0.5756125422170962, Pauli('IZZ')), (0.7425578179801811, Pauli('ZXZ')), (0.1874264162723298, Pauli('XXZ')), (0.42172390520122083, Pauli('ZII'))]\n"
     ]
    },
    {
     "data": {
      "application/vnd.plotly.v1+json": {
       "config": {
        "plotlyServerURL": "https://plot.ly"
       },
       "data": [
        {
         "mode": "lines",
         "name": "Theoretical Error",
         "type": "scatter",
         "x": [
          100,
          200,
          300,
          400,
          500,
          700,
          900,
          1100,
          1300,
          1500,
          1700,
          1900,
          2000,
          3000,
          4000,
          5000,
          6000,
          7000,
          8000,
          9000
         ],
         "y": [
          329434531.42253,
          938043.5075477232,
          111675.95508545297,
          35394.429370142265,
          16887.808193956407,
          6682.348502282764,
          3743.481495126349,
          2485.6386542402784,
          1820.1352414611288,
          1418.7778349801406,
          1154.3795813587274,
          968.8311441703014,
          895.691501743313,
          502.6318326882273,
          345.86184261037073,
          262.75287484872774,
          211.54501193196032,
          176.91629172906303,
          151.9706607259191,
          133.15959394459335
         ]
        },
        {
         "mode": "lines",
         "name": "Unitary Error 2-norm",
         "type": "scatter",
         "x": [
          100,
          200,
          300,
          400,
          500,
          700,
          900,
          1100,
          1300,
          1500,
          1700,
          1900,
          2000,
          3000,
          4000,
          5000,
          6000,
          7000,
          8000,
          9000
         ],
         "y": [
          1.994680287466206,
          1.9998447128005266,
          1.9771118382556618,
          1.999022433884264,
          1.9227280251264773,
          1.9938133675481078,
          1.9999845119187416,
          1.9415352707406024,
          1.9721441044535342,
          1.996250029272174,
          1.9984094342191898,
          1.9999022222477478,
          1.9711090421338349,
          1.9983172225569,
          1.9999904099646337,
          1.9945746199353005,
          1.9950752642429144,
          1.9975209344367642,
          1.9829717035849113,
          1.9161021802364349
         ]
        },
        {
         "mode": "lines",
         "name": "Unitary Error inf-norm",
         "type": "scatter",
         "x": [
          100,
          200,
          300,
          400,
          500,
          700,
          900,
          1100,
          1300,
          1500,
          1700,
          1900,
          2000,
          3000,
          4000,
          5000,
          6000,
          7000,
          8000,
          9000
         ],
         "y": [
          4.240909969850052,
          4.153499139399423,
          4.211139975086586,
          3.8830012791470034,
          4.009292861289466,
          4.17982473097077,
          4.1735704834612335,
          4.20820137112382,
          4.100730806015719,
          4.048030108973191,
          4.5849058597342225,
          4.346702840454075,
          4.373520914849864,
          3.4123909263827548,
          3.8648790040926646,
          4.517010525492677,
          4.374115874111851,
          4.180321530339851,
          3.7688540502509515,
          4.183829083139766
         ]
        },
        {
         "mode": "lines",
         "name": "Diamond Distance",
         "type": "scatter",
         "x": [
          100,
          200,
          300,
          400,
          500,
          700,
          900,
          1100,
          1300,
          1500,
          1700,
          1900,
          2000,
          3000,
          4000,
          5000,
          6000,
          7000,
          8000,
          9000
         ],
         "y": [
          2.000000002571844,
          2.000000178535787,
          2.0000000106824265,
          1.9999999997066322,
          2.0000098345125354,
          1.9999999940457065,
          2.000000008757777,
          1.9999771075275516,
          2.000003939235735,
          2.000000001539857,
          1.9999891523432345,
          1.999976417721831,
          2.0000009110567514,
          1.9999995729103746,
          2.0000000000297167,
          2.00000005260056,
          1.9999806747126372,
          2.0000001690910265,
          1.9999999999838625,
          2.0000000000143787
         ]
        }
       ],
       "layout": {
        "template": {
         "data": {
          "bar": [
           {
            "error_x": {
             "color": "#2a3f5f"
            },
            "error_y": {
             "color": "#2a3f5f"
            },
            "marker": {
             "line": {
              "color": "#E5ECF6",
              "width": 0.5
             },
             "pattern": {
              "fillmode": "overlay",
              "size": 10,
              "solidity": 0.2
             }
            },
            "type": "bar"
           }
          ],
          "barpolar": [
           {
            "marker": {
             "line": {
              "color": "#E5ECF6",
              "width": 0.5
             },
             "pattern": {
              "fillmode": "overlay",
              "size": 10,
              "solidity": 0.2
             }
            },
            "type": "barpolar"
           }
          ],
          "carpet": [
           {
            "aaxis": {
             "endlinecolor": "#2a3f5f",
             "gridcolor": "white",
             "linecolor": "white",
             "minorgridcolor": "white",
             "startlinecolor": "#2a3f5f"
            },
            "baxis": {
             "endlinecolor": "#2a3f5f",
             "gridcolor": "white",
             "linecolor": "white",
             "minorgridcolor": "white",
             "startlinecolor": "#2a3f5f"
            },
            "type": "carpet"
           }
          ],
          "choropleth": [
           {
            "colorbar": {
             "outlinewidth": 0,
             "ticks": ""
            },
            "type": "choropleth"
           }
          ],
          "contour": [
           {
            "colorbar": {
             "outlinewidth": 0,
             "ticks": ""
            },
            "colorscale": [
             [
              0,
              "#0d0887"
             ],
             [
              0.1111111111111111,
              "#46039f"
             ],
             [
              0.2222222222222222,
              "#7201a8"
             ],
             [
              0.3333333333333333,
              "#9c179e"
             ],
             [
              0.4444444444444444,
              "#bd3786"
             ],
             [
              0.5555555555555556,
              "#d8576b"
             ],
             [
              0.6666666666666666,
              "#ed7953"
             ],
             [
              0.7777777777777778,
              "#fb9f3a"
             ],
             [
              0.8888888888888888,
              "#fdca26"
             ],
             [
              1,
              "#f0f921"
             ]
            ],
            "type": "contour"
           }
          ],
          "contourcarpet": [
           {
            "colorbar": {
             "outlinewidth": 0,
             "ticks": ""
            },
            "type": "contourcarpet"
           }
          ],
          "heatmap": [
           {
            "colorbar": {
             "outlinewidth": 0,
             "ticks": ""
            },
            "colorscale": [
             [
              0,
              "#0d0887"
             ],
             [
              0.1111111111111111,
              "#46039f"
             ],
             [
              0.2222222222222222,
              "#7201a8"
             ],
             [
              0.3333333333333333,
              "#9c179e"
             ],
             [
              0.4444444444444444,
              "#bd3786"
             ],
             [
              0.5555555555555556,
              "#d8576b"
             ],
             [
              0.6666666666666666,
              "#ed7953"
             ],
             [
              0.7777777777777778,
              "#fb9f3a"
             ],
             [
              0.8888888888888888,
              "#fdca26"
             ],
             [
              1,
              "#f0f921"
             ]
            ],
            "type": "heatmap"
           }
          ],
          "histogram": [
           {
            "marker": {
             "pattern": {
              "fillmode": "overlay",
              "size": 10,
              "solidity": 0.2
             }
            },
            "type": "histogram"
           }
          ],
          "histogram2d": [
           {
            "colorbar": {
             "outlinewidth": 0,
             "ticks": ""
            },
            "colorscale": [
             [
              0,
              "#0d0887"
             ],
             [
              0.1111111111111111,
              "#46039f"
             ],
             [
              0.2222222222222222,
              "#7201a8"
             ],
             [
              0.3333333333333333,
              "#9c179e"
             ],
             [
              0.4444444444444444,
              "#bd3786"
             ],
             [
              0.5555555555555556,
              "#d8576b"
             ],
             [
              0.6666666666666666,
              "#ed7953"
             ],
             [
              0.7777777777777778,
              "#fb9f3a"
             ],
             [
              0.8888888888888888,
              "#fdca26"
             ],
             [
              1,
              "#f0f921"
             ]
            ],
            "type": "histogram2d"
           }
          ],
          "histogram2dcontour": [
           {
            "colorbar": {
             "outlinewidth": 0,
             "ticks": ""
            },
            "colorscale": [
             [
              0,
              "#0d0887"
             ],
             [
              0.1111111111111111,
              "#46039f"
             ],
             [
              0.2222222222222222,
              "#7201a8"
             ],
             [
              0.3333333333333333,
              "#9c179e"
             ],
             [
              0.4444444444444444,
              "#bd3786"
             ],
             [
              0.5555555555555556,
              "#d8576b"
             ],
             [
              0.6666666666666666,
              "#ed7953"
             ],
             [
              0.7777777777777778,
              "#fb9f3a"
             ],
             [
              0.8888888888888888,
              "#fdca26"
             ],
             [
              1,
              "#f0f921"
             ]
            ],
            "type": "histogram2dcontour"
           }
          ],
          "mesh3d": [
           {
            "colorbar": {
             "outlinewidth": 0,
             "ticks": ""
            },
            "type": "mesh3d"
           }
          ],
          "parcoords": [
           {
            "line": {
             "colorbar": {
              "outlinewidth": 0,
              "ticks": ""
             }
            },
            "type": "parcoords"
           }
          ],
          "pie": [
           {
            "automargin": true,
            "type": "pie"
           }
          ],
          "scatter": [
           {
            "fillpattern": {
             "fillmode": "overlay",
             "size": 10,
             "solidity": 0.2
            },
            "type": "scatter"
           }
          ],
          "scatter3d": [
           {
            "line": {
             "colorbar": {
              "outlinewidth": 0,
              "ticks": ""
             }
            },
            "marker": {
             "colorbar": {
              "outlinewidth": 0,
              "ticks": ""
             }
            },
            "type": "scatter3d"
           }
          ],
          "scattercarpet": [
           {
            "marker": {
             "colorbar": {
              "outlinewidth": 0,
              "ticks": ""
             }
            },
            "type": "scattercarpet"
           }
          ],
          "scattergeo": [
           {
            "marker": {
             "colorbar": {
              "outlinewidth": 0,
              "ticks": ""
             }
            },
            "type": "scattergeo"
           }
          ],
          "scattergl": [
           {
            "marker": {
             "colorbar": {
              "outlinewidth": 0,
              "ticks": ""
             }
            },
            "type": "scattergl"
           }
          ],
          "scattermap": [
           {
            "marker": {
             "colorbar": {
              "outlinewidth": 0,
              "ticks": ""
             }
            },
            "type": "scattermap"
           }
          ],
          "scattermapbox": [
           {
            "marker": {
             "colorbar": {
              "outlinewidth": 0,
              "ticks": ""
             }
            },
            "type": "scattermapbox"
           }
          ],
          "scatterpolar": [
           {
            "marker": {
             "colorbar": {
              "outlinewidth": 0,
              "ticks": ""
             }
            },
            "type": "scatterpolar"
           }
          ],
          "scatterpolargl": [
           {
            "marker": {
             "colorbar": {
              "outlinewidth": 0,
              "ticks": ""
             }
            },
            "type": "scatterpolargl"
           }
          ],
          "scatterternary": [
           {
            "marker": {
             "colorbar": {
              "outlinewidth": 0,
              "ticks": ""
             }
            },
            "type": "scatterternary"
           }
          ],
          "surface": [
           {
            "colorbar": {
             "outlinewidth": 0,
             "ticks": ""
            },
            "colorscale": [
             [
              0,
              "#0d0887"
             ],
             [
              0.1111111111111111,
              "#46039f"
             ],
             [
              0.2222222222222222,
              "#7201a8"
             ],
             [
              0.3333333333333333,
              "#9c179e"
             ],
             [
              0.4444444444444444,
              "#bd3786"
             ],
             [
              0.5555555555555556,
              "#d8576b"
             ],
             [
              0.6666666666666666,
              "#ed7953"
             ],
             [
              0.7777777777777778,
              "#fb9f3a"
             ],
             [
              0.8888888888888888,
              "#fdca26"
             ],
             [
              1,
              "#f0f921"
             ]
            ],
            "type": "surface"
           }
          ],
          "table": [
           {
            "cells": {
             "fill": {
              "color": "#EBF0F8"
             },
             "line": {
              "color": "white"
             }
            },
            "header": {
             "fill": {
              "color": "#C8D4E3"
             },
             "line": {
              "color": "white"
             }
            },
            "type": "table"
           }
          ]
         },
         "layout": {
          "annotationdefaults": {
           "arrowcolor": "#2a3f5f",
           "arrowhead": 0,
           "arrowwidth": 1
          },
          "autotypenumbers": "strict",
          "coloraxis": {
           "colorbar": {
            "outlinewidth": 0,
            "ticks": ""
           }
          },
          "colorscale": {
           "diverging": [
            [
             0,
             "#8e0152"
            ],
            [
             0.1,
             "#c51b7d"
            ],
            [
             0.2,
             "#de77ae"
            ],
            [
             0.3,
             "#f1b6da"
            ],
            [
             0.4,
             "#fde0ef"
            ],
            [
             0.5,
             "#f7f7f7"
            ],
            [
             0.6,
             "#e6f5d0"
            ],
            [
             0.7,
             "#b8e186"
            ],
            [
             0.8,
             "#7fbc41"
            ],
            [
             0.9,
             "#4d9221"
            ],
            [
             1,
             "#276419"
            ]
           ],
           "sequential": [
            [
             0,
             "#0d0887"
            ],
            [
             0.1111111111111111,
             "#46039f"
            ],
            [
             0.2222222222222222,
             "#7201a8"
            ],
            [
             0.3333333333333333,
             "#9c179e"
            ],
            [
             0.4444444444444444,
             "#bd3786"
            ],
            [
             0.5555555555555556,
             "#d8576b"
            ],
            [
             0.6666666666666666,
             "#ed7953"
            ],
            [
             0.7777777777777778,
             "#fb9f3a"
            ],
            [
             0.8888888888888888,
             "#fdca26"
            ],
            [
             1,
             "#f0f921"
            ]
           ],
           "sequentialminus": [
            [
             0,
             "#0d0887"
            ],
            [
             0.1111111111111111,
             "#46039f"
            ],
            [
             0.2222222222222222,
             "#7201a8"
            ],
            [
             0.3333333333333333,
             "#9c179e"
            ],
            [
             0.4444444444444444,
             "#bd3786"
            ],
            [
             0.5555555555555556,
             "#d8576b"
            ],
            [
             0.6666666666666666,
             "#ed7953"
            ],
            [
             0.7777777777777778,
             "#fb9f3a"
            ],
            [
             0.8888888888888888,
             "#fdca26"
            ],
            [
             1,
             "#f0f921"
            ]
           ]
          },
          "colorway": [
           "#636efa",
           "#EF553B",
           "#00cc96",
           "#ab63fa",
           "#FFA15A",
           "#19d3f3",
           "#FF6692",
           "#B6E880",
           "#FF97FF",
           "#FECB52"
          ],
          "font": {
           "color": "#2a3f5f"
          },
          "geo": {
           "bgcolor": "white",
           "lakecolor": "white",
           "landcolor": "#E5ECF6",
           "showlakes": true,
           "showland": true,
           "subunitcolor": "white"
          },
          "hoverlabel": {
           "align": "left"
          },
          "hovermode": "closest",
          "mapbox": {
           "style": "light"
          },
          "paper_bgcolor": "white",
          "plot_bgcolor": "#E5ECF6",
          "polar": {
           "angularaxis": {
            "gridcolor": "white",
            "linecolor": "white",
            "ticks": ""
           },
           "bgcolor": "#E5ECF6",
           "radialaxis": {
            "gridcolor": "white",
            "linecolor": "white",
            "ticks": ""
           }
          },
          "scene": {
           "xaxis": {
            "backgroundcolor": "#E5ECF6",
            "gridcolor": "white",
            "gridwidth": 2,
            "linecolor": "white",
            "showbackground": true,
            "ticks": "",
            "zerolinecolor": "white"
           },
           "yaxis": {
            "backgroundcolor": "#E5ECF6",
            "gridcolor": "white",
            "gridwidth": 2,
            "linecolor": "white",
            "showbackground": true,
            "ticks": "",
            "zerolinecolor": "white"
           },
           "zaxis": {
            "backgroundcolor": "#E5ECF6",
            "gridcolor": "white",
            "gridwidth": 2,
            "linecolor": "white",
            "showbackground": true,
            "ticks": "",
            "zerolinecolor": "white"
           }
          },
          "shapedefaults": {
           "line": {
            "color": "#2a3f5f"
           }
          },
          "ternary": {
           "aaxis": {
            "gridcolor": "white",
            "linecolor": "white",
            "ticks": ""
           },
           "baxis": {
            "gridcolor": "white",
            "linecolor": "white",
            "ticks": ""
           },
           "bgcolor": "#E5ECF6",
           "caxis": {
            "gridcolor": "white",
            "linecolor": "white",
            "ticks": ""
           }
          },
          "title": {
           "x": 0.05
          },
          "xaxis": {
           "automargin": true,
           "gridcolor": "white",
           "linecolor": "white",
           "ticks": "",
           "title": {
            "standoff": 15
           },
           "zerolinecolor": "white",
           "zerolinewidth": 2
          },
          "yaxis": {
           "automargin": true,
           "gridcolor": "white",
           "linecolor": "white",
           "ticks": "",
           "title": {
            "standoff": 15
           },
           "zerolinecolor": "white",
           "zerolinewidth": 2
          }
         }
        },
        "title": {
         "text": "Error vs Number of Samples for time=10"
        },
        "xaxis": {
         "title": {
          "text": "Number of Samples"
         }
        },
        "yaxis": {
         "title": {
          "text": "Error"
         }
        }
       }
      }
     },
     "metadata": {},
     "output_type": "display_data"
    },
    {
     "name": "stdout",
     "output_type": "stream",
     "text": [
      "Hamiltonian: [(0.16071882225523992, Pauli('XII')), (0.2399538046459363, Pauli('ZIZ')), (0.8233207113029222, Pauli('ZIX')), (0.6842691640523737, Pauli('ZII')), (0.9098793592120075, Pauli('XXI')), (0.08374224063206315, Pauli('XXX')), (0.08189085652510897, Pauli('IIZ')), (0.9698019746778428, Pauli('ZXZ')), (0.3852437075327365, Pauli('XIZ')), (0.40769392212782796, Pauli('ZXX')), (0.04186794849193587, Pauli('XXZ')), (0.37969662487749056, Pauli('IXZ')), (0.09490421525133519, Pauli('ZIZ')), (0.6447683841343456, Pauli('IIX')), (0.4119025480382078, Pauli('IXI')), (0.8260820283298643, Pauli('ZIZ')), (0.5599916071281082, Pauli('ZZX')), (0.10818525180419314, Pauli('ZII')), (0.19724724637601632, Pauli('XIX')), (0.7373805373659424, Pauli('ZXI')), (0.9769456045371838, Pauli('ZXI')), (0.7135471121816601, Pauli('ZZI')), (0.3870764132797413, Pauli('XIZ')), (0.7815188469793777, Pauli('IIZ')), (0.5143780787404049, Pauli('XZZ')), (0.9522020847665692, Pauli('ZXI')), (0.9173534868593151, Pauli('XIZ')), (0.5473114551383829, Pauli('III')), (0.2947470753570889, Pauli('XIZ')), (0.04470248563777657, Pauli('ZIX')), (0.40851011981768537, Pauli('XIZ')), (0.680869783252899, Pauli('IXZ')), (0.8349657195654724, Pauli('XXZ')), (0.5591802076673449, Pauli('IZI')), (0.48462797698167137, Pauli('XZX')), (0.21729742355006332, Pauli('III')), (0.815479458206398, Pauli('ZZZ')), (0.3836073563887539, Pauli('IZZ')), (0.8734648453946491, Pauli('ZXZ')), (0.9326302336756476, Pauli('XZX')), (0.7911725201098239, Pauli('IXI')), (0.07763690055641348, Pauli('XZX')), (0.24305072384160076, Pauli('XXI')), (0.30545918945293493, Pauli('XXI')), (0.1242423675298111, Pauli('XXI')), (0.8976495878229739, Pauli('XZX')), (0.7049142494552019, Pauli('IZI')), (0.09332470383445379, Pauli('ZXI')), (0.6554992668829858, Pauli('XZI')), (0.05611006145984865, Pauli('ZXI')), (0.9602135911886094, Pauli('XZZ')), (0.40308215302664363, Pauli('XXX')), (0.7549840760010887, Pauli('IZZ')), (0.8465078728615555, Pauli('ZZI')), (0.8745139539828762, Pauli('ZIZ')), (0.6609827453162722, Pauli('ZXZ')), (0.4368129857387276, Pauli('XXI')), (0.8770432510275338, Pauli('XZI')), (0.8969972694397663, Pauli('ZXX')), (0.44074669929538024, Pauli('IXX')), (0.9950621833666968, Pauli('ZZZ')), (0.8862864648496699, Pauli('XXX')), (0.3213993230777691, Pauli('IIX')), (0.9698676272618263, Pauli('ZZI')), (0.7965809453566303, Pauli('XII')), (0.24148332453971144, Pauli('ZIX')), (0.763111465912521, Pauli('ZZX')), (0.5179140426214061, Pauli('ZZZ')), (0.7988577463345203, Pauli('ZZI')), (0.3082985896439029, Pauli('XXX')), (0.9177135386864226, Pauli('ZZI')), (0.04664294986970974, Pauli('XII')), (0.48429454302853603, Pauli('XZZ')), (0.6240926365258999, Pauli('ZXI')), (0.2590226278348642, Pauli('XZZ')), (0.7560246987926308, Pauli('IZX')), (0.1666428122150002, Pauli('ZIX')), (0.0268804193354224, Pauli('ZXI')), (0.5708054241791906, Pauli('XII')), (0.7032156371047712, Pauli('XZZ')), (0.174777733907855, Pauli('IIX')), (0.7763021515113862, Pauli('XXX')), (0.14882804737658173, Pauli('ZZI')), (0.30560615393834645, Pauli('ZXX')), (0.10776642359208732, Pauli('IIX')), (0.8769068462642122, Pauli('XIX')), (0.9757113279996688, Pauli('ZZX')), (0.04779134666999696, Pauli('IXZ')), (0.2693159827637397, Pauli('IZI')), (0.5073193339123565, Pauli('IZI')), (0.5097750656849338, Pauli('ZZX')), (0.8077007291905655, Pauli('XZZ')), (0.21542466253188508, Pauli('ZZI')), (0.44805637257826436, Pauli('ZXI')), (0.2357390463399469, Pauli('IZI')), (0.5559368838234748, Pauli('IXX')), (0.3732150740920046, Pauli('ZXI')), (0.16806149030724027, Pauli('XXX')), (0.8270324419455771, Pauli('ZZX')), (0.8848224936585062, Pauli('III'))]\n"
     ]
    },
    {
     "ename": "KeyboardInterrupt",
     "evalue": "",
     "output_type": "error",
     "traceback": [
      "\u001b[1;31m---------------------------------------------------------------------------\u001b[0m",
      "\u001b[1;31mKeyboardInterrupt\u001b[0m                         Traceback (most recent call last)",
      "Cell \u001b[1;32mIn[6], line 33\u001b[0m\n\u001b[0;32m     31\u001b[0m error \u001b[38;5;241m=\u001b[39m unitary_error_2_norm(U_exact, U_qdrift)\n\u001b[0;32m     32\u001b[0m error_2 \u001b[38;5;241m=\u001b[39m unitary_error_inf_norm(U_exact, U_qdrift)\n\u001b[1;32m---> 33\u001b[0m diamond_dist \u001b[38;5;241m=\u001b[39m \u001b[43mcompute_diamond_distance\u001b[49m\u001b[43m(\u001b[49m\u001b[43mU_exact\u001b[49m\u001b[43m,\u001b[49m\u001b[43m \u001b[49m\u001b[43mU_qdrift\u001b[49m\u001b[43m)\u001b[49m\n\u001b[0;32m     34\u001b[0m lam \u001b[38;5;241m=\u001b[39m \u001b[38;5;28msum\u001b[39m(\u001b[38;5;28mabs\u001b[39m(term[\u001b[38;5;241m0\u001b[39m]) \u001b[38;5;28;01mfor\u001b[39;00m term \u001b[38;5;129;01min\u001b[39;00m hamiltonian)\n\u001b[0;32m     35\u001b[0m theoretical_error \u001b[38;5;241m=\u001b[39m estimate_theoretical_qdrift_errror(num_samples\u001b[38;5;241m=\u001b[39mnum_samples, lam\u001b[38;5;241m=\u001b[39mlam, time\u001b[38;5;241m=\u001b[39mtime)\n",
      "File \u001b[1;32mc:\\Users\\rodcs\\Desktop\\my-repos\\qDriftExtraPolation\\scripts\\algo\\qft_qpe_qdrift.py:81\u001b[0m, in \u001b[0;36mcompute_diamond_distance\u001b[1;34m(U_exact, U_qdrift)\u001b[0m\n\u001b[0;32m     79\u001b[0m exact_channel \u001b[38;5;241m=\u001b[39m SuperOp(U_exact)\n\u001b[0;32m     80\u001b[0m qdrift_channel \u001b[38;5;241m=\u001b[39m SuperOp(U_qdrift)\n\u001b[1;32m---> 81\u001b[0m \u001b[38;5;28;01mreturn\u001b[39;00m \u001b[43mdiamond_norm\u001b[49m\u001b[43m(\u001b[49m\u001b[43mexact_channel\u001b[49m\u001b[43m \u001b[49m\u001b[38;5;241;43m-\u001b[39;49m\u001b[43m \u001b[49m\u001b[43mqdrift_channel\u001b[49m\u001b[43m)\u001b[49m\n",
      "File \u001b[1;32mc:\\Users\\rodcs\\.conda\\envs\\quantum_stuff\\Lib\\site-packages\\qiskit\\quantum_info\\operators\\measures.py:349\u001b[0m, in \u001b[0;36mdiamond_norm\u001b[1;34m(choi, solver, **kwargs)\u001b[0m\n\u001b[0;32m    347\u001b[0m obj \u001b[38;5;241m=\u001b[39m cvxpy\u001b[38;5;241m.\u001b[39mMaximize(cvxpy\u001b[38;5;241m.\u001b[39mtrace(choi_rt_r \u001b[38;5;241m@\u001b[39m x_r) \u001b[38;5;241m+\u001b[39m cvxpy\u001b[38;5;241m.\u001b[39mtrace(choi_rt_i \u001b[38;5;241m@\u001b[39m x_i))\n\u001b[0;32m    348\u001b[0m prob \u001b[38;5;241m=\u001b[39m cvxpy\u001b[38;5;241m.\u001b[39mProblem(obj, cons)\n\u001b[1;32m--> 349\u001b[0m sol \u001b[38;5;241m=\u001b[39m \u001b[43mprob\u001b[49m\u001b[38;5;241;43m.\u001b[39;49m\u001b[43msolve\u001b[49m\u001b[43m(\u001b[49m\u001b[43msolver\u001b[49m\u001b[38;5;241;43m=\u001b[39;49m\u001b[43msolver\u001b[49m\u001b[43m,\u001b[49m\u001b[43m \u001b[49m\u001b[38;5;241;43m*\u001b[39;49m\u001b[38;5;241;43m*\u001b[39;49m\u001b[43mkwargs\u001b[49m\u001b[43m)\u001b[49m\n\u001b[0;32m    350\u001b[0m \u001b[38;5;28;01mreturn\u001b[39;00m sol\n",
      "File \u001b[1;32mc:\\Users\\rodcs\\.conda\\envs\\quantum_stuff\\Lib\\site-packages\\cvxpy\\problems\\problem.py:600\u001b[0m, in \u001b[0;36mProblem.solve\u001b[1;34m(self, *args, **kwargs)\u001b[0m\n\u001b[0;32m    597\u001b[0m         \u001b[38;5;28;01mraise\u001b[39;00m \u001b[38;5;167;01mValueError\u001b[39;00m(\n\u001b[0;32m    598\u001b[0m             \u001b[38;5;124m\"\u001b[39m\u001b[38;5;124mCannot specify both \u001b[39m\u001b[38;5;124m'\u001b[39m\u001b[38;5;124msolver\u001b[39m\u001b[38;5;124m'\u001b[39m\u001b[38;5;124m and \u001b[39m\u001b[38;5;124m'\u001b[39m\u001b[38;5;124msolver_path\u001b[39m\u001b[38;5;124m'\u001b[39m\u001b[38;5;124m. Please choose one.\u001b[39m\u001b[38;5;124m\"\u001b[39m)\n\u001b[0;32m    599\u001b[0m     \u001b[38;5;28;01mreturn\u001b[39;00m \u001b[38;5;28mself\u001b[39m\u001b[38;5;241m.\u001b[39m_solve_solver_path(solve_func,solver_path, args, kwargs)\n\u001b[1;32m--> 600\u001b[0m \u001b[38;5;28;01mreturn\u001b[39;00m \u001b[43msolve_func\u001b[49m\u001b[43m(\u001b[49m\u001b[38;5;28;43mself\u001b[39;49m\u001b[43m,\u001b[49m\u001b[43m \u001b[49m\u001b[38;5;241;43m*\u001b[39;49m\u001b[43margs\u001b[49m\u001b[43m,\u001b[49m\u001b[43m \u001b[49m\u001b[38;5;241;43m*\u001b[39;49m\u001b[38;5;241;43m*\u001b[39;49m\u001b[43mkwargs\u001b[49m\u001b[43m)\u001b[49m\n",
      "File \u001b[1;32mc:\\Users\\rodcs\\.conda\\envs\\quantum_stuff\\Lib\\site-packages\\cvxpy\\problems\\problem.py:1183\u001b[0m, in \u001b[0;36mProblem._solve\u001b[1;34m(self, solver, warm_start, verbose, gp, qcp, requires_grad, enforce_dpp, ignore_dpp, canon_backend, **kwargs)\u001b[0m\n\u001b[0;32m   1181\u001b[0m \u001b[38;5;28;01mif\u001b[39;00m solver_verbose \u001b[38;5;129;01mand\u001b[39;00m (\u001b[38;5;129;01mnot\u001b[39;00m verbose):\n\u001b[0;32m   1182\u001b[0m     \u001b[38;5;28mprint\u001b[39m(_NUM_SOLVER_STR)\n\u001b[1;32m-> 1183\u001b[0m solution \u001b[38;5;241m=\u001b[39m \u001b[43msolving_chain\u001b[49m\u001b[38;5;241;43m.\u001b[39;49m\u001b[43msolve_via_data\u001b[49m\u001b[43m(\u001b[49m\n\u001b[0;32m   1184\u001b[0m \u001b[43m    \u001b[49m\u001b[38;5;28;43mself\u001b[39;49m\u001b[43m,\u001b[49m\u001b[43m \u001b[49m\u001b[43mdata\u001b[49m\u001b[43m,\u001b[49m\u001b[43m \u001b[49m\u001b[43mwarm_start\u001b[49m\u001b[43m,\u001b[49m\u001b[43m \u001b[49m\u001b[43msolver_verbose\u001b[49m\u001b[43m,\u001b[49m\u001b[43m \u001b[49m\u001b[43mkwargs\u001b[49m\u001b[43m)\u001b[49m\n\u001b[0;32m   1185\u001b[0m end \u001b[38;5;241m=\u001b[39m time\u001b[38;5;241m.\u001b[39mtime()\n\u001b[0;32m   1186\u001b[0m \u001b[38;5;28mself\u001b[39m\u001b[38;5;241m.\u001b[39m_solve_time \u001b[38;5;241m=\u001b[39m end \u001b[38;5;241m-\u001b[39m start\n",
      "File \u001b[1;32mc:\\Users\\rodcs\\.conda\\envs\\quantum_stuff\\Lib\\site-packages\\cvxpy\\reductions\\solvers\\solving_chain.py:524\u001b[0m, in \u001b[0;36mSolvingChain.solve_via_data\u001b[1;34m(self, problem, data, warm_start, verbose, solver_opts)\u001b[0m\n\u001b[0;32m    488\u001b[0m \u001b[38;5;28;01mdef\u001b[39;00m\u001b[38;5;250m \u001b[39m\u001b[38;5;21msolve_via_data\u001b[39m(\u001b[38;5;28mself\u001b[39m, problem, data, warm_start: \u001b[38;5;28mbool\u001b[39m \u001b[38;5;241m=\u001b[39m \u001b[38;5;28;01mFalse\u001b[39;00m, verbose: \u001b[38;5;28mbool\u001b[39m \u001b[38;5;241m=\u001b[39m \u001b[38;5;28;01mFalse\u001b[39;00m,\n\u001b[0;32m    489\u001b[0m                    solver_opts\u001b[38;5;241m=\u001b[39m{}):\n\u001b[0;32m    490\u001b[0m \u001b[38;5;250m    \u001b[39m\u001b[38;5;124;03m\"\"\"Solves the problem using the data output by the an apply invocation.\u001b[39;00m\n\u001b[0;32m    491\u001b[0m \n\u001b[0;32m    492\u001b[0m \u001b[38;5;124;03m    The semantics are:\u001b[39;00m\n\u001b[1;32m   (...)\u001b[0m\n\u001b[0;32m    522\u001b[0m \u001b[38;5;124;03m        a Solution object.\u001b[39;00m\n\u001b[0;32m    523\u001b[0m \u001b[38;5;124;03m    \"\"\"\u001b[39;00m\n\u001b[1;32m--> 524\u001b[0m     \u001b[38;5;28;01mreturn\u001b[39;00m \u001b[38;5;28;43mself\u001b[39;49m\u001b[38;5;241;43m.\u001b[39;49m\u001b[43msolver\u001b[49m\u001b[38;5;241;43m.\u001b[39;49m\u001b[43msolve_via_data\u001b[49m\u001b[43m(\u001b[49m\u001b[43mdata\u001b[49m\u001b[43m,\u001b[49m\u001b[43m \u001b[49m\u001b[43mwarm_start\u001b[49m\u001b[43m,\u001b[49m\u001b[43m \u001b[49m\u001b[43mverbose\u001b[49m\u001b[43m,\u001b[49m\n\u001b[0;32m    525\u001b[0m \u001b[43m                                      \u001b[49m\u001b[43msolver_opts\u001b[49m\u001b[43m,\u001b[49m\u001b[43m \u001b[49m\u001b[43mproblem\u001b[49m\u001b[38;5;241;43m.\u001b[39;49m\u001b[43m_solver_cache\u001b[49m\u001b[43m)\u001b[49m\n",
      "File \u001b[1;32mc:\\Users\\rodcs\\.conda\\envs\\quantum_stuff\\Lib\\site-packages\\cvxpy\\reductions\\solvers\\conic_solvers\\scs_conif.py:342\u001b[0m, in \u001b[0;36mSCS.solve_via_data\u001b[1;34m(self, data, warm_start, verbose, solver_opts, solver_cache)\u001b[0m\n\u001b[0;32m    339\u001b[0m     \u001b[38;5;28;01mreturn\u001b[39;00m _results, _status\n\u001b[0;32m    341\u001b[0m solver_opts \u001b[38;5;241m=\u001b[39m SCS\u001b[38;5;241m.\u001b[39mparse_solver_options(solver_opts)\n\u001b[1;32m--> 342\u001b[0m results, status \u001b[38;5;241m=\u001b[39m \u001b[43msolve\u001b[49m\u001b[43m(\u001b[49m\u001b[43msolver_opts\u001b[49m\u001b[43m)\u001b[49m\n\u001b[0;32m    343\u001b[0m \u001b[38;5;28;01mif\u001b[39;00m (status \u001b[38;5;129;01min\u001b[39;00m s\u001b[38;5;241m.\u001b[39mINACCURATE \u001b[38;5;129;01mand\u001b[39;00m scs_version\u001b[38;5;241m.\u001b[39mmajor \u001b[38;5;241m==\u001b[39m \u001b[38;5;241m2\u001b[39m\n\u001b[0;32m    344\u001b[0m         \u001b[38;5;129;01mand\u001b[39;00m \u001b[38;5;124m\"\u001b[39m\u001b[38;5;124macceleration_lookback\u001b[39m\u001b[38;5;124m\"\u001b[39m \u001b[38;5;129;01mnot\u001b[39;00m \u001b[38;5;129;01min\u001b[39;00m solver_opts):\n\u001b[0;32m    345\u001b[0m     \u001b[38;5;28;01mimport\u001b[39;00m\u001b[38;5;250m \u001b[39m\u001b[38;5;21;01mwarnings\u001b[39;00m\n",
      "File \u001b[1;32mc:\\Users\\rodcs\\.conda\\envs\\quantum_stuff\\Lib\\site-packages\\cvxpy\\reductions\\solvers\\conic_solvers\\scs_conif.py:337\u001b[0m, in \u001b[0;36mSCS.solve_via_data.<locals>.solve\u001b[1;34m(_solver_opts)\u001b[0m\n\u001b[0;32m    335\u001b[0m     _status \u001b[38;5;241m=\u001b[39m \u001b[38;5;28mself\u001b[39m\u001b[38;5;241m.\u001b[39mSTATUS_MAP[_results[\u001b[38;5;124m\"\u001b[39m\u001b[38;5;124minfo\u001b[39m\u001b[38;5;124m\"\u001b[39m][\u001b[38;5;124m\"\u001b[39m\u001b[38;5;124mstatusVal\u001b[39m\u001b[38;5;124m\"\u001b[39m]]\n\u001b[0;32m    336\u001b[0m \u001b[38;5;28;01melse\u001b[39;00m:\n\u001b[1;32m--> 337\u001b[0m     _results \u001b[38;5;241m=\u001b[39m \u001b[43mscs\u001b[49m\u001b[38;5;241;43m.\u001b[39;49m\u001b[43msolve\u001b[49m\u001b[43m(\u001b[49m\u001b[43margs\u001b[49m\u001b[43m,\u001b[49m\u001b[43m \u001b[49m\u001b[43mcones\u001b[49m\u001b[43m,\u001b[49m\u001b[43m \u001b[49m\u001b[43mverbose\u001b[49m\u001b[38;5;241;43m=\u001b[39;49m\u001b[43mverbose\u001b[49m\u001b[43m,\u001b[49m\u001b[43m \u001b[49m\u001b[38;5;241;43m*\u001b[39;49m\u001b[38;5;241;43m*\u001b[39;49m\u001b[43m_solver_opts\u001b[49m\u001b[43m)\u001b[49m\n\u001b[0;32m    338\u001b[0m     _status \u001b[38;5;241m=\u001b[39m \u001b[38;5;28mself\u001b[39m\u001b[38;5;241m.\u001b[39mSTATUS_MAP[_results[\u001b[38;5;124m\"\u001b[39m\u001b[38;5;124minfo\u001b[39m\u001b[38;5;124m\"\u001b[39m][\u001b[38;5;124m\"\u001b[39m\u001b[38;5;124mstatus_val\u001b[39m\u001b[38;5;124m\"\u001b[39m]]\n\u001b[0;32m    339\u001b[0m \u001b[38;5;28;01mreturn\u001b[39;00m _results, _status\n",
      "File \u001b[1;32mc:\\Users\\rodcs\\.conda\\envs\\quantum_stuff\\Lib\\site-packages\\scs\\__init__.py:201\u001b[0m, in \u001b[0;36msolve\u001b[1;34m(data, cone, **settings)\u001b[0m\n\u001b[0;32m    198\u001b[0m \u001b[38;5;28;01mif\u001b[39;00m \u001b[38;5;124m\"\u001b[39m\u001b[38;5;124ms\u001b[39m\u001b[38;5;124m\"\u001b[39m \u001b[38;5;129;01min\u001b[39;00m data:\n\u001b[0;32m    199\u001b[0m     s \u001b[38;5;241m=\u001b[39m data[\u001b[38;5;124m\"\u001b[39m\u001b[38;5;124ms\u001b[39m\u001b[38;5;124m\"\u001b[39m]\n\u001b[1;32m--> 201\u001b[0m \u001b[38;5;28;01mreturn\u001b[39;00m \u001b[43msolver\u001b[49m\u001b[38;5;241;43m.\u001b[39;49m\u001b[43msolve\u001b[49m\u001b[43m(\u001b[49m\u001b[43mwarm_start\u001b[49m\u001b[38;5;241;43m=\u001b[39;49m\u001b[38;5;28;43;01mTrue\u001b[39;49;00m\u001b[43m,\u001b[49m\u001b[43m \u001b[49m\u001b[43mx\u001b[49m\u001b[38;5;241;43m=\u001b[39;49m\u001b[43mx\u001b[49m\u001b[43m,\u001b[49m\u001b[43m \u001b[49m\u001b[43my\u001b[49m\u001b[38;5;241;43m=\u001b[39;49m\u001b[43my\u001b[49m\u001b[43m,\u001b[49m\u001b[43m \u001b[49m\u001b[43ms\u001b[49m\u001b[38;5;241;43m=\u001b[39;49m\u001b[43ms\u001b[49m\u001b[43m)\u001b[49m\n",
      "File \u001b[1;32mc:\\Users\\rodcs\\.conda\\envs\\quantum_stuff\\Lib\\site-packages\\scs\\__init__.py:173\u001b[0m, in \u001b[0;36mSCS.solve\u001b[1;34m(self, warm_start, x, y, s)\u001b[0m\n\u001b[0;32m    156\u001b[0m \u001b[38;5;28;01mdef\u001b[39;00m\u001b[38;5;250m \u001b[39m\u001b[38;5;21msolve\u001b[39m(\u001b[38;5;28mself\u001b[39m, warm_start\u001b[38;5;241m=\u001b[39m\u001b[38;5;28;01mTrue\u001b[39;00m, x\u001b[38;5;241m=\u001b[39m\u001b[38;5;28;01mNone\u001b[39;00m, y\u001b[38;5;241m=\u001b[39m\u001b[38;5;28;01mNone\u001b[39;00m, s\u001b[38;5;241m=\u001b[39m\u001b[38;5;28;01mNone\u001b[39;00m):\n\u001b[0;32m    157\u001b[0m \u001b[38;5;250m    \u001b[39m\u001b[38;5;124;03m\"\"\"Solve the optimization problem.\u001b[39;00m\n\u001b[0;32m    158\u001b[0m \n\u001b[0;32m    159\u001b[0m \u001b[38;5;124;03m    @param warm_start   Whether to warm-start. By default the solution of\u001b[39;00m\n\u001b[1;32m   (...)\u001b[0m\n\u001b[0;32m    171\u001b[0m \u001b[38;5;124;03m         'info' - information dictionary (see docs)\u001b[39;00m\n\u001b[0;32m    172\u001b[0m \u001b[38;5;124;03m    \"\"\"\u001b[39;00m\n\u001b[1;32m--> 173\u001b[0m     \u001b[38;5;28;01mreturn\u001b[39;00m \u001b[38;5;28;43mself\u001b[39;49m\u001b[38;5;241;43m.\u001b[39;49m\u001b[43m_solver\u001b[49m\u001b[38;5;241;43m.\u001b[39;49m\u001b[43msolve\u001b[49m\u001b[43m(\u001b[49m\u001b[43mwarm_start\u001b[49m\u001b[43m,\u001b[49m\u001b[43m \u001b[49m\u001b[43mx\u001b[49m\u001b[43m,\u001b[49m\u001b[43m \u001b[49m\u001b[43my\u001b[49m\u001b[43m,\u001b[49m\u001b[43m \u001b[49m\u001b[43ms\u001b[49m\u001b[43m)\u001b[49m\n",
      "\u001b[1;31mKeyboardInterrupt\u001b[0m: "
     ]
    }
   ],
   "source": [
    "import numpy as np\n",
    "import plotly.graph_objects as go\n",
    "\n",
    "# Define parameters\n",
    "times = [10, 1, 0.1, 0.01, 0.001]\n",
    "for time in times:\n",
    "    num_qubits = 3\n",
    "    num_terms = 100\n",
    "    theoretical_errors = []\n",
    "    unitary_errors = []\n",
    "    unitary_errors_inf = []\n",
    "    diamond_distances = []\n",
    "    nums_samples = np.arange(500, 2000, 100).tolist() + np.arange(2000, 10000, 1000).tolist()\n",
    "    # Set seaborn style\n",
    "    # Generate a random Hamiltonian\n",
    "    hamiltonian = generate_random_hamiltonian(num_qubits, num_terms)\n",
    "    print(f\"Hamiltonian: {hamiltonian}\")\n",
    "\n",
    "    # Compute exact unitary evolution\n",
    "    U_exact = exact_unitary_evolution(hamiltonian, time)\n",
    "\n",
    "    for num_samples in nums_samples:\n",
    "        # Compute qDRIFT approximation\n",
    "        sampled_unitaries, labels = qdrift_sample(hamiltonian, time, num_samples)\n",
    "        # multiply the sampled unitaries in the order they were sampled\n",
    "        U_qdrift = sampled_unitaries[0]\n",
    "        for unitary in sampled_unitaries[1:]:\n",
    "            U_qdrift = U_qdrift @ unitary\n",
    "        U_qdrift = Operator(U_qdrift)\n",
    "        # Compute errors\n",
    "        error = unitary_error_2_norm(U_exact, U_qdrift)\n",
    "        error_2 = unitary_error_inf_norm(U_exact, U_qdrift)\n",
    "        diamond_dist = compute_diamond_distance(U_exact, U_qdrift)\n",
    "        lam = sum(abs(term[0]) for term in hamiltonian)\n",
    "        theoretical_error = estimate_theoretical_qdrift_errror(num_samples=num_samples, lam=lam, time=time)\n",
    "        # print(f\"Theoretical Error\\t\\tError\\t\\tDiamond Distance\")\n",
    "        # print(f\"   {theoretical_error}\\t    {error} \\t    {diamond_dist}\")\n",
    "        theoretical_errors.append(2 * theoretical_error)\n",
    "        unitary_errors.append(error)\n",
    "        diamond_distances.append(diamond_dist)\n",
    "        unitary_errors_inf.append(error_2)\n",
    "\n",
    "    # graph error vs num sampleswith plotly\n",
    "    fig = go.Figure()\n",
    "    fig.add_trace(go.Scatter(x=nums_samples, y=theoretical_errors, mode='lines', name='Theoretical Error'))\n",
    "    fig.add_trace(go.Scatter(x=nums_samples, y=unitary_errors, mode='lines', name='Unitary Error 2-norm'))\n",
    "    fig.add_trace(go.Scatter(x=nums_samples, y=unitary_errors_inf, mode='lines', name='Unitary Error inf-norm'))\n",
    "    fig.add_trace(go.Scatter(x=nums_samples, y=diamond_distances, mode='lines', name='Diamond Distance'))\n",
    "    fig.update_layout(title=f'Error vs Number of Samples for time={time}', xaxis_title='Number of Samples', yaxis_title='Error')\n",
    "    fig.show()\n",
    "    "
   ]
  }
 ],
 "metadata": {
  "kernelspec": {
   "display_name": "quantum_stuff",
   "language": "python",
   "name": "python3"
  },
  "language_info": {
   "codemirror_mode": {
    "name": "ipython",
    "version": 3
   },
   "file_extension": ".py",
   "mimetype": "text/x-python",
   "name": "python",
   "nbconvert_exporter": "python",
   "pygments_lexer": "ipython3",
   "version": "3.13.1"
  }
 },
 "nbformat": 4,
 "nbformat_minor": 2
}
