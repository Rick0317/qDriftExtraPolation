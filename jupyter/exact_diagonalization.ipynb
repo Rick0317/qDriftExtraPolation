{
 "cells": [
  {
   "cell_type": "code",
   "id": "initial_id",
   "metadata": {
    "collapsed": true,
    "ExecuteTime": {
     "end_time": "2024-07-25T03:45:34.051935Z",
     "start_time": "2024-07-25T03:45:33.130326Z"
    }
   },
   "source": "import numpy as np",
   "outputs": [],
   "execution_count": 1
  },
  {
   "metadata": {},
   "cell_type": "markdown",
   "source": "# Exact diagonalization for spinless Hubbard model",
   "id": "9459da748d4ba0bd"
  },
  {
   "metadata": {
    "ExecuteTime": {
     "end_time": "2024-07-25T03:45:36.082817Z",
     "start_time": "2024-07-25T03:45:36.078774Z"
    }
   },
   "cell_type": "code",
   "source": [
    "a = np.array([[0, 1], [0, 0]])\n",
    "a_dag = np.array([[0, 0], [1, 0]])\n",
    "pauli_z = np.array([[1, 0], [0, -1]])"
   ],
   "id": "f3639be6ddc17195",
   "outputs": [],
   "execution_count": 2
  },
  {
   "metadata": {
    "ExecuteTime": {
     "end_time": "2024-07-25T04:09:27.900567Z",
     "start_time": "2024-07-25T04:09:27.888721Z"
    }
   },
   "cell_type": "code",
   "source": [
    "def a_j(j: int, n: int):\n",
    "    tensor = 1\n",
    "    if j == 0:\n",
    "        tensor = a\n",
    "        for i in range(n-1):\n",
    "            tensor = np.kron(np.eye(2), tensor)\n",
    "        return tensor\n",
    "    for _ in range(j):\n",
    "        tensor = np.kron(pauli_z, tensor)\n",
    "    \n",
    "    tensor = np.kron(a, tensor)\n",
    "    \n",
    "    for _ in range(n-j-1):\n",
    "        tensor = np.kron(pauli_z, tensor)\n",
    "        \n",
    "    return tensor\n",
    "\n",
    "def a_dag_j(j: int, n: int):\n",
    "    tensor = 1\n",
    "    if j == 0:\n",
    "        tensor = a_dag\n",
    "        for i in range(n-1):\n",
    "            tensor = np.kron(np.eye(2), tensor)\n",
    "        return tensor\n",
    "    for _ in range(j):\n",
    "        tensor = np.kron(pauli_z, tensor)\n",
    "    \n",
    "    tensor = np.kron(a_dag, tensor)\n",
    "    \n",
    "    for _ in range(n-j-1):\n",
    "        tensor = np.kron(pauli_z, tensor)\n",
    "        \n",
    "    return tensor\n",
    "\n",
    "def num_j(j: int, n: int):\n",
    "    return a_dag_j(j, n) @ a_j(j, n)"
   ],
   "id": "51acfa1602c24488",
   "outputs": [],
   "execution_count": 28
  },
  {
   "metadata": {
    "ExecuteTime": {
     "end_time": "2024-07-25T04:09:28.342958Z",
     "start_time": "2024-07-25T04:09:28.340093Z"
    }
   },
   "cell_type": "code",
   "source": [
    "def hubbard(n, t, U):\n",
    "    total = 0\n",
    "    for i in range(n-1):\n",
    "        total += -t * a_dag_j(i+1, n) @ a_j(i, n)\n",
    "        total += -t * a_dag_j(i, n) @ a_j(i+1, n)\n",
    "    for i in range(n):\n",
    "        total += U * num_j(i, n)\n",
    "    \n",
    "    return total"
   ],
   "id": "5c3a0fd1db2e2ac3",
   "outputs": [],
   "execution_count": 29
  },
  {
   "metadata": {
    "ExecuteTime": {
     "end_time": "2024-07-25T04:09:29.947485Z",
     "start_time": "2024-07-25T04:09:29.936444Z"
    }
   },
   "cell_type": "code",
   "source": "eig, eigv = np.linalg.eigh(hubbard(3, 2, 1))",
   "id": "6a4de329f7683117",
   "outputs": [],
   "execution_count": 32
  },
  {
   "metadata": {
    "ExecuteTime": {
     "end_time": "2024-07-25T04:09:31.219991Z",
     "start_time": "2024-07-25T04:09:31.215012Z"
    }
   },
   "cell_type": "code",
   "source": "print(eig)",
   "id": "3445481e9ae03888",
   "outputs": [
    {
     "name": "stdout",
     "output_type": "stream",
     "text": [
      "[-1.82842712 -0.82842712  0.          1.          2.          3.\n",
      "  3.82842712  4.82842712]\n"
     ]
    }
   ],
   "execution_count": 33
  },
  {
   "metadata": {
    "ExecuteTime": {
     "end_time": "2024-07-23T04:42:23.603759Z",
     "start_time": "2024-07-23T04:42:23.598790Z"
    }
   },
   "cell_type": "code",
   "source": "a_j(1, 2)",
   "id": "8729b812185836d6",
   "outputs": [
    {
     "data": {
      "text/plain": [
       "array([[ 0,  0,  1,  0],\n",
       "       [ 0,  0,  0, -1],\n",
       "       [ 0,  0,  0,  0],\n",
       "       [ 0,  0,  0,  0]])"
      ]
     },
     "execution_count": 9,
     "metadata": {},
     "output_type": "execute_result"
    }
   ],
   "execution_count": 9
  },
  {
   "metadata": {
    "ExecuteTime": {
     "end_time": "2024-07-23T04:36:03.065415Z",
     "start_time": "2024-07-23T04:36:03.051731Z"
    }
   },
   "cell_type": "code",
   "source": "np.kron(a, np.eye(2))",
   "id": "3d3a7722667c3db2",
   "outputs": [
    {
     "data": {
      "text/plain": [
       "array([[0., 0., 1., 0.],\n",
       "       [0., 0., 0., 1.],\n",
       "       [0., 0., 0., 0.],\n",
       "       [0., 0., 0., 0.]])"
      ]
     },
     "execution_count": 3,
     "metadata": {},
     "output_type": "execute_result"
    }
   ],
   "execution_count": 3
  },
  {
   "metadata": {},
   "cell_type": "code",
   "outputs": [],
   "execution_count": null,
   "source": "",
   "id": "5221edf6025307dd"
  }
 ],
 "metadata": {
  "kernelspec": {
   "display_name": "Python 3",
   "language": "python",
   "name": "python3"
  },
  "language_info": {
   "codemirror_mode": {
    "name": "ipython",
    "version": 2
   },
   "file_extension": ".py",
   "mimetype": "text/x-python",
   "name": "python",
   "nbconvert_exporter": "python",
   "pygments_lexer": "ipython2",
   "version": "2.7.6"
  }
 },
 "nbformat": 4,
 "nbformat_minor": 5
}
