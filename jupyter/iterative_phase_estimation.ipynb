{
 "cells": [
  {
   "cell_type": "code",
   "execution_count": 3,
   "metadata": {},
   "outputs": [],
   "source": [
    "# add ..\\ to path\n",
    "import sys\n",
    "sys.path.append('..\\\\')\n",
    "from scripts.algo.iterative_phase_estimation import iterative_phase_estimation\n"
   ]
  },
  {
   "cell_type": "code",
   "execution_count": null,
   "metadata": {},
   "outputs": [],
   "source": [
    "from qiskit import QuantumCircuit, transpile\n",
    "from qiskit.circuit.library import UnitaryGate\n",
    "import numpy as np\n",
    "from qiskit_aer import Aer\n",
    "from qiskit.quantum_info import SparsePauliOp, Operator\n",
    "from qiskit.compiler import transpile\n",
    "from typing import Union, Optional\n",
    "def iterative_phase_estimation_v2(U: Union[UnitaryGate, np.array], \n",
    "                               num_evals: int, \n",
    "                               eigenstate: Optional[Union[QuantumCircuit, np.array]],\n",
    "                               backend,\n",
    "                               num_qubits=1) -> float:\n",
    "    \n",
    "    # Data type management:\n",
    "    # Convert U to a gate if it's a numpy array\n",
    "    if isinstance(U, np.ndarray):\n",
    "        U = UnitaryGate(U)\n",
    "    \n",
    "    elif isinstance(U, SparsePauliOp):\n",
    "        op = Operator(U)\n",
    "        U = UnitaryGate(op)\n",
    "    \n",
    "    elif isinstance(U, Operator):\n",
    "        U = UnitaryGate(U)\n",
    "\n",
    "\n",
    "    # Prepare the initial eigenstate\n",
    "    if isinstance(eigenstate, np.ndarray):\n",
    "        eigenstate_circuit = QuantumCircuit(num_qubits, name='eigenstate')\n",
    "        # the eigenstate is a vector of complex numbers that determine the state of the qubits other than the control qubit\n",
    "        eigenstate_circuit.initialize(eigenstate)\n",
    "\n",
    "    else:\n",
    "        eigenstate_circuit = eigenstate\n",
    "\n",
    "    # Actually create the circuit\n",
    "    qc = QuantumCircuit(num_qubits + 1,1)\n",
    "    qc.append(eigenstate_circuit, range(1, num_qubits + 1)) # Apply the eigenstate to the qubits\n",
    "    qc.h(0) # Apply Hadamard to the control qubit\n",
    "    u = U.control(1) # Create the controlled-U gate\n",
    "    qc.append(u, range(num_qubits + 1)) # Apply the controlled-U gate\n",
    "    qc.h(0) # Apply Hadamard to the control qubit\n",
    "    qc.measure(0, cbit=0) # Measure the control qubit\n",
    "\n",
    "    # Execute the circuit num_evals times\n",
    "    job = backend.run(transpile(qc, backend), dynamic=False, shots=num_evals, memory=True, meas_level=0, meas_return='single')\n",
    "    num_zeros = 0\n",
    "    result = job.result()\n",
    "    counts = result.get_counts()\n",
    "    print(counts)\n",
    "    if '0' in counts:\n",
    "        num_zeros = counts['0']\n",
    "    tot = sum(counts.values())\n",
    "    return num_zeros / tot, qc\n"
   ]
  },
  {
   "cell_type": "code",
   "execution_count": null,
   "metadata": {},
   "outputs": [],
   "source": [
    "# TESTNG V2\n",
    "import scipy\n",
    "import scipy.linalg\n",
    "rand_angle = random.randint(0, 100) % np.pi\n",
    "print(f\"random angle: {rand_angle}\")\n",
    "test_hamiltonian = np.array([[3, rand_angle], [rand_angle, 1]])\n",
    "U = scipy.linalg.expm(1j * test_hamiltonian)\n",
    "\n",
    "exact_eigensolver = NumPyEigensolver()\n",
    "exact_eigenvalue, eigenvectors= scipy.linalg.eig(test_hamiltonian)\n",
    "print(f\"rotation matrix: {test_hamiltonian}\")\n",
    "print(f\"exact eigenvalue: {exact_eigenvalue}\")\n",
    "\n",
    "# pick eigenstate that corresponds to smallest eigenvalue\n",
    "eigenstate = eigenvectors[:, np.argmin(exact_eigenvalue)]\n",
    "iterations = []\n",
    "estimations = []\n",
    "\n",
    "for i in range(1, 1000, 10):\n",
    "    num_evals = i\n",
    "    print(f'current number of evaluations: {num_evals}')\n",
    "    p_0, qc = iterative_phase_estimation_v2(U, num_evals, eigenstate, selected_backend, num_qubits=1)\n",
    "    print(p_0)\n",
    "    estimated_eigenvalue = 2 * np.arccos(np.sqrt(p_0))\n",
    "    iterations.append(i)\n",
    "    estimations.append(estimated_eigenvalue)\n",
    "    print(f\"estimation: {estimated_eigenvalue} \\n exact answer: {min(exact_eigenvalue)}\")\n"
   ]
  },
  {
   "cell_type": "code",
   "execution_count": null,
   "metadata": {},
   "outputs": [],
   "source": [
    "# plot # iterations vs estimation\n",
    "plt.plot(iterations, estimations)\n",
    "plt.xlabel('Number of iterations')\n",
    "plt.ylabel('Estimated eigenvalue')\n",
    "plt.title('Number of iterations vs Estimated eigenvalue')\n",
    "# add verical line at exact eigenvalue\n",
    "exact_result = exact_eigenvalue[1]\n",
    "plt.axhline(exact_result, color='r', linestyle='--')\n",
    "plt.show()"
   ]
  },
  {
   "cell_type": "code",
   "execution_count": null,
   "metadata": {},
   "outputs": [],
   "source": []
  }
 ],
 "metadata": {
  "kernelspec": {
   "display_name": "Python 3",
   "language": "python",
   "name": "python3"
  },
  "language_info": {
   "codemirror_mode": {
    "name": "ipython",
    "version": 3
   },
   "file_extension": ".py",
   "mimetype": "text/x-python",
   "name": "python",
   "nbconvert_exporter": "python",
   "pygments_lexer": "ipython3",
   "version": "3.10.4"
  }
 },
 "nbformat": 4,
 "nbformat_minor": 2
}
