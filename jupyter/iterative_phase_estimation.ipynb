{
 "cells": [
  {
   "cell_type": "code",
   "execution_count": 1,
   "metadata": {},
   "outputs": [],
   "source": [
    "# add ..\\ to path\n",
    "import sys\n",
    "sys.path.append('..\\\\')\n",
    "from scripts.algo.iterative_phase_estimation import iterative_phase_estimation\n"
   ]
  },
  {
   "cell_type": "code",
   "execution_count": 2,
   "metadata": {},
   "outputs": [
    {
     "name": "stdout",
     "output_type": "stream",
     "text": [
      "{'0': 1}\n",
      "{'0': 1}\n",
      "{'0': 1}\n",
      "{'0': 1}\n",
      "{'0': 1}\n",
      "{'0': 1}\n",
      "{'0': 1}\n",
      "{'0': 1}\n",
      "{'0': 1}\n",
      "{'0': 1}\n",
      "{'0': 1}\n",
      "{'0': 1}\n",
      "{'0': 1}\n",
      "{'0': 1}\n",
      "{'0': 1}\n",
      "{'0': 1}\n",
      "{'0': 1}\n",
      "{'0': 1}\n",
      "{'0': 1}\n",
      "{'0': 1}\n",
      "{'0': 1}\n",
      "{'0': 1}\n",
      "{'0': 1}\n",
      "{'0': 1}\n",
      "{'0': 1}\n",
      "{'0': 1}\n",
      "{'0': 1}\n",
      "{'0': 1}\n",
      "{'0': 1}\n",
      "{'0': 1}\n",
      "{'0': 1}\n",
      "{'0': 1}\n",
      "{'0': 1}\n",
      "{'0': 1}\n",
      "{'0': 1}\n",
      "{'0': 1}\n",
      "{'0': 1}\n",
      "{'0': 1}\n",
      "{'0': 1}\n",
      "{'0': 1}\n",
      "{'0': 1}\n",
      "{'0': 1}\n",
      "{'0': 1}\n",
      "{'0': 1}\n",
      "{'0': 1}\n",
      "{'0': 1}\n",
      "{'0': 1}\n",
      "{'0': 1}\n",
      "{'0': 1}\n",
      "{'0': 1}\n",
      "{'0': 1}\n",
      "{'0': 1}\n",
      "{'0': 1}\n",
      "{'0': 1}\n",
      "{'0': 1}\n",
      "{'0': 1}\n",
      "{'0': 1}\n",
      "{'0': 1}\n",
      "{'0': 1}\n",
      "{'0': 1}\n",
      "{'0': 1}\n",
      "{'0': 1}\n",
      "{'0': 1}\n",
      "{'0': 1}\n",
      "{'0': 1}\n",
      "{'0': 1}\n",
      "{'0': 1}\n",
      "{'0': 1}\n",
      "{'0': 1}\n",
      "{'0': 1}\n",
      "{'0': 1}\n",
      "{'0': 1}\n",
      "{'0': 1}\n",
      "{'0': 1}\n",
      "{'0': 1}\n",
      "{'0': 1}\n",
      "{'0': 1}\n",
      "{'0': 1}\n",
      "{'0': 1}\n",
      "{'0': 1}\n",
      "{'0': 1}\n",
      "{'0': 1}\n",
      "{'0': 1}\n",
      "{'0': 1}\n",
      "{'0': 1}\n",
      "{'0': 1}\n",
      "{'0': 1}\n",
      "{'0': 1}\n",
      "{'0': 1}\n",
      "{'0': 1}\n",
      "{'0': 1}\n",
      "{'0': 1}\n",
      "{'0': 1}\n",
      "{'0': 1}\n",
      "{'0': 1}\n",
      "{'0': 1}\n",
      "{'0': 1}\n",
      "{'0': 1}\n",
      "{'0': 1}\n",
      "{'0': 1}\n",
      "1.0\n"
     ]
    }
   ],
   "source": [
    "import numpy as np\n",
    "from qiskit_aer import Aer\n",
    "U = np.array([[1, 0], [0, -1]])\n",
    "eigenstate = np.array([1, 0])\n",
    "num_evals = 100\n",
    "\n",
    "# Run the algorithm. Determine how many times the control qubit was measured to be 0.\n",
    "\n",
    "# Now, to exectue a qiksit circuit, qe need to specify a few things:\n",
    "# 1. The backend: this is the simulator or the real quantum computer that will run the circuit\n",
    "'''service = QiskitRuntimeService()\n",
    "available_backends = service.backends()\n",
    "filtered_backends = service.backends(available=True, min_num_qubits=2, simulator=True)\n",
    "selected_backend = service.least_busy(filtered_backends)'''\n",
    "# Since I dont have an account, I will use the Aer simulator\n",
    "selected_backend = Aer.get_backend('qasm_simulator')\n",
    "\n",
    "# 2. Experiment: this is the circuit that we want to run. It is a QuantumCircuit object\n",
    "p_0, qc = iterative_phase_estimation(U, num_evals, eigenstate, selected_backend)\n",
    "print(p_0)\n"
   ]
  },
  {
   "cell_type": "code",
   "execution_count": 3,
   "metadata": {},
   "outputs": [
    {
     "data": {
      "image/png": "[encoded data removed]",
      "text/plain": [
       "<Figure size 621.739x284.278 with 1 Axes>"
      ]
     },
     "execution_count": 3,
     "metadata": {},
     "output_type": "execute_result"
    }
   ],
   "source": [
    "qc.draw('mpl')"
   ]
  },
  {
   "cell_type": "code",
   "execution_count": 4,
   "metadata": {},
   "outputs": [
    {
     "data": {
      "text/plain": [
       "FermionicOp({'+_0 -_1': -1, '+_1 -_0': -1, '+_0 -_0 +_1 -_1': 1}, num_spin_orbitals=2, )"
      ]
     },
     "execution_count": 4,
     "metadata": {},
     "output_type": "execute_result"
    }
   ],
   "source": [
    "# Sexier Hamiltonian: Hubbard model\n",
    "from qiskit_nature.second_q.operators import FermionicOp\n",
    "\n",
    "'''A FermionicOp represents a weighted sum of fermionic creation/annihilation operator terms. \n",
    "These terms are encoded as sparse labels, which are strings consisting of a space-separated \n",
    "list of expressions. Each expression must look like [+-]_<index>, where the <index> is a \n",
    "non-negative integer representing the index of the fermionic mode where the + (creation) \n",
    "or - (annihilation) operation is to be performed. The value of index is bound by the number of spin orbitals \n",
    "(num_spin_orbitals) of the operator '''\n",
    "\n",
    "# Define the one-body interactions (kinetic term)\n",
    "t = 1 # hopping term\n",
    "one_body_interactions = FermionicOp({\"+_0 -_1\": -t, \"+_1 -_0\": -t})\n",
    "\n",
    "# Define the two-body interactions (interaction term)\n",
    "U = 1 # Coulomb repulsion\n",
    "two_body_interactions = FermionicOp({\"+_0 -_0 +_1 -_1\": U})\n",
    "\n",
    "# Define the Hubbard Hamiltonian\n",
    "H = one_body_interactions + two_body_interactions\n",
    "H"
   ]
  },
  {
   "cell_type": "code",
   "execution_count": 5,
   "metadata": {},
   "outputs": [
    {
     "data": {
      "text/plain": [
       "SparsePauliOp(['YY', 'XX', 'II', 'ZI', 'IZ', 'ZZ'],\n",
       "              coeffs=[-0.5 +0.j, -0.5 +0.j,  0.25+0.j, -0.25+0.j, -0.25+0.j,  0.25+0.j])"
      ]
     },
     "execution_count": 5,
     "metadata": {},
     "output_type": "execute_result"
    }
   ],
   "source": [
    "# Convert Fermionic hamiltonian to pauli operators using the Jordan-Wigner transformation\n",
    "from qiskit_nature.second_q.mappers import JordanWignerMapper\n",
    "\n",
    "mapper = JordanWignerMapper()\n",
    "\n",
    "qubit_op = mapper.map(H)\n",
    "\n",
    "qubit_op"
   ]
  },
  {
   "cell_type": "code",
   "execution_count": 6,
   "metadata": {},
   "outputs": [
    {
     "ename": "ValueError",
     "evalue": "Input matrix is not unitary.",
     "output_type": "error",
     "traceback": [
      "\u001b[1;31m---------------------------------------------------------------------------\u001b[0m",
      "\u001b[1;31mValueError\u001b[0m                                Traceback (most recent call last)",
      "Cell \u001b[1;32mIn[6], line 5\u001b[0m\n\u001b[0;32m      3\u001b[0m num_evals \u001b[38;5;241m=\u001b[39m \u001b[38;5;241m10\u001b[39m\n\u001b[0;32m      4\u001b[0m eigenstate \u001b[38;5;241m=\u001b[39m np\u001b[38;5;241m.\u001b[39marray([\u001b[38;5;241m1\u001b[39m, \u001b[38;5;241m0\u001b[39m, \u001b[38;5;241m0\u001b[39m, \u001b[38;5;241m0\u001b[39m])\n\u001b[1;32m----> 5\u001b[0m p_0, qc \u001b[38;5;241m=\u001b[39m \u001b[43miterative_phase_estimation\u001b[49m\u001b[43m(\u001b[49m\u001b[43mqubit_op\u001b[49m\u001b[43m,\u001b[49m\u001b[43m \u001b[49m\u001b[43mnum_evals\u001b[49m\u001b[43m,\u001b[49m\u001b[43m \u001b[49m\u001b[43meigenstate\u001b[49m\u001b[43m,\u001b[49m\u001b[43m \u001b[49m\u001b[43mselected_backend\u001b[49m\u001b[43m,\u001b[49m\u001b[43m \u001b[49m\u001b[43mnum_qubits\u001b[49m\u001b[38;5;241;43m=\u001b[39;49m\u001b[38;5;241;43m2\u001b[39;49m\u001b[43m)\u001b[49m\n\u001b[0;32m      6\u001b[0m \u001b[38;5;28mprint\u001b[39m(p_0)\n",
      "File \u001b[1;32mc:\\Users\\u1037737\\OneDrive - Sanofi\\Desktop\\qDriftExtraPolation-1\\jupyter\\..\\scripts\\algo\\iterative_phase_estimation.py:29\u001b[0m, in \u001b[0;36miterative_phase_estimation\u001b[1;34m(U, num_evals, eigenstate, backend, num_qubits)\u001b[0m\n\u001b[0;32m     27\u001b[0m \u001b[38;5;28;01melif\u001b[39;00m \u001b[38;5;28misinstance\u001b[39m(U, SparsePauliOp):\n\u001b[0;32m     28\u001b[0m     op \u001b[38;5;241m=\u001b[39m Operator(U)\n\u001b[1;32m---> 29\u001b[0m     U \u001b[38;5;241m=\u001b[39m \u001b[43mUnitaryGate\u001b[49m\u001b[43m(\u001b[49m\u001b[43mop\u001b[49m\u001b[43m)\u001b[49m\n\u001b[0;32m     31\u001b[0m \u001b[38;5;28;01melif\u001b[39;00m \u001b[38;5;28misinstance\u001b[39m(U, Operator):\n\u001b[0;32m     32\u001b[0m     U \u001b[38;5;241m=\u001b[39m UnitaryGate(U)\n",
      "File \u001b[1;32m~\\AppData\\Roaming\\Python\\Python310\\site-packages\\qiskit\\circuit\\library\\generalized_gates\\unitary.py:108\u001b[0m, in \u001b[0;36mUnitaryGate.__init__\u001b[1;34m(self, data, label, check_input, num_qubits)\u001b[0m\n\u001b[0;32m    105\u001b[0m \u001b[38;5;28;01mif\u001b[39;00m check_input:\n\u001b[0;32m    106\u001b[0m     \u001b[38;5;66;03m# Check input is unitary\u001b[39;00m\n\u001b[0;32m    107\u001b[0m     \u001b[38;5;28;01mif\u001b[39;00m \u001b[38;5;129;01mnot\u001b[39;00m is_unitary_matrix(data):\n\u001b[1;32m--> 108\u001b[0m         \u001b[38;5;28;01mraise\u001b[39;00m \u001b[38;5;167;01mValueError\u001b[39;00m(\u001b[38;5;124m\"\u001b[39m\u001b[38;5;124mInput matrix is not unitary.\u001b[39m\u001b[38;5;124m\"\u001b[39m)\n\u001b[0;32m    109\u001b[0m     \u001b[38;5;66;03m# Check input is N-qubit matrix\u001b[39;00m\n\u001b[0;32m    110\u001b[0m     \u001b[38;5;28;01mif\u001b[39;00m input_dim \u001b[38;5;241m!=\u001b[39m output_dim \u001b[38;5;129;01mor\u001b[39;00m \u001b[38;5;241m2\u001b[39m\u001b[38;5;241m*\u001b[39m\u001b[38;5;241m*\u001b[39mnum_qubits \u001b[38;5;241m!=\u001b[39m input_dim:\n",
      "\u001b[1;31mValueError\u001b[0m: Input matrix is not unitary."
     ]
    }
   ],
   "source": [
    "# Run the Iterative Phase Estimation algorithm with the Hubbard Hamiltonian\n",
    "import numpy as np\n",
    "num_evals = 10\n",
    "eigenstate = np.array([1, 0, 0, 0])\n",
    "p_0, qc = iterative_phase_estimation(qubit_op, num_evals, eigenstate, selected_backend, num_qubits=2)\n",
    "print(p_0)"
   ]
  },
  {
   "cell_type": "code",
   "execution_count": 8,
   "metadata": {},
   "outputs": [
    {
     "name": "stdout",
     "output_type": "stream",
     "text": [
      "{'0': 1}\n",
      "{'0': 1}\n",
      "{'0': 1}\n",
      "{'1': 1}\n",
      "{'0': 1}\n",
      "{'0': 1}\n",
      "{'1': 1}\n",
      "{'0': 1}\n",
      "{'0': 1}\n",
      "{'0': 1}\n",
      "0.8\n"
     ]
    }
   ],
   "source": [
    "# New plan: Come up with a Hamiltonian that is easier to simulate.\n",
    "# Try idk XX or something.\n",
    "from qiskit.quantum_info import Operator, SparsePauliOp\n",
    "XX = Operator.from_label('XX')\n",
    "U = XX\n",
    "\n",
    "num_evals = 10\n",
    "eigenstate = np.array([1, 0, 0, 0])\n",
    "p_0, qc = iterative_phase_estimation(U, num_evals, eigenstate, selected_backend, num_qubits=2)\n",
    "print(p_0)"
   ]
  },
  {
   "cell_type": "code",
   "execution_count": 9,
   "metadata": {},
   "outputs": [
    {
     "data": {
      "image/png": "[encoded data removed]",
      "text/plain": [
       "<Figure size 621.941x367.889 with 1 Axes>"
      ]
     },
     "execution_count": 9,
     "metadata": {},
     "output_type": "execute_result"
    }
   ],
   "source": [
    "qc.draw('mpl')"
   ]
  }
 ],
 "metadata": {
  "kernelspec": {
   "display_name": "Python 3",
   "language": "python",
   "name": "python3"
  },
  "language_info": {
   "codemirror_mode": {
    "name": "ipython",
    "version": 3
   },
   "file_extension": ".py",
   "mimetype": "text/x-python",
   "name": "python",
   "nbconvert_exporter": "python",
   "pygments_lexer": "ipython3",
   "version": "3.10.4"
  }
 },
 "nbformat": 4,
 "nbformat_minor": 2
}
