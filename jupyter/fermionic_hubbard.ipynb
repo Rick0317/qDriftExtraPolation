{
 "cells": [
  {
   "cell_type": "code",
   "execution_count": 3,
   "metadata": {},
   "outputs": [
    {
     "data": {
      "text/plain": [
       "FermionicOp({'+_0 -_1': -1, '+_1 -_0': -1, '+_0 -_0 +_1 -_1': 1}, num_spin_orbitals=2, )"
      ]
     },
     "execution_count": 3,
     "metadata": {},
     "output_type": "execute_result"
    }
   ],
   "source": [
    "from qiskit_nature.second_q.operators import FermionicOp\n",
    "\n",
    "'''A FermionicOp represents a weighted sum of fermionic creation/annihilation operator terms. \n",
    "These terms are encoded as sparse labels, which are strings consisting of a space-separated \n",
    "list of expressions. Each expression must look like [+-]_<index>, where the <index> is a \n",
    "non-negative integer representing the index of the fermionic mode where the + (creation) \n",
    "or - (annihilation) operation is to be performed. The value of index is bound by the number of spin orbitals \n",
    "(num_spin_orbitals) of the operator '''\n",
    "\n",
    "# Define the one-body interactions (kinetic term)\n",
    "t = 1 # hopping term\n",
    "one_body_interactions = FermionicOp({\"+_0 -_1\": -t, \"+_1 -_0\": -t})\n",
    "\n",
    "# Define the two-body interactions (interaction term)\n",
    "U = 1 # Coulomb repulsion\n",
    "two_body_interactions = FermionicOp({\"+_0 -_0 +_1 -_1\": U})\n",
    "\n",
    "# Define the Hubbard Hamiltonian\n",
    "H = one_body_interactions + two_body_interactions\n",
    "\n",
    "H\n"
   ]
  },
  {
   "cell_type": "code",
   "execution_count": 2,
   "metadata": {},
   "outputs": [
    {
     "data": {
      "text/plain": [
       "SparsePauliOp(['YY', 'XX', 'II', 'ZI', 'IZ', 'ZZ'],\n",
       "              coeffs=[-0.5 +0.j, -0.5 +0.j,  0.25+0.j, -0.25+0.j, -0.25+0.j,  0.25+0.j])"
      ]
     },
     "execution_count": 2,
     "metadata": {},
     "output_type": "execute_result"
    }
   ],
   "source": [
    "# Convert Fermionic hamiltonian to pauli operators using the Jordan-Wigner transformation\n",
    "from qiskit_nature.second_q.mappers import JordanWignerMapper\n",
    "\n",
    "mapper = JordanWignerMapper()\n",
    "\n",
    "qubit_op = mapper.map(H)\n",
    "\n",
    "qubit_op"
   ]
  }
 ],
 "metadata": {
  "kernelspec": {
   "display_name": "Python 3",
   "language": "python",
   "name": "python3"
  },
  "language_info": {
   "codemirror_mode": {
    "name": "ipython",
    "version": 3
   },
   "file_extension": ".py",
   "mimetype": "text/x-python",
   "name": "python",
   "nbconvert_exporter": "python",
   "pygments_lexer": "ipython3",
   "version": "3.10.4"
  }
 },
 "nbformat": 4,
 "nbformat_minor": 2
}
