{
 "cells": [
  {
   "metadata": {},
   "cell_type": "markdown",
   "source": "# Manual QPE construction for Mock qDrift",
   "id": "d4b6a251ecc83a94"
  },
  {
   "metadata": {
    "ExecuteTime": {
     "end_time": "2024-07-18T21:35:38.556478Z",
     "start_time": "2024-07-18T21:35:37.371008Z"
    }
   },
   "cell_type": "code",
   "source": [
    "import numpy as np\n",
    "import scipy\n",
    "import math\n",
    "from scripts.algo.chebyshev import chebyshev_nodes, chebyshev_barycentric_interp\n",
    "import matplotlib.pyplot as plt"
   ],
   "id": "7ecc03a29702db65",
   "outputs": [],
   "execution_count": 1
  },
  {
   "cell_type": "code",
   "id": "initial_id",
   "metadata": {
    "collapsed": true,
    "ExecuteTime": {
     "end_time": "2024-07-18T21:35:38.561025Z",
     "start_time": "2024-07-18T21:35:38.557902Z"
    }
   },
   "source": [
    "U = 1\n",
    "t = 2\n",
    "a = U + t\n",
    "time = 1\n",
    "N = 5000\n",
    "hubbard = np.array([[U, -t], [-t, U]])\n",
    "nodes = chebyshev_nodes(20)[:10]\n",
    "print(nodes)"
   ],
   "outputs": [
    {
     "name": "stdout",
     "output_type": "stream",
     "text": [
      "[0.996917333733128, 0.9723699203976766, 0.9238795325112867, 0.8526401643540923, 0.7604059656000309, 0.6494480483301835, 0.5224985647159489, 0.38268343236508984, 0.23344536385590547, 0.078459095727845]\n"
     ]
    }
   ],
   "execution_count": 2
  },
  {
   "metadata": {},
   "cell_type": "code",
   "outputs": [],
   "execution_count": null,
   "source": "num_op = np.array([[1, 0], [0, 1]])",
   "id": "dce5d7dfef9066ee"
  },
  {
   "metadata": {
    "ExecuteTime": {
     "end_time": "2024-07-18T00:05:28.638319Z",
     "start_time": "2024-07-18T00:05:28.618308Z"
    }
   },
   "cell_type": "code",
   "source": [
    "u_term = scipy.linalg.expm((1j * a * time / N) * np.array([[1, 0], [0, 1]]))\n",
    "t_term = scipy.linalg.expm((1j * a * time / N) * np.array([[0, -1], [-1, 0]]))"
   ],
   "id": "ae22eab625b62559",
   "outputs": [],
   "execution_count": 80
  },
  {
   "metadata": {
    "ExecuteTime": {
     "end_time": "2024-07-18T00:05:29.107122Z",
     "start_time": "2024-07-18T00:05:29.102027Z"
    }
   },
   "cell_type": "code",
   "source": "print(u_term)",
   "id": "c9b57d7b0d75a1d2",
   "outputs": [
    {
     "name": "stdout",
     "output_type": "stream",
     "text": [
      "[[0.99999982+0.0006j 0.        +0.j    ]\n",
      " [0.        +0.j     0.99999982+0.0006j]]\n"
     ]
    }
   ],
   "execution_count": 81
  },
  {
   "metadata": {
    "ExecuteTime": {
     "end_time": "2024-07-18T00:05:29.659886Z",
     "start_time": "2024-07-18T00:05:29.639162Z"
    }
   },
   "cell_type": "code",
   "source": [
    "def phase_estimation(unitary, negative: bool):\n",
    "    \"\"\"\n",
    "    Quantum phase estimation\n",
    "    Args:\n",
    "        unitary: The unitary to use\n",
    "        negative: if True, we assume the phase is negative and apply -2pi \n",
    "    Returns: The phase of the unitary operator\n",
    "\n",
    "    \"\"\"\n",
    "    # Initial state  |00>\n",
    "    init_state = np.matrix([1, 0, 0, 0]).T\n",
    "    \n",
    "    # Hadamard gate\n",
    "    hd = (1/np.sqrt(2)) * np.array([[1, 1], [1, -1]])\n",
    "\n",
    "    state_1 = np.dot(np.kron(hd, hd), init_state)\n",
    "    \n",
    "    # Controlled unitary\n",
    "    c_unitary = np.zeros((4, 4), dtype = 'complex_')\n",
    "    c_unitary[0, 0] = 1\n",
    "    c_unitary[1, 1] = 1\n",
    "    c_unitary[2, 2] = unitary[0, 0]\n",
    "    c_unitary[2, 3] = unitary[0, 1]\n",
    "    c_unitary[3, 2] = unitary[1, 0]\n",
    "    c_unitary[3, 3] = unitary[1, 1]\n",
    "    \n",
    "    state_2 = np.dot(c_unitary, state_1)\n",
    "    state_3 = np.dot(np.kron(hd, np.identity(2)), state_2)\n",
    "    result = np.dot((1/ np.sqrt(2)) * np.matrix([1, 1, 0, 0]), state_3)\n",
    "    \n",
    "    # Probability of finding the first register at |0>\n",
    "    prob = np.linalg.norm(result)\n",
    "    \n",
    "    phase = 2 * np.arccos(prob)\n",
    "    if negative:\n",
    "        phase = 2 * np.arccos(-1 * prob) - 2 * np.pi\n",
    "    \n",
    "    return phase"
   ],
   "id": "7344d757d12205dc",
   "outputs": [],
   "execution_count": 82
  },
  {
   "metadata": {},
   "cell_type": "markdown",
   "source": "## Sample the phase estimation result",
   "id": "75d6f323eeab4046"
  },
  {
   "metadata": {
    "ExecuteTime": {
     "end_time": "2024-07-18T00:09:19.811147Z",
     "start_time": "2024-07-18T00:09:19.798364Z"
    }
   },
   "cell_type": "code",
   "source": "phase_estimation(u_term, False)",
   "id": "b1a6dbb30b7a8a5a",
   "outputs": [
    {
     "data": {
      "text/plain": [
       "0.0006000000019070561"
      ]
     },
     "execution_count": 91,
     "metadata": {},
     "output_type": "execute_result"
    }
   ],
   "execution_count": 91
  },
  {
   "metadata": {
    "ExecuteTime": {
     "end_time": "2024-07-18T00:09:32.692320Z",
     "start_time": "2024-07-18T00:09:32.683891Z"
    }
   },
   "cell_type": "code",
   "source": "phase_estimation(t_term, True)",
   "id": "4b0a632f3be5647d",
   "outputs": [
    {
     "data": {
      "text/plain": [
       "-0.0006000000019064089"
      ]
     },
     "execution_count": 92,
     "metadata": {},
     "output_type": "execute_result"
    }
   ],
   "execution_count": 92
  },
  {
   "metadata": {
    "ExecuteTime": {
     "end_time": "2024-07-18T00:12:40.792899Z",
     "start_time": "2024-07-18T00:11:44.866618Z"
    }
   },
   "cell_type": "code",
   "source": [
    "cheb_nodes = np.ceil(4000 / np.array(nodes))\n",
    "sample_result = []\n",
    "for node in cheb_nodes:\n",
    "    N = int(node)\n",
    "    average = 0\n",
    "    u_term = scipy.linalg.expm((1j * a * time / N) * np.array([[1, 0], [0, 1]]))\n",
    "    t_term = scipy.linalg.expm((1j * a * time / N) * np.array([[0, -1], [-1, 0]]))\n",
    "    for _ in range(10):\n",
    "        total = 0\n",
    "        result = []\n",
    "        for _ in range(N):\n",
    "            choice = np.random.choice(np.array([0, 1]), p=[U/(U+t), t/(U+t)])\n",
    "           \n",
    "            if choice == 0:\n",
    "                \n",
    "                phase_result = phase_estimation(u_term, False)\n",
    "                total += phase_result\n",
    "                result.append(0)\n",
    "            if choice == 1:\n",
    "                \n",
    "                phase_result = phase_estimation(t_term, True)\n",
    "                total += phase_result\n",
    "                result.append(1)\n",
    "        average += total\n",
    "    sample_result.append(average / 10)\n",
    "    \n",
    "        "
   ],
   "id": "4749e1b8189545ba",
   "outputs": [],
   "execution_count": 101
  },
  {
   "metadata": {
    "ExecuteTime": {
     "end_time": "2024-07-18T00:12:43.220014Z",
     "start_time": "2024-07-18T00:12:43.215922Z"
    }
   },
   "cell_type": "code",
   "source": "print(sample_result)",
   "id": "a5604f18a8f128c7",
   "outputs": [
    {
     "name": "stdout",
     "output_type": "stream",
     "text": [
      "[-1.0202840788464473, -1.0048614508456937, -1.0029561228008599, -0.990664964203015, -1.0053221864459478, -1.0169805256140316, -1.008542330456757, -1.0036353352442267, -0.9847913960539054, -1.0015304790371755]\n"
     ]
    }
   ],
   "execution_count": 102
  },
  {
   "metadata": {
    "ExecuteTime": {
     "end_time": "2024-07-18T00:18:18.470735Z",
     "start_time": "2024-07-18T00:18:18.452825Z"
    }
   },
   "cell_type": "code",
   "source": [
    "def f(x) :\n",
    "    index = sample_result.index(int(1/x))\n",
    "    return sample_result[index]"
   ],
   "id": "419f7aee67cb09c9",
   "outputs": [],
   "execution_count": 107
  },
  {
   "metadata": {
    "ExecuteTime": {
     "end_time": "2024-07-18T00:18:19.785982Z",
     "start_time": "2024-07-18T00:18:19.718624Z"
    }
   },
   "cell_type": "code",
   "source": "chebyshev_barycentric_interp(1/cheb_nodes, 10, f)",
   "id": "567ee8fb9c08eaf5",
   "outputs": [
    {
     "ename": "ValueError",
     "evalue": "1 is not in list",
     "output_type": "error",
     "traceback": [
      "\u001B[0;31m---------------------------------------------------------------------------\u001B[0m",
      "\u001B[0;31mValueError\u001B[0m                                Traceback (most recent call last)",
      "Cell \u001B[0;32mIn[108], line 1\u001B[0m\n\u001B[0;32m----> 1\u001B[0m \u001B[43mchebyshev_barycentric_interp\u001B[49m\u001B[43m(\u001B[49m\u001B[38;5;241;43m1\u001B[39;49m\u001B[38;5;241;43m/\u001B[39;49m\u001B[43mcheb_nodes\u001B[49m\u001B[43m,\u001B[49m\u001B[43m \u001B[49m\u001B[38;5;241;43m10\u001B[39;49m\u001B[43m,\u001B[49m\u001B[43m \u001B[49m\u001B[43mf\u001B[49m\u001B[43m)\u001B[49m\n",
      "File \u001B[0;32m~/PycharmProjects/qDriftExtrapolation/scripts/algo/chebyshev.py:38\u001B[0m, in \u001B[0;36mchebyshev_barycentric_interp\u001B[0;34m(x, n, f)\u001B[0m\n\u001B[1;32m     36\u001B[0m denom \u001B[38;5;241m=\u001B[39m np\u001B[38;5;241m.\u001B[39msum(terms)\n\u001B[1;32m     37\u001B[0m \u001B[38;5;28;01mfor\u001B[39;00m i \u001B[38;5;129;01min\u001B[39;00m \u001B[38;5;28mrange\u001B[39m(\u001B[38;5;28mlen\u001B[39m(terms)):\n\u001B[0;32m---> 38\u001B[0m     terms[i] \u001B[38;5;241m=\u001B[39m terms[i] \u001B[38;5;241m*\u001B[39m \u001B[43mf\u001B[49m\u001B[43m(\u001B[49m\u001B[43mnodes\u001B[49m\u001B[43m[\u001B[49m\u001B[43mi\u001B[49m\u001B[43m]\u001B[49m\u001B[43m)\u001B[49m\n\u001B[1;32m     39\u001B[0m numer \u001B[38;5;241m=\u001B[39m np\u001B[38;5;241m.\u001B[39msum(terms)\n\u001B[1;32m     40\u001B[0m \u001B[38;5;28;01mreturn\u001B[39;00m numer\u001B[38;5;241m/\u001B[39mdenom\n",
      "Cell \u001B[0;32mIn[107], line 2\u001B[0m, in \u001B[0;36mf\u001B[0;34m(x)\u001B[0m\n\u001B[1;32m      1\u001B[0m \u001B[38;5;28;01mdef\u001B[39;00m \u001B[38;5;21mf\u001B[39m(x) :\n\u001B[0;32m----> 2\u001B[0m     index \u001B[38;5;241m=\u001B[39m \u001B[43msample_result\u001B[49m\u001B[38;5;241;43m.\u001B[39;49m\u001B[43mindex\u001B[49m\u001B[43m(\u001B[49m\u001B[38;5;28;43mint\u001B[39;49m\u001B[43m(\u001B[49m\u001B[38;5;241;43m1\u001B[39;49m\u001B[38;5;241;43m/\u001B[39;49m\u001B[43mx\u001B[49m\u001B[43m)\u001B[49m\u001B[43m)\u001B[49m\n\u001B[1;32m      3\u001B[0m     \u001B[38;5;28;01mreturn\u001B[39;00m sample_result[index]\n",
      "\u001B[0;31mValueError\u001B[0m: 1 is not in list"
     ]
    }
   ],
   "execution_count": 108
  },
  {
   "metadata": {
    "ExecuteTime": {
     "end_time": "2024-07-18T00:18:55.275634Z",
     "start_time": "2024-07-18T00:18:55.256882Z"
    }
   },
   "cell_type": "code",
   "source": "1/cheb_nodes",
   "id": "4a4d1f94b13ed806",
   "outputs": [
    {
     "data": {
      "text/plain": [
       "array([2.49190132e-04, 2.43072436e-04, 2.30946882e-04, 2.13128730e-04,\n",
       "       1.90077932e-04, 1.62337662e-04, 1.30616510e-04, 9.56663159e-05,\n",
       "       5.83600817e-05, 1.96147660e-05])"
      ]
     },
     "execution_count": 110,
     "metadata": {},
     "output_type": "execute_result"
    }
   ],
   "execution_count": 110
  },
  {
   "metadata": {
    "ExecuteTime": {
     "end_time": "2024-07-18T00:27:57.461984Z",
     "start_time": "2024-07-18T00:27:57.371605Z"
    }
   },
   "cell_type": "code",
   "source": [
    "plt.plot(1/cheb_nodes, sample_result, 'ro')\n",
    "plt.xlabel('t/N')\n",
    "plt.ylabel('')"
   ],
   "id": "64d835a9a838706c",
   "outputs": [
    {
     "data": {
      "text/plain": [
       "[<matplotlib.lines.Line2D at 0x13173c8e0>]"
      ]
     },
     "execution_count": 112,
     "metadata": {},
     "output_type": "execute_result"
    },
    {
     "data": {
      "text/plain": [
       "<Figure size 640x480 with 1 Axes>"
      ],
      "image/png": "[encoded data removed]"
     },
     "metadata": {},
     "output_type": "display_data"
    }
   ],
   "execution_count": 112
  },
  {
   "metadata": {
    "ExecuteTime": {
     "end_time": "2024-07-18T00:18:24.991036Z",
     "start_time": "2024-07-18T00:18:24.934836Z"
    }
   },
   "cell_type": "code",
   "source": [
    "plt.plot(1/cheb_nodes,f(1/cheb_nodes))\n",
    "plt.plot(1/cheb_nodes, [chebyshev_barycentric_interp(x, 10, f) for x in 1/cheb_nodes])"
   ],
   "id": "9975c671602b4c6c",
   "outputs": [
    {
     "ename": "TypeError",
     "evalue": "only length-1 arrays can be converted to Python scalars",
     "output_type": "error",
     "traceback": [
      "\u001B[0;31m---------------------------------------------------------------------------\u001B[0m",
      "\u001B[0;31mTypeError\u001B[0m                                 Traceback (most recent call last)",
      "Cell \u001B[0;32mIn[109], line 1\u001B[0m\n\u001B[0;32m----> 1\u001B[0m plt\u001B[38;5;241m.\u001B[39mplot(\u001B[38;5;241m1\u001B[39m\u001B[38;5;241m/\u001B[39mcheb_nodes,\u001B[43mf\u001B[49m\u001B[43m(\u001B[49m\u001B[38;5;241;43m1\u001B[39;49m\u001B[38;5;241;43m/\u001B[39;49m\u001B[43mcheb_nodes\u001B[49m\u001B[43m)\u001B[49m)\n\u001B[1;32m      2\u001B[0m plt\u001B[38;5;241m.\u001B[39mplot(\u001B[38;5;241m1\u001B[39m\u001B[38;5;241m/\u001B[39mcheb_nodes, [chebyshev_barycentric_interp(x, \u001B[38;5;241m10\u001B[39m, f) \u001B[38;5;28;01mfor\u001B[39;00m x \u001B[38;5;129;01min\u001B[39;00m \u001B[38;5;241m1\u001B[39m\u001B[38;5;241m/\u001B[39mcheb_nodes])\n",
      "Cell \u001B[0;32mIn[107], line 2\u001B[0m, in \u001B[0;36mf\u001B[0;34m(x)\u001B[0m\n\u001B[1;32m      1\u001B[0m \u001B[38;5;28;01mdef\u001B[39;00m \u001B[38;5;21mf\u001B[39m(x) :\n\u001B[0;32m----> 2\u001B[0m     index \u001B[38;5;241m=\u001B[39m sample_result\u001B[38;5;241m.\u001B[39mindex(\u001B[38;5;28;43mint\u001B[39;49m\u001B[43m(\u001B[49m\u001B[38;5;241;43m1\u001B[39;49m\u001B[38;5;241;43m/\u001B[39;49m\u001B[43mx\u001B[49m\u001B[43m)\u001B[49m)\n\u001B[1;32m      3\u001B[0m     \u001B[38;5;28;01mreturn\u001B[39;00m sample_result[index]\n",
      "\u001B[0;31mTypeError\u001B[0m: only length-1 arrays can be converted to Python scalars"
     ]
    }
   ],
   "execution_count": 109
  },
  {
   "metadata": {
    "ExecuteTime": {
     "end_time": "2024-07-18T00:10:43.120226Z",
     "start_time": "2024-07-18T00:10:43.080518Z"
    }
   },
   "cell_type": "code",
   "source": [
    "average = 0\n",
    "N = \n",
    "u_term = scipy.linalg.expm((1j * a * time / N) * np.array([[1, 0], [0, 1]]))\n",
    "t_term = scipy.linalg.expm((1j * a * time / N) * np.array([[0, -1], [-1, 0]]))\n",
    "for _ in range(10):\n",
    "    total = 0\n",
    "    result = []\n",
    "    for _ in range(N):\n",
    "        choice = np.random.choice(np.array([0, 1]), p=[U/(U+t), t/(U+t)])\n",
    "       \n",
    "        if choice == 0:\n",
    "            \n",
    "            phase_result = phase_estimation(u_term, False)\n",
    "            total += phase_result\n",
    "            result.append(0)\n",
    "        if choice == 1:\n",
    "            \n",
    "            phase_result = phase_estimation(t_term, True)\n",
    "            total += phase_result\n",
    "            result.append(1)\n",
    "    average += total"
   ],
   "id": "c01be9376ee43950",
   "outputs": [],
   "execution_count": 97
  },
  {
   "metadata": {
    "ExecuteTime": {
     "end_time": "2024-07-18T00:10:43.444788Z",
     "start_time": "2024-07-18T00:10:43.442190Z"
    }
   },
   "cell_type": "code",
   "source": "print(average/10)",
   "id": "6834a7d808855b43",
   "outputs": [
    {
     "name": "stdout",
     "output_type": "stream",
     "text": [
      "-0.8800000000001947\n"
     ]
    }
   ],
   "execution_count": 98
  },
  {
   "metadata": {
    "ExecuteTime": {
     "end_time": "2024-07-18T00:00:20.211919Z",
     "start_time": "2024-07-18T00:00:20.205404Z"
    }
   },
   "cell_type": "code",
   "source": "print(sample_result)",
   "id": "2705e72aeb11601b",
   "outputs": [
    {
     "name": "stdout",
     "output_type": "stream",
     "text": [
      "[-0.8047200025559947, -0.8296800026352816, -0.8776800027877494, -0.9290400029508458, -1.0402800033041661, -1.2268800038968635, -1.5345600048741423, -2.096160006657959, -3.436800010916648, -10.203960032411944]\n"
     ]
    }
   ],
   "execution_count": 67
  },
  {
   "metadata": {
    "ExecuteTime": {
     "end_time": "2024-07-17T23:30:15.726662Z",
     "start_time": "2024-07-17T23:30:15.721940Z"
    }
   },
   "cell_type": "code",
   "source": [
    "# Checks the SAMPLE() distribution is correct\n",
    "print(result.count(0))"
   ],
   "id": "51ecf9b35040634e",
   "outputs": [
    {
     "name": "stdout",
     "output_type": "stream",
     "text": [
      "1693\n"
     ]
    }
   ],
   "execution_count": 43
  },
  {
   "metadata": {},
   "cell_type": "markdown",
   "source": "### Testing the phase estimation code",
   "id": "c42ffd4c0f2ab5f1"
  },
  {
   "metadata": {
    "ExecuteTime": {
     "end_time": "2024-07-18T00:08:19.991252Z",
     "start_time": "2024-07-18T00:08:19.956574Z"
    }
   },
   "cell_type": "code",
   "source": [
    "init_state = np.matrix([1, 0, 0, 0]).T\n",
    "hd = (1/np.sqrt(2)) * np.array([[1, 1], [1, -1]])\n",
    "state_1 = np.dot(np.kron(hd, hd), init_state)\n",
    "print(f\"state_1: {state_1}\")\n",
    "unitary = scipy.linalg.expm(-1j * np.pi/ 1000 * np.identity(2))\n",
    "# unitary = t_term\n",
    "c_unitary = np.zeros((4, 4), dtype = 'complex_')\n",
    "c_unitary[0, 0] = 1\n",
    "c_unitary[1, 1] = 1\n",
    "c_unitary[2, 2] = unitary[0, 0]\n",
    "c_unitary[2, 3] = unitary[0, 1]\n",
    "c_unitary[3, 2] = unitary[1, 0]\n",
    "c_unitary[3, 3] = unitary[1, 1]\n",
    "print(c_unitary)\n",
    "state_2 = np.dot(c_unitary, state_1)\n",
    "print(f\"state_2: {state_2}\")\n",
    "state_3 = np.dot(np.kron(hd, np.identity(2)), state_2)\n",
    "print(f\"state_3: {state_3}\")\n",
    "result = np.dot((1/ np.sqrt(2)) * np.matrix([1, 1, 0, 0]), state_3)\n",
    "print(result)\n",
    "prob = np.linalg.norm(result)\n",
    "print(prob)\n",
    "print(2 * np.arccos(-prob)-2*np.pi)\n",
    "print(math.degrees(2 * np.arccos(-prob))-360)"
   ],
   "id": "48434c8559d4da66",
   "outputs": [
    {
     "name": "stdout",
     "output_type": "stream",
     "text": [
      "state_1: [[0.5]\n",
      " [0.5]\n",
      " [0.5]\n",
      " [0.5]]\n",
      "[[1.        +0.j         0.        +0.j         0.        +0.j\n",
      "  0.        +0.j        ]\n",
      " [0.        +0.j         1.        +0.j         0.        +0.j\n",
      "  0.        +0.j        ]\n",
      " [0.        +0.j         0.        +0.j         0.99999507-0.00314159j\n",
      "  0.        +0.j        ]\n",
      " [0.        +0.j         0.        +0.j         0.        +0.j\n",
      "  0.99999507-0.00314159j]]\n",
      "state_2: [[0.5       +0.j        ]\n",
      " [0.5       +0.j        ]\n",
      " [0.49999753-0.00157079j]\n",
      " [0.49999753-0.00157079j]]\n",
      "state_3: [[7.07105036e-01-0.00111072j]\n",
      " [7.07105036e-01-0.00111072j]\n",
      " [1.74471461e-06+0.00111072j]\n",
      " [1.74471461e-06+0.00111072j]]\n",
      "[[0.99999753-0.00157079j]]\n",
      "0.9999987662997032\n",
      "-0.0031415926540265815\n",
      "-0.18000000002501793\n"
     ]
    }
   ],
   "execution_count": 90
  },
  {
   "metadata": {},
   "cell_type": "markdown",
   "source": "# Exact Diagonalization",
   "id": "ef99c1396f5f29be"
  },
  {
   "metadata": {
    "ExecuteTime": {
     "end_time": "2024-07-17T23:22:12.300506Z",
     "start_time": "2024-07-17T23:22:12.291707Z"
    }
   },
   "cell_type": "code",
   "source": [
    "a = np.array([[0, 1], [0, 0]])\n",
    "a_dag = np.array([[0, 0], [1, 0]])\n",
    "pauli_z = np.array([[1, 0], [0, -1]])"
   ],
   "id": "3fb0948bd01c6b42",
   "outputs": [],
   "execution_count": 16
  },
  {
   "metadata": {
    "ExecuteTime": {
     "end_time": "2024-07-17T23:25:43.948514Z",
     "start_time": "2024-07-17T23:25:43.942567Z"
    }
   },
   "cell_type": "code",
   "source": [
    "def t_term():\n",
    "    tensor = -2 * np.kron(a_dag, pauli_z) @ np.kron(np.eye(2), a)\n",
    "    return tensor + np.array(tensor).conj().T\n",
    "\n",
    "def u_term():\n",
    "    U = np.zeros((4, 4))\n",
    "    U += 1 * np.kron(np.eye(2), a_dag) @ np.kron(np.eye(2), a) \n",
    "    U += 1 * np.kron(a_dag, pauli_z) @ np.kron(a, pauli_z) \n",
    "    return U\n",
    "        \n",
    "def total_num_op():\n",
    "    U = np.zeros((4, 4))\n",
    "    U += 1 * np.kron(np.eye(2), a_dag) @ np.kron(np.eye(2), a) \n",
    "    U += 1 * np.kron(a_dag, pauli_z) @ np.kron(a, pauli_z) \n",
    "    return U"
   ],
   "id": "9678ba8c6e9275a9",
   "outputs": [],
   "execution_count": 31
  },
  {
   "metadata": {
    "ExecuteTime": {
     "end_time": "2024-07-17T23:25:44.112030Z",
     "start_time": "2024-07-17T23:25:44.109207Z"
    }
   },
   "cell_type": "code",
   "source": "hard_core_hubbard = t_term() + u_term()",
   "id": "c1ba3db45a6cec1e",
   "outputs": [],
   "execution_count": 32
  },
  {
   "metadata": {
    "ExecuteTime": {
     "end_time": "2024-07-17T23:25:44.376770Z",
     "start_time": "2024-07-17T23:25:44.374200Z"
    }
   },
   "cell_type": "code",
   "source": "print(hard_core_hubbard)",
   "id": "172e50d53d3ab12d",
   "outputs": [
    {
     "name": "stdout",
     "output_type": "stream",
     "text": [
      "[[ 0.  0.  0.  0.]\n",
      " [ 0.  1. -2.  0.]\n",
      " [ 0. -2.  1.  0.]\n",
      " [ 0.  0.  0.  2.]]\n"
     ]
    }
   ],
   "execution_count": 33
  },
  {
   "metadata": {
    "ExecuteTime": {
     "end_time": "2024-07-17T23:25:44.937860Z",
     "start_time": "2024-07-17T23:25:44.935114Z"
    }
   },
   "cell_type": "code",
   "source": "eigv, eigvc = scipy.linalg.eig(hard_core_hubbard)",
   "id": "91d056c179350e36",
   "outputs": [],
   "execution_count": 34
  },
  {
   "metadata": {
    "ExecuteTime": {
     "end_time": "2024-07-17T23:25:45.534279Z",
     "start_time": "2024-07-17T23:25:45.527365Z"
    }
   },
   "cell_type": "code",
   "source": "print(eigv)",
   "id": "db561a1d8988367a",
   "outputs": [
    {
     "name": "stdout",
     "output_type": "stream",
     "text": [
      "[ 3.+0.j -1.+0.j  0.+0.j  2.+0.j]\n"
     ]
    }
   ],
   "execution_count": 35
  },
  {
   "metadata": {
    "ExecuteTime": {
     "end_time": "2024-07-17T23:27:53.356012Z",
     "start_time": "2024-07-17T23:27:53.347357Z"
    }
   },
   "cell_type": "code",
   "source": "print(eigvc)s",
   "id": "8a5f5b3aa3ae5053",
   "outputs": [
    {
     "name": "stdout",
     "output_type": "stream",
     "text": [
      "[[ 0.          0.          1.          0.        ]\n",
      " [-0.70710678  0.70710678  0.          0.        ]\n",
      " [ 0.70710678  0.70710678  0.          0.        ]\n",
      " [ 0.          0.          0.          1.        ]]\n"
     ]
    }
   ],
   "execution_count": 36
  },
  {
   "metadata": {},
   "cell_type": "code",
   "outputs": [],
   "execution_count": null,
   "source": "",
   "id": "c60e3cb1ad5b7f13"
  }
 ],
 "metadata": {
  "kernelspec": {
   "display_name": "Python 3",
   "language": "python",
   "name": "python3"
  },
  "language_info": {
   "codemirror_mode": {
    "name": "ipython",
    "version": 2
   },
   "file_extension": ".py",
   "mimetype": "text/x-python",
   "name": "python",
   "nbconvert_exporter": "python",
   "pygments_lexer": "ipython2",
   "version": "2.7.6"
  }
 },
 "nbformat": 4,
 "nbformat_minor": 5
}
