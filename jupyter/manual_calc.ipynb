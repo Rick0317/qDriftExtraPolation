{
 "cells": [
  {
   "metadata": {},
   "cell_type": "markdown",
   "source": "# Manual QPE construction for Mock qDrift",
   "id": "d4b6a251ecc83a94"
  },
  {
   "metadata": {
    "ExecuteTime": {
     "end_time": "2024-07-12T01:24:11.612819Z",
     "start_time": "2024-07-12T01:24:11.606982Z"
    }
   },
   "cell_type": "code",
   "source": [
    "import numpy as np\n",
    "import scipy\n",
    "import math"
   ],
   "id": "7ecc03a29702db65",
   "outputs": [],
   "execution_count": 200
  },
  {
   "cell_type": "code",
   "id": "initial_id",
   "metadata": {
    "collapsed": true,
    "ExecuteTime": {
     "end_time": "2024-07-12T01:24:11.941105Z",
     "start_time": "2024-07-12T01:24:11.936449Z"
    }
   },
   "source": [
    "U = 2\n",
    "t = 1\n",
    "a = U + t\n",
    "time = 1\n",
    "N = 10000\n",
    "hubbard = np.array([[U, -t], [-t, U]])\n"
   ],
   "outputs": [],
   "execution_count": 201
  },
  {
   "metadata": {
    "ExecuteTime": {
     "end_time": "2024-07-12T01:24:12.330982Z",
     "start_time": "2024-07-12T01:24:12.306605Z"
    }
   },
   "cell_type": "code",
   "source": [
    "u_term = scipy.linalg.expm((1j * a * time / N) * np.array([[1, 0], [0, 1]]))\n",
    "t_term = scipy.linalg.expm((1j * a * time / N) * np.array([[0, -1], [-1, 0]]))"
   ],
   "id": "ae22eab625b62559",
   "outputs": [],
   "execution_count": 202
  },
  {
   "metadata": {
    "ExecuteTime": {
     "end_time": "2024-07-12T01:24:12.530612Z",
     "start_time": "2024-07-12T01:24:12.526942Z"
    }
   },
   "cell_type": "code",
   "source": "print(u_term)",
   "id": "c9b57d7b0d75a1d2",
   "outputs": [
    {
     "name": "stdout",
     "output_type": "stream",
     "text": [
      "[[0.99999996+0.0003j 0.        +0.j    ]\n",
      " [0.        +0.j     0.99999996+0.0003j]]\n"
     ]
    }
   ],
   "execution_count": 203
  },
  {
   "metadata": {
    "ExecuteTime": {
     "end_time": "2024-07-12T01:25:35.662363Z",
     "start_time": "2024-07-12T01:25:35.650879Z"
    }
   },
   "cell_type": "code",
   "source": [
    "def phase_estimation(unitary, negative: bool):\n",
    "    \"\"\"\n",
    "    Quantum phase estimation\n",
    "    Args:\n",
    "        unitary: The unitary to use\n",
    "        negative: if True, we assume the phase is negative and apply -2pi \n",
    "    Returns: The phase of the unitary operator\n",
    "\n",
    "    \"\"\"\n",
    "    init_state = np.matrix([1, 0, 0, 0]).T\n",
    "    hd = (1/np.sqrt(2)) * np.array([[1, 1], [1, -1]])\n",
    "    state_1 = np.dot(np.kron(hd, hd), init_state)\n",
    "    \n",
    "    c_unitary = np.zeros((4, 4), dtype = 'complex_')\n",
    "    c_unitary[0, 0] = 1\n",
    "    c_unitary[1, 1] = 1\n",
    "    c_unitary[2, 2] = unitary[0, 0]\n",
    "    c_unitary[2, 3] = unitary[0, 1]\n",
    "    c_unitary[3, 2] = unitary[1, 0]\n",
    "    c_unitary[3, 3] = unitary[1, 1]\n",
    "    \n",
    "    state_2 = np.dot(c_unitary, state_1)\n",
    "    state_3 = np.dot(np.kron(hd, np.identity(2)), state_2)\n",
    "    result = np.dot((1/ np.sqrt(2)) * np.matrix([1, 1, 0, 0]), state_3)\n",
    "    prob = np.linalg.norm(result)\n",
    "    phase = 2 * np.arccos(prob)\n",
    "    if negative:\n",
    "        phase = 2 * np.arccos(-1 * prob) - 2 * np.pi\n",
    "    \n",
    "    return phase"
   ],
   "id": "7344d757d12205dc",
   "outputs": [],
   "execution_count": 208
  },
  {
   "metadata": {},
   "cell_type": "markdown",
   "source": "## Sample the phase estimation result",
   "id": "75d6f323eeab4046"
  },
  {
   "metadata": {
    "ExecuteTime": {
     "end_time": "2024-07-12T01:25:53.747974Z",
     "start_time": "2024-07-12T01:25:53.115538Z"
    }
   },
   "cell_type": "code",
   "source": [
    "total = 0\n",
    "result = []\n",
    "for _ in range(N):\n",
    "    choice = np.random.choice(np.array([0, 1]), p=[U/(U+t), t/(U+t)])\n",
    "   \n",
    "    if choice == 0:\n",
    "        \n",
    "        phase_result = phase_estimation(u_term, False)\n",
    "        total += phase_result\n",
    "        result.append(0)\n",
    "    if choice == 1:\n",
    "        \n",
    "        phase_result = phase_estimation(t_term, True)\n",
    "        total += phase_result\n",
    "        result.append(1)\n",
    "        \n",
    "print(total)\n",
    "    \n",
    "        "
   ],
   "id": "4749e1b8189545ba",
   "outputs": [
    {
     "name": "stdout",
     "output_type": "stream",
     "text": [
      "1.0002000127042998\n"
     ]
    }
   ],
   "execution_count": 211
  },
  {
   "metadata": {
    "ExecuteTime": {
     "end_time": "2024-07-12T01:28:51.184715Z",
     "start_time": "2024-07-12T01:28:51.168632Z"
    }
   },
   "cell_type": "code",
   "source": [
    "# Checks the SAMPLE() distribution is correct\n",
    "print(result.count(0))"
   ],
   "id": "51ecf9b35040634e",
   "outputs": [
    {
     "name": "stdout",
     "output_type": "stream",
     "text": [
      "6667\n"
     ]
    }
   ],
   "execution_count": 212
  },
  {
   "metadata": {},
   "cell_type": "markdown",
   "source": "### Testing the phase estimation code",
   "id": "c42ffd4c0f2ab5f1"
  },
  {
   "metadata": {
    "ExecuteTime": {
     "end_time": "2024-07-12T00:47:18.491492Z",
     "start_time": "2024-07-12T00:47:18.479230Z"
    }
   },
   "cell_type": "code",
   "source": [
    "init_state = np.matrix([1, 0, 0, 0]).T\n",
    "hd = (1/np.sqrt(2)) * np.array([[1, 1], [1, -1]])\n",
    "state_1 = np.dot(np.kron(hd, hd), init_state)\n",
    "print(f\"state_1: {state_1}\")\n",
    "unitary = scipy.linalg.expm(-1j * np.pi/ 1000 * np.identity(2))\n",
    "# unitary = t_term\n",
    "c_unitary = np.zeros((4, 4), dtype = 'complex_')\n",
    "c_unitary[0, 0] = 1\n",
    "c_unitary[1, 1] = 1\n",
    "c_unitary[2, 2] = unitary[0, 0]\n",
    "c_unitary[2, 3] = unitary[0, 1]\n",
    "c_unitary[3, 2] = unitary[1, 0]\n",
    "c_unitary[3, 3] = unitary[1, 1]\n",
    "print(c_unitary)\n",
    "state_2 = np.dot(c_unitary, state_1)\n",
    "print(f\"state_2: {state_2}\")\n",
    "state_3 = np.dot(np.kron(hd, np.identity(2)), state_2)\n",
    "print(f\"state_3: {state_3}\")\n",
    "result = np.dot((1/ np.sqrt(2)) * np.matrix([1, 1, 0, 0]), state_3)\n",
    "print(result)\n",
    "prob = np.linalg.norm(result)\n",
    "print(prob)\n",
    "print(2 * np.arccos(-prob)-2*np.pi)\n",
    "print(math.degrees(2 * np.arccos(-prob))-360)"
   ],
   "id": "48434c8559d4da66",
   "outputs": [
    {
     "name": "stdout",
     "output_type": "stream",
     "text": [
      "state_1: [[0.5]\n",
      " [0.5]\n",
      " [0.5]\n",
      " [0.5]]\n",
      "[[1.        +0.j         0.        +0.j         0.        +0.j\n",
      "  0.        +0.j        ]\n",
      " [0.        +0.j         1.        +0.j         0.        +0.j\n",
      "  0.        +0.j        ]\n",
      " [0.        +0.j         0.        +0.j         0.99999507-0.00314159j\n",
      "  0.        +0.j        ]\n",
      " [0.        +0.j         0.        +0.j         0.        +0.j\n",
      "  0.99999507-0.00314159j]]\n",
      "state_2: [[0.5       +0.j        ]\n",
      " [0.5       +0.j        ]\n",
      " [0.49999753-0.00157079j]\n",
      " [0.49999753-0.00157079j]]\n",
      "state_3: [[7.07105036e-01-0.00111072j]\n",
      " [7.07105036e-01-0.00111072j]\n",
      " [1.74471461e-06+0.00111072j]\n",
      " [1.74471461e-06+0.00111072j]]\n",
      "[[0.99999753-0.00157079j]]\n",
      "0.9999987662997032\n",
      "-0.0031415926540265815\n",
      "-0.18000000002501793\n"
     ]
    }
   ],
   "execution_count": 196
  }
 ],
 "metadata": {
  "kernelspec": {
   "display_name": "Python 3",
   "language": "python",
   "name": "python3"
  },
  "language_info": {
   "codemirror_mode": {
    "name": "ipython",
    "version": 2
   },
   "file_extension": ".py",
   "mimetype": "text/x-python",
   "name": "python",
   "nbconvert_exporter": "python",
   "pygments_lexer": "ipython2",
   "version": "2.7.6"
  }
 },
 "nbformat": 4,
 "nbformat_minor": 5
}
