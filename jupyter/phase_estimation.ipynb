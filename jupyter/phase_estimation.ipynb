{
 "cells": [
  {
   "cell_type": "code",
   "id": "initial_id",
   "metadata": {
    "collapsed": true,
    "ExecuteTime": {
     "end_time": "2024-06-29T16:04:37.827090Z",
     "start_time": "2024-06-29T16:04:37.821741Z"
    }
   },
   "source": [
    "from qiskit import ClassicalRegister, transpile, QuantumCircuit\n",
    "from qiskit.circuit.library import PhaseEstimation, QFT\n",
    "from qiskit_ibm_runtime import SamplerV2\n",
    "from qiskit_ibm_runtime.fake_provider import FakeManilaV2\n",
    "from qiskit.circuit.library import UnitaryGate\n",
    "import math\n",
    "import numpy as np"
   ],
   "outputs": [],
   "execution_count": 76
  },
  {
   "metadata": {
    "ExecuteTime": {
     "end_time": "2024-06-29T16:11:33.897500Z",
     "start_time": "2024-06-29T16:11:33.871932Z"
    }
   },
   "cell_type": "code",
   "source": [
    "def phase_estimation(num_eval_qubits, unitary):\n",
    "    \"\"\"\n",
    "    Phase estimation of the quantum state.\n",
    "    :param total_qubits: \n",
    "    :param num_eval_qubits: \n",
    "    :param unitary: \n",
    "    :return: \n",
    "    \"\"\"\n",
    "    \n",
    "    backend = FakeManilaV2()\n",
    "    \n",
    "    cl_register = ClassicalRegister(num_eval_qubits, \"cl1\")\n",
    "    unitary_circuit = UnitaryGate(unitary)\n",
    "    pe_circuit = PhaseEstimation(num_eval_qubits, unitary_circuit, iqft=None, name='QPE')\n",
    "    pe_circuit.add_register(cl_register)\n",
    "    transpiled_circuit = transpile(pe_circuit, backend)\n",
    "    transpiled_circuit.measure(range(num_eval_qubits), cl_register)\n",
    "    \n",
    "    sampler = SamplerV2(backend)\n",
    "    \n",
    "    job = sampler.run([transpiled_circuit])\n",
    "\n",
    "    result = job.result()[0]\n",
    "    \n",
    "    return result\n",
    "\n",
    "def manual_phase_estimation(num_eval_qubits, unitary, state_qubits, state_prep):\n",
    "    \"\"\"\n",
    "    Phase estimation with manually constructed circuit\n",
    "    Args:\n",
    "        num_eval_qubits: Number of evaluation qubits with initial state 0\n",
    "        unitary: The unitary operator\n",
    "        state_qubits: The number of qubits for preparing the state\n",
    "        state_prep: The preparation circuit of the state\n",
    "\n",
    "    Returns: DataBin object of the result\n",
    "\n",
    "    \"\"\"\n",
    "    backend = FakeManilaV2()\n",
    "    unitary_circuit = UnitaryGate(unitary)\n",
    "    controlled_u = unitary_circuit.control(1)\n",
    "    t = num_eval_qubits\n",
    "    qpe = QuantumCircuit(t + state_qubits, num_eval_qubits)\n",
    "    qpe.append(state_prep, [t + i for i in range(state_qubits)])\n",
    "    for qubit in range(t):\n",
    "        qpe.h(qubit)\n",
    "\n",
    "    repetitions = 1\n",
    "    for counting_qubit in range(t):\n",
    "        for i in range(repetitions):\n",
    "            qpe.append(controlled_u, [counting_qubit, t])\n",
    "            # qpe.cp(math.pi/8, counting_qubit, t)\n",
    "        repetitions *= 2\n",
    "\n",
    "    myQft = QFT(num_qubits=t, do_swaps=True, inverse=True, insert_barriers=True,\n",
    "                name=\"myQFT\")\n",
    "    qpe.append(myQft, range(num_eval_qubits))\n",
    "\n",
    "    for n in range(num_eval_qubits):\n",
    "        qpe.measure(n, n)\n",
    "\n",
    "    qpe.draw()\n",
    "\n",
    "    transpiled_circuit = transpile(qpe, backend)\n",
    "    sampler = SamplerV2(backend)\n",
    "\n",
    "    job = sampler.run([transpiled_circuit])\n",
    "\n",
    "    result = job.result()[0]\n",
    "    print(qpe)\n",
    "\n",
    "    return result"
   ],
   "id": "720135d68fa4cc04",
   "outputs": [],
   "execution_count": 105
  },
  {
   "metadata": {
    "ExecuteTime": {
     "end_time": "2024-06-29T16:23:55.518504Z",
     "start_time": "2024-06-29T16:23:55.410681Z"
    }
   },
   "cell_type": "code",
   "source": [
    "num_eval_qubits = 2\n",
    "cl_register = ClassicalRegister(num_eval_qubits, \"cl1\")\n",
    "unitary = np.array([[1, 0], [0, np.exp(np.pi * 1j / 8)]])\n",
    "unitary_circuit = UnitaryGate(unitary)\n",
    "pe_circuit = PhaseEstimation(num_eval_qubits, unitary_circuit, iqft=None, name='QPE')\n",
    "pe_circuit.add_register(cl_register)\n",
    "pe_circuit.measure(range(num_eval_qubits), cl_register)\n",
    "\n",
    "pe_circuit.draw(\"mpl\")\n",
    "\n",
    "print(pe_circuit)"
   ],
   "id": "492112b000f4f964",
   "outputs": [
    {
     "name": "stdout",
     "output_type": "stream",
     "text": [
      "        ┌──────┐┌─┐   \n",
      "eval_0: ┤0     ├┤M├───\n",
      "        │      │└╥┘┌─┐\n",
      "eval_1: ┤1 QPE ├─╫─┤M├\n",
      "        │      │ ║ └╥┘\n",
      "     q: ┤2     ├─╫──╫─\n",
      "        └──────┘ ║  ║ \n",
      " cl1: 2/═════════╩══╩═\n",
      "                 0  1 \n"
     ]
    }
   ],
   "execution_count": 118
  },
  {
   "metadata": {
    "ExecuteTime": {
     "end_time": "2024-06-29T16:23:57.168946Z",
     "start_time": "2024-06-29T16:23:57.074351Z"
    }
   },
   "cell_type": "code",
   "source": "pub_result = phase_estimation(num_eval_qubits, unitary)",
   "id": "5a993e5e6718c723",
   "outputs": [
    {
     "name": "stderr",
     "output_type": "stream",
     "text": [
      "/Users/rick/PycharmProjects/qDriftExtrapolation/.venv/lib/python3.9/site-packages/qiskit_ibm_runtime/fake_provider/fake_backend.py:366: RuntimeWarning: Aer not found, using qiskit.BasicSimulator and no noise.\n",
      "  warnings.warn(\n"
     ]
    }
   ],
   "execution_count": 119
  },
  {
   "metadata": {
    "ExecuteTime": {
     "end_time": "2024-06-29T16:23:57.510729Z",
     "start_time": "2024-06-29T16:23:57.506212Z"
    }
   },
   "cell_type": "code",
   "source": "pub_result.data.cl1.array",
   "id": "ab9974d2c9d66361",
   "outputs": [
    {
     "data": {
      "text/plain": [
       "array([[0],\n",
       "       [0],\n",
       "       [0],\n",
       "       ...,\n",
       "       [0],\n",
       "       [0],\n",
       "       [0]], dtype=uint8)"
      ]
     },
     "execution_count": 120,
     "metadata": {},
     "output_type": "execute_result"
    }
   ],
   "execution_count": 120
  },
  {
   "metadata": {
    "ExecuteTime": {
     "end_time": "2024-06-29T16:23:59.038327Z",
     "start_time": "2024-06-29T16:23:58.963553Z"
    }
   },
   "cell_type": "code",
   "source": [
    "state_qubits = 1\n",
    "state_prep = QuantumCircuit(state_qubits)\n",
    "state_prep.x(0)\n",
    "manual_phase_estimation(3, unitary, state_qubits, state_prep).data.c.array"
   ],
   "id": "a208d091b8549414",
   "outputs": [
    {
     "name": "stdout",
     "output_type": "stream",
     "text": [
      "     ┌───┐                                                                  »\n",
      "q_0: ┤ H ├─────■────────────────────────────────────────────────────────────»\n",
      "     ├───┤     │                                                            »\n",
      "q_1: ┤ H ├─────┼──────────■──────────■──────────────────────────────────────»\n",
      "     ├───┤     │          │          │                                      »\n",
      "q_2: ┤ H ├─────┼──────────┼──────────┼──────────■──────────■──────────■─────»\n",
      "     ├───┤┌────┴────┐┌────┴────┐┌────┴────┐┌────┴────┐┌────┴────┐┌────┴────┐»\n",
      "q_3: ┤ X ├┤ Unitary ├┤ Unitary ├┤ Unitary ├┤ Unitary ├┤ Unitary ├┤ Unitary ├»\n",
      "     └───┘└─────────┘└─────────┘└─────────┘└─────────┘└─────────┘└─────────┘»\n",
      "c: 3/═══════════════════════════════════════════════════════════════════════»\n",
      "                                                                            »\n",
      "«                ┌────────┐┌─┐      \n",
      "«q_0: ───────────┤0       ├┤M├──────\n",
      "«                │        │└╥┘┌─┐   \n",
      "«q_1: ───────────┤1 myQFT ├─╫─┤M├───\n",
      "«                │        │ ║ └╥┘┌─┐\n",
      "«q_2: ─────■─────┤2       ├─╫──╫─┤M├\n",
      "«     ┌────┴────┐└────────┘ ║  ║ └╥┘\n",
      "«q_3: ┤ Unitary ├───────────╫──╫──╫─\n",
      "«     └─────────┘           ║  ║  ║ \n",
      "«c: 3/══════════════════════╩══╩══╩═\n",
      "«                           0  1  2 \n"
     ]
    },
    {
     "name": "stderr",
     "output_type": "stream",
     "text": [
      "/Users/rick/PycharmProjects/qDriftExtrapolation/.venv/lib/python3.9/site-packages/qiskit_ibm_runtime/fake_provider/fake_backend.py:366: RuntimeWarning: Aer not found, using qiskit.BasicSimulator and no noise.\n",
      "  warnings.warn(\n"
     ]
    },
    {
     "data": {
      "text/plain": [
       "array([[1],\n",
       "       [1],\n",
       "       [1],\n",
       "       ...,\n",
       "       [0],\n",
       "       [0],\n",
       "       [1]], dtype=uint8)"
      ]
     },
     "execution_count": 121,
     "metadata": {},
     "output_type": "execute_result"
    }
   ],
   "execution_count": 121
  },
  {
   "metadata": {
    "ExecuteTime": {
     "end_time": "2024-06-29T16:11:45.364460Z",
     "start_time": "2024-06-29T16:11:45.360900Z"
    }
   },
   "cell_type": "code",
   "source": "",
   "id": "6d659e9685f5e87b",
   "outputs": [],
   "execution_count": 109
  }
 ],
 "metadata": {
  "kernelspec": {
   "display_name": "Python 3",
   "language": "python",
   "name": "python3"
  },
  "language_info": {
   "codemirror_mode": {
    "name": "ipython",
    "version": 2
   },
   "file_extension": ".py",
   "mimetype": "text/x-python",
   "name": "python",
   "nbconvert_exporter": "python",
   "pygments_lexer": "ipython2",
   "version": "2.7.6"
  }
 },
 "nbformat": 4,
 "nbformat_minor": 5
}
