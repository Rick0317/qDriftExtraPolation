{
 "cells": [
  {
   "cell_type": "code",
   "id": "initial_id",
   "metadata": {
    "collapsed": true,
    "ExecuteTime": {
     "end_time": "2024-07-18T23:14:08.639186Z",
     "start_time": "2024-07-18T23:14:08.525106Z"
    }
   },
   "source": [
    "from scripts.algo.chebyshev import chebyshev_nodes, chebyshev_barycentric_interp\n",
    "import scipy\n",
    "from qiskit_algorithms import NumPyEigensolver\n",
    "from scripts.algo.qdrift import qdrift\n",
    "from scripts.database import DataManager\n",
    "\n",
    "if __name__ == \"__main__\":\n",
    "    data = DataManager(\"../data\")  # Create DataManager instance\n",
    "\n",
    "    ld = data.load('hubbard', \"h_2\")  # load the hubbard model\n",
    "    \n",
    "    for N in range(2, 10, 2):\n",
    "        nodes = chebyshev_nodes(N)\n",
    "        h_list, v_list = qdrift(ld, N)\n",
    "        \n",
    "        eigensolver = NumPyEigensolver()\n",
    "        exact_eigenvalues, eigenvectors = scipy.linalg.eig(h)\n",
    "        "
   ],
   "outputs": [
    {
     "name": "stdout",
     "output_type": "stream",
     "text": [
      "Data loaded from ../data\\hubbard/h_2.pkl\n"
     ]
    }
   ],
   "execution_count": 2
  },
  {
   "metadata": {},
   "cell_type": "code",
   "outputs": [],
   "execution_count": null,
   "source": "",
   "id": "92cfa943535574d0"
  }
 ],
 "metadata": {
  "kernelspec": {
   "display_name": "Python 3",
   "language": "python",
   "name": "python3"
  },
  "language_info": {
   "codemirror_mode": {
    "name": "ipython",
    "version": 2
   },
   "file_extension": ".py",
   "mimetype": "text/x-python",
   "name": "python",
   "nbconvert_exporter": "python",
   "pygments_lexer": "ipython2",
   "version": "2.7.6"
  }
 },
 "nbformat": 4,
 "nbformat_minor": 5
}
